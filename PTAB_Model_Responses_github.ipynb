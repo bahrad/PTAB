{
  "cells": [
    {
      "cell_type": "markdown",
      "metadata": {
        "id": "view-in-github",
        "colab_type": "text"
      },
      "source": [
        "<a href=\"https://colab.research.google.com/github/bahrad/PTAB/blob/master/PTAB_Model_Responses_github.ipynb\" target=\"_parent\"><img src=\"https://colab.research.google.com/assets/colab-badge.svg\" alt=\"Open In Colab\"/></a>"
      ]
    },
    {
      "cell_type": "markdown",
      "metadata": {
        "id": "p-aVXISlSKYH"
      },
      "source": [
        "#Initialization"
      ]
    },
    {
      "cell_type": "markdown",
      "metadata": {
        "id": "wOFk8JfaSMSV"
      },
      "source": [
        "##Imports"
      ]
    },
    {
      "cell_type": "code",
      "execution_count": null,
      "metadata": {
        "id": "ESf61HRPSERn"
      },
      "outputs": [],
      "source": [
        "%tensorflow_version 2.x\n",
        "\n",
        "%xmode Context\n",
        "# Verbose\n",
        "\n",
        "import tensorflow as tf\n",
        "from tensorflow import keras\n",
        "import numpy as np\n",
        "import pandas as pd\n",
        "import matplotlib.pyplot as plt\n",
        "import pickle\n",
        "import os\n",
        "import itertools\n",
        "\n",
        "from collections import Counter, defaultdict\n",
        "import random\n",
        "from pandas import DataFrame\n",
        "import datetime\n",
        "from datetime import datetime\n",
        "import dateutil\n",
        "from dateutil.parser import parse as dateparse\n",
        "from tqdm.notebook import tqdm\n",
        "import time\n",
        "\n",
        "import xgboost as xgb\n",
        "\n",
        "import sklearn as sk\n",
        "from sklearn.preprocessing import MultiLabelBinarizer, QuantileTransformer, OneHotEncoder, StandardScaler\n",
        "from sklearn.model_selection import train_test_split, StratifiedKFold, RandomizedSearchCV\n",
        "from sklearn.model_selection import ShuffleSplit, StratifiedShuffleSplit\n",
        "from sklearn.linear_model import LogisticRegression\n",
        "import sklearn.metrics\n",
        "from sklearn.metrics import accuracy_score,classification_report, make_scorer, balanced_accuracy_score, f1_score, coverage_error, roc_auc_score, confusion_matrix, plot_confusion_matrix\n",
        "from sklearn.cluster import KMeans\n",
        "from sklearn.decomposition import PCA\n",
        "from sklearn.utils import resample, shuffle\n",
        "from sklearn.base import BaseEstimator, ClassifierMixin, TransformerMixin\n",
        "from sklearn.neighbors import NearestNeighbors\n",
        "from sklearn.manifold import TSNE\n",
        "from sklearn.utils import class_weight\n",
        "\n",
        "from sklearn.feature_extraction.text import TfidfVectorizer\n",
        "\n",
        "from imblearn.over_sampling import SMOTE, RandomOverSampler, ADASYN, BorderlineSMOTE\n",
        "from imblearn.under_sampling import RandomUnderSampler, EditedNearestNeighbours, CondensedNearestNeighbour, AllKNN\n",
        "from imblearn.combine import SMOTEENN, SMOTETomek\n",
        "from imblearn.pipeline import make_pipeline,Pipeline\n",
        "\n",
        "from tensorflow.keras.preprocessing.text import Tokenizer\n",
        "from tensorflow.keras.preprocessing.sequence import pad_sequences\n",
        "\n",
        "import string\n",
        "import re\n",
        "# import unicodedata\n",
        "\n",
        "import nltk\n",
        "nltk.download('stopwords')\n",
        "from nltk.corpus import stopwords\n",
        "STOPWORDS = set(stopwords.words('english'))\n",
        "\n",
        "nltk.download('averaged_perceptron_tagger')\n",
        "nltk.download('wordnet')\n",
        "nltk.download('punkt')\n",
        "\n",
        "!pip install lime\n",
        "import lime\n",
        "from lime import lime_text\n",
        "from lime.lime_text import LimeTextExplainer\n",
        "from lime.explanation import Explanation"
      ]
    },
    {
      "cell_type": "code",
      "execution_count": null,
      "metadata": {
        "id": "8KTO164A7t1G"
      },
      "outputs": [],
      "source": [
        "# COMMENT OUT FOR PUBLIC CODE\n",
        "from google.colab import drive, files\n",
        "# drive.mount('/content/drive')\n",
        "\n",
        "# FILELOC = \"DATA/\""
      ]
    },
    {
      "cell_type": "code",
      "execution_count": null,
      "metadata": {
        "id": "Xvw4VK92r4-b"
      },
      "outputs": [],
      "source": [
        "try:\n",
        "    tpu = tf.distribute.cluster_resolver.TPUClusterResolver()  # TPU detection\n",
        "    print('Running on TPU ', tpu.cluster_spec().as_dict()['worker'])\n",
        "    tf.config.experimental_connect_to_cluster(tpu)\n",
        "    tf.tpu.experimental.initialize_tpu_system(tpu)\n",
        "    tpu_strategy = tf.distribute.TPUStrategy(tpu)\n",
        "    tpu_env=True\n",
        "except ValueError:\n",
        "    print('Not connected to a TPU runtime.')\n",
        "    tpu_env=False"
      ]
    },
    {
      "cell_type": "markdown",
      "metadata": {
        "id": "oSiHsBoY4_bv"
      },
      "source": [
        "#Functions"
      ]
    },
    {
      "cell_type": "markdown",
      "metadata": {
        "id": "E3qcPlglEzjC"
      },
      "source": [
        "##Define Models"
      ]
    },
    {
      "cell_type": "code",
      "execution_count": null,
      "metadata": {
        "id": "Va27pqfoegI_"
      },
      "outputs": [],
      "source": [
        "def EmbedNN(Params):\n",
        "\n",
        "    inpTensor = keras.Input(shape=(Params['text_length'],))\n",
        "    \n",
        "\n",
        "    \n",
        "    if Params['pretrained_embeddings']:\n",
        "        embedding = keras.layers.Embedding(Params['vocab_size'],\n",
        "                                           Params['embedding_dim'],\n",
        "                                           weights=[Params['embeddings']],\n",
        "                                           input_length=Params['text_length'],\n",
        "                                           mask_zero=True,\n",
        "                                           trainable=False,\n",
        "                                           )        \n",
        "    else:\n",
        "        embedding = keras.layers.Embedding(Params['vocab_size'],\n",
        "                                           Params['embedding_dim'],\n",
        "                                           mask_zero=True,\n",
        "                                           trainable=True,\n",
        "                                           name='embedding',\n",
        "                                           )\n",
        "    x = embedding(inpTensor)\n",
        "\n",
        "    convs = []\n",
        "    filter_sizes = list(range(Params['min_filter_size'],Params['max_filter_size']+1))\n",
        "    for filter_size in filter_sizes:\n",
        "        l_conv = keras.layers.Conv1D(filters=Params['num_filters'], \n",
        "                        kernel_size=filter_size,\n",
        "                        kernel_regularizer=keras.regularizers.l2(Params['kernel_L2_reg']),\n",
        "                        activation='relu')(x)\n",
        "        h = keras.layers.TimeDistributed(keras.layers.Dense(Params['num_filters'],\n",
        "                                                            activation='tanh'))(l_conv)\n",
        "        attention = keras.layers.TimeDistributed(keras.layers.Dense(1, activation='tanh'))(h)\n",
        "        attention = keras.layers.Flatten()(attention)  \n",
        "        attention = keras.layers.Softmax(axis=1,\n",
        "                                         name='attention_'+str(filter_size))(attention)\n",
        "        attention = keras.layers.RepeatVector(Params['num_filters'])(attention)\n",
        "        attention = keras.layers.Permute([2, 1])(attention)\n",
        "        representation = keras.layers.multiply([h, attention])\n",
        "        representation = tf.math.reduce_sum(representation, axis = 1)\n",
        "        convs.append(representation)\n",
        "        # l_pool = keras.layers.GlobalMaxPooling1D()(l_conv)\n",
        "        # convs.append(l_pool)\n",
        "    l_merge = keras.layers.concatenate(convs, axis=1)\n",
        "    \n",
        "    x = keras.layers.Dropout(Params['dropout_after_convs'])(l_merge) \n",
        "\n",
        "    dense1 = keras.layers.Dense(Params['num_dense'],\n",
        "                                kernel_constraint=Params['kernel_constraint'],\n",
        "                                activation = 'relu')(x)\n",
        "    x = dense1\n",
        "    dropout1 = keras.layers.Dropout(Params['dropout_after_Dense'])(x)\n",
        "    x = dropout1\n",
        "\n",
        "    if not Params['ifMulticlass']:\n",
        "        finalOut = keras.layers.Dense(1, activation='sigmoid',\n",
        "                                    bias_initializer=tf.keras.initializers.Constant(Params['initial_bias'])\n",
        "                                    )(x)\n",
        "    else:\n",
        "        finalOut = keras.layers.Dense(Params['nclasses'], activation='softmax')(x)\n",
        "\n",
        "    # define the model's start and end points    \n",
        "    model = keras.Model(inpTensor,finalOut)\n",
        "\n",
        "    return model"
      ]
    },
    {
      "cell_type": "markdown",
      "metadata": {
        "id": "xAfa4FkoIhU6"
      },
      "source": [
        "#Define Parameters"
      ]
    },
    {
      "cell_type": "code",
      "execution_count": null,
      "metadata": {
        "id": "fDoDihkSvq7h"
      },
      "outputs": [],
      "source": [
        "Params = {}"
      ]
    },
    {
      "cell_type": "code",
      "execution_count": null,
      "metadata": {
        "id": "ndFDWyjpIhU8"
      },
      "outputs": [],
      "source": [
        "Params['num_epochs'] = 50\n",
        "\n",
        "Params['learning_rate'] = 1e-4\n",
        "if tpu_env:\n",
        "    Params['batch_size'] = 48\n",
        "else:\n",
        "    Params['batch_size'] = 48\n",
        "\n",
        "Params['embedding_dim'] = 128 # 128\n",
        "\n",
        "# CNN parameters\n",
        "Params['min_filter_size'] = 2\n",
        "Params['max_filter_size'] = 12 # 12\n",
        "Params['num_filters'] = 256 # 256\n",
        "Params['dropout_after_convs'] = 0.4 # 0.4\n",
        "# Dense Layer Parameters\n",
        "Params['num_dense'] = 256 # 256\n",
        "Params['dropout_after_Dense'] = 0.4\n",
        "\n",
        "# Transformer+Attention Model parameters\n",
        "Params['embdim'] = 2000\n",
        "Params['mask_zero'] = True\n",
        "Params['numheads'] = 8\n",
        "Params['ffdim'] = 64\n",
        "Params['trans_drop'] = 0.4\n",
        "Params['Nt'] = 1\n",
        "Params['ifPreCNN'] = False\n",
        "if Params['ifPreCNN']:\n",
        "    Params['W'] = 500\n",
        "    Params['Nc'] = 1\n",
        "    Params['Nl'] = 1\n",
        "Params['num_dense_embed'] = 64 # 256\n",
        "Params['dropout_after_Dense_embed'] = 0.0 #0.2\n",
        "\n",
        "Params['kernel_constraint'] = keras.constraints.max_norm(1.0)\n",
        "Params['kernel_L2_reg'] = 0.1\n",
        "Params['bias_L2_reg'] = 0.1\n",
        "Params['activity_L2_reg'] = 0.1\n",
        "\n",
        "Params['ifMulticlass'] = False\n",
        "Params['nclasses'] = 2\n",
        "\n",
        "Params['sample_weighting'] = True\n",
        "\n",
        "Params['loss'] = keras.losses.BinaryCrossentropy(from_logits=False)\n",
        "if not tpu_env:\n",
        "    # otherwise have to define in the TPU environment\n",
        "    Params['metrics'] = [\n",
        "                        #  keras.metrics.TruePositives(name='tp'),\n",
        "                        #  keras.metrics.FalsePositives(name='fp'),\n",
        "                        #  keras.metrics.TrueNegatives(name='tn'),\n",
        "                        #  keras.metrics.FalseNegatives(name='fn'),\n",
        "                        keras.metrics.BinaryAccuracy(name='acc'),\n",
        "                        # keras.metrics.PrecisionAtRecall(0.5, name='par50'),\n",
        "                        #  keras.metrics.Precision(name='prec'),\n",
        "                        #  keras.metrics.Recall(name='rec'),\n",
        "                        keras.metrics.AUC(name='auc'),\n",
        "                        ]\n",
        "\n",
        "# Params['initial_bias'] = np.log(num1/num0)\n",
        "# Params['initial_bias'] = np.log(2) # default\n",
        "# Params['initial_bias'] = None\n",
        "\n",
        "Params['ifEarlyStopping'] = True\n",
        "# Params['ifEarlyStopping'] = False\n",
        "# Params['monitor'] = 'loss'\n",
        "Params['monitor'] = 'val_auc'\n",
        "Params['patience'] = 10\n",
        "early_stopping = tf.keras.callbacks.EarlyStopping(\n",
        "    monitor = Params['monitor'],\n",
        "    verbose = 2,\n",
        "    patience = Params['patience'],\n",
        "    mode = 'auto',\n",
        "    min_delta = 0,\n",
        "    restore_best_weights = True\n",
        "    )\n",
        "Params['callbacks'] = [early_stopping]"
      ]
    },
    {
      "cell_type": "markdown",
      "metadata": {
        "id": "wsYToQkTO5iF"
      },
      "source": [
        "#Text Preprocessing & Tokenization"
      ]
    },
    {
      "cell_type": "code",
      "execution_count": null,
      "metadata": {
        "id": "tDd45DbnVWDp"
      },
      "outputs": [],
      "source": [
        "DOCTYPE = 'Responses'\n",
        "\n",
        "Params['pretrained_embeddings'] = False\n",
        "\n",
        "# Params['num_words_to_use'] = None\n",
        "Params['num_words_to_use'] = 20000\n",
        "# Params['num_words_to_use'] = 1000\n",
        "\n",
        "\n",
        "# Params['text_length'] = 4000\n",
        "Params['text_length'] = 8000\n",
        "Params['text_start'] = 0 # 100\n",
        "Params['text_end'] = Params['text_start'] + Params['text_length']"
      ]
    },
    {
      "cell_type": "code",
      "execution_count": null,
      "metadata": {
        "id": "uor3Kbin2lfZ"
      },
      "outputs": [],
      "source": [
        "ptab = pd.read_csv(FILELOC + 'PTAB_Institution_Proceedings_to_20211231.tsv', sep='\\t')\n",
        "# print(len(ptab))\n",
        "# ptab.drop_duplicates('Proceeding', inplace=True)\n",
        "# print(len(ptab))\n",
        "# ptab['date'] = ptab['Case Filing Date'].apply(dateparse)\n",
        "\n",
        "# trainingvariable = 'Responses'"
      ]
    },
    {
      "cell_type": "code",
      "execution_count": null,
      "metadata": {
        "id": "Qx6RjOg82lcU"
      },
      "outputs": [],
      "source": [
        "# with open(FILELOC + 'IPR_Proceeding_PartyNames_12312022.txt', 'r', encoding=\"ISO-8859-1\") as f:\n",
        "#     outfile = [line.rstrip('\\n') for line in f]\n",
        "# case = []; number = []\n",
        "# for k in range(0,len(outfile),2):\n",
        "#     case.append(outfile[k])\n",
        "#     number.append(outfile[k+1])\n",
        "# casedf = pd.DataFrame.from_dict({'case':case, 'proc':number})\n",
        "# casedf.drop_duplicates('proc', inplace=True)\n",
        "# casedf['proc'] = casedf['proc'].apply(lambda x: x.split('(')[0].strip())\n",
        "# casedf['name'] = casedf['case'].apply(lambda x: x.strip(\"\\\"\"))\n",
        "# casedf[casedf.name.str.contains('Petition')].to_csv('a.csv')\n",
        "\n",
        "# common_names = set(['business', 'doing', 'company', 'corporation', 'formerly', 'et', 'al'])\n",
        "\n",
        "# def f(x):\n",
        "#     y = x\n",
        "#     if 'Petition' in x:\n",
        "#         if 'Covered' in x:\n",
        "#             y = x.replace(\"Petition for Covered Business Method Patent Review by\",\"\")\n",
        "#         elif 'Inter' in x:\n",
        "#             y = x.replace(\"Petition for Inter Partes Review by\", \"\")\n",
        "#     y = y.translate(str.maketrans('', '', string.punctuation))\n",
        "#     if 'v' in y:\n",
        "#         y = y.replace(\"v\", \"\")\n",
        "#     y = [s.strip() for s in y.strip().split(' ') if s != \"\" and s not in STOPWORDS|common_names]\n",
        "#     return y\n",
        "# casedf['party_names'] = casedf['name'].apply(f)\n",
        "\n",
        "# ptdf = pd.merge(ptab,casedf,left_on='Proceeding',right_on='proc',how='inner')\n",
        "# print(len(ptab), len(casedf), len(ptdf))"
      ]
    },
    {
      "cell_type": "code",
      "execution_count": null,
      "metadata": {
        "id": "YxdJ9pvjXJSk"
      },
      "outputs": [],
      "source": [
        "# # Drop error messages and duplicates\n",
        "\n",
        "# ptdf.drop(columns=list({'Petitions','Responses','Decisions'}-{DOCTYPE}), inplace=True)\n",
        "# ptdf.drop(columns=['case','proc'], inplace=True)\n",
        "\n",
        "# ptdf[DOCTYPE] = ptdf[DOCTYPE].fillna('NA')\n",
        "\n",
        "# # clean up texts by removing (cid:##) which is likely an artifact of the PDF reading process\n",
        "# cid_str = re.compile(\"\\(cid:\\d+\\)\")\n",
        "# def f(x):\n",
        "#     return re.sub(cid_str, \"\", x)\n",
        "# ptdf[DOCTYPE] = ptdf[DOCTYPE].apply(f)\n",
        "\n",
        "# def get_word_count(text):\n",
        "#     return len(text.split())\n",
        "# ptdf[f'{DOCTYPE}_Len'] = ptdf[DOCTYPE].apply(get_word_count)\n",
        "# MIN_LENGTH = 50\n",
        "\n",
        "# print(len(ptdf))\n",
        "# ptdf.drop(ptdf[ptdf[f'{DOCTYPE}_Len'] < MIN_LENGTH].index, inplace=True)\n",
        "# print(len(ptdf))\n",
        "# ptdf.drop_duplicates(DOCTYPE, keep=False, inplace=True)\n",
        "# print(len(ptdf))\n",
        "\n",
        "# ptdf.reset_index(inplace=True)"
      ]
    },
    {
      "cell_type": "code",
      "execution_count": null,
      "metadata": {
        "id": "pUFUMGsMiLmt"
      },
      "outputs": [],
      "source": [
        "Params['remove_stop_words'] = True\n",
        "Params['remove_alphanumeric'] = True\n",
        "Params['remove_punctuation'] = True\n",
        "Params['remove_shortword_size'] = 3\n",
        "Params['remove_propernouns'] = True\n",
        "\n",
        "Params['clean_all'] = True\n",
        "Params['remove_shortword_size'] = 3\n",
        "\n",
        "Params['use_lowercase'] = True"
      ]
    },
    {
      "cell_type": "code",
      "execution_count": null,
      "metadata": {
        "id": "WMKf8CVm39nn"
      },
      "outputs": [],
      "source": [
        "# remove_shortword_size = Params['remove_shortword_size']\n",
        "# def process_docs(x):\n",
        "#     doc = x.replace(\"‘\", \"\\'\").replace(\"’\", \"\\'\").replace(\"´\", \"\\'\").replace(\"“\", \"\\\"\").replace(\"”\", \"\\\"\")\n",
        "#     t = nltk.tokenize.word_tokenize(doc)\n",
        "#     PUNCT = set(string.punctuation + u\"‘’´`“”–-§\")\n",
        "#     tags = nltk.tag.pos_tag(t)\n",
        "#     propernouns = set([a for a,b in tags if b=='NNP'])\n",
        "#     # shortwords = set([tt for tt in t if len(tt) <= remove_shortword_size])\n",
        "#     noisewords = set([tt for tt in t if (len(tt) <= 2) and any(map(lambda x: x in PUNCT, tt))])\n",
        "#     numwords = set([tt for tt in t if any(map(str.isdigit, tt))])\n",
        "#     emailwords = set([tt for tt in t if '@' in tt])\n",
        "#     dotwords = set([tt for tt in t if '.' in tt])\n",
        "    \n",
        "#     # reject_list = PUNCT|propernouns|STOPWORDS|shortwords|numwords|emailwords|dotwords\n",
        "#     reject_list = PUNCT|propernouns|numwords|emailwords|dotwords|noisewords\n",
        "#     proct = [tt for tt in t if tt not in reject_list]\n",
        "#     return proct\n",
        "\n",
        "# doclist = ptdf[DOCTYPE].tolist()\n",
        "# # docmap = map(process_docs, doclist)\n",
        "# # tokdocs = [doc for doc in tqdm(docmap)]\n",
        "# tokdocs = [process_docs(doc) for doc in tqdm(doclist)]\n",
        "# with open(FILELOC + 'Tokenized_Responses_20220212.pkl', 'wb') as f:\n",
        "#     pickle.dump([ptdf, tokdocs], f)"
      ]
    },
    {
      "cell_type": "code",
      "execution_count": null,
      "metadata": {
        "id": "LkiSq11eoXag"
      },
      "outputs": [],
      "source": [
        "# if Params['remove_propernouns'] or Params['clean_all']:\n",
        "#     def f(x):\n",
        "#         if 'v.' not in x:\n",
        "#             return 'NO_PARTY'\n",
        "#         else:\n",
        "#             y = x.split('v.')\n",
        "#             petitioner = y[0].split()[0].strip().replace(',', '')\n",
        "#             patentowner = y[1].split()[0].strip().replace(',', '')\n",
        "#             return [petitioner, patentowner]\n",
        "\n",
        "# parties_first = casedf['name'].apply(f).values\n",
        "# CASENAMES = set(itertools.chain.from_iterable(parties_first))\n",
        "\n",
        "# docs = ptdf[DOCTYPE].values\n",
        "# partyname_list = ptdf['party_names'].tolist()"
      ]
    },
    {
      "cell_type": "code",
      "execution_count": null,
      "metadata": {
        "id": "_7WJ3Cqxbb5j"
      },
      "outputs": [],
      "source": [
        "# if Params['clean_all']:\n",
        "#     remove_shortword_size = Params['remove_shortword_size']\n",
        "#     def process_docs(x):\n",
        "#         doc = x\n",
        "#         t = nltk.tokenize.word_tokenize(doc)\n",
        "#         PUNCT = string.punctuation + u\"‘’´“”–-\"\n",
        "#         propernouns = set([a for a,b in nltk.tag.pos_tag(t) if b=='NNP'])\n",
        "#         shortwords = set([tt for tt in t if len(tt) <= remove_shortword_size])\n",
        "#         reject_list = set(PUNCT)|propernouns|STOPWORDS|shortwords\n",
        "\n",
        "#         proct = [tt for tt in t if tt.isalpha() and tt not in reject_list]\n",
        "#         return proct\n",
        "\n",
        "# else:\n",
        "#     remove_punct = Params['remove_punctuation']\n",
        "#     remove_stopwords = Params['remove_stop_words']\n",
        "#     remove_alphanumeric = Params['remove_alphanumeric']\n",
        "#     # set to False or None if not used otherwise remove this length or less\n",
        "#     remove_shortword_size = Params['remove_shortword_size']\n",
        "#     remove_proper = Params['remove_propernouns']\n",
        "\n",
        "#     def process_docs(x):\n",
        "#         doc, partynames = x\n",
        "#         t = nltk.tokenize.word_tokenize(doc)\n",
        "#         PUNCT = string.punctuation + u\"‘’´“”–-\"\n",
        "#         if remove_punct:\n",
        "#             proct = [tt for tt in t if tt not in set(PUNCT)]\n",
        "#         if remove_stopwords:\n",
        "#             proct = [tt for tt in proct if tt not in STOPWORDS]\n",
        "#         if remove_alphanumeric:\n",
        "#             proct = [tt for tt in proct if tt.isalpha()]\n",
        "#         if remove_shortword_size:\n",
        "#             proct = [tt for tt in proct if len(tt) > remove_shortword_size]\n",
        "#         propernouns = set([a for a,b in nltk.tag.pos_tag(proct) if b=='NNP'])\n",
        "#         if Params['keep_case_names']:\n",
        "#             propernouns = propernouns - (CASENAMES - set(partynames))\n",
        "#         if remove_proper:\n",
        "#             proct = [tt for tt in proct if tt not in propernouns]\n",
        "#         return proct\n",
        "\n",
        "# if Params['clean_all']:\n",
        "#     tokdocs = ptdf[DOCTYPE].apply(process_docs)\n",
        "# else:\n",
        "#     tokdocs = [process_docs([docs[ind], partyname_list[ind]]) for ind in tqdm(ptdf.index)]\n",
        "\n",
        "# # with open(FILELOC + 'Tokenized_Responses_20220131.pkl', 'wb') as f:\n",
        "# #     pickle.dump([ptdf, tokdocs], f)\n",
        "# # with open(FILELOC + 'Tokenized_Decisions_20220131.pkl', 'wb') as f:\n",
        "# #     pickle.dump([ptdf, tokdocs], f)"
      ]
    },
    {
      "cell_type": "code",
      "execution_count": null,
      "metadata": {
        "id": "panQ-y442lY6"
      },
      "outputs": [],
      "source": [
        "# with open(FILELOC + 'Tokenized_Responses_20220131.pkl', 'rb') as f:\n",
        "#     ptdf, tokdocs = pickle.load(f)\n",
        "\n",
        "# with open(FILELOC + 'Tokenized_Responses_noproper_20220131.pkl', 'rb') as f:\n",
        "#     ptdf, tokdocs = pickle.load(f)\n",
        "\n",
        "with open(FILELOC + 'Tokenized_Responses_20220212.pkl', 'rb') as f:\n",
        "    ptdf, tokdocs = pickle.load(f)"
      ]
    },
    {
      "cell_type": "code",
      "execution_count": null,
      "metadata": {
        "id": "yXE3Y-_523jO"
      },
      "outputs": [],
      "source": [
        "# take a list of tokenized documents (i.e. list of lists) and derive an integer\n",
        "# mapping dictionary (0 = not used, 1 = out of vocabular, 2+ are tokens) for the\n",
        "# all (if num_words=None) or num_words most common words\n",
        "# It will generate a 2D array of truncated / padded document vectors (vec_len)\n",
        "# If lowercase set to True then converts all tokens to lowercase\n",
        "# Out of vocabulary string is \"oov_str\" (default '<OOV>')\n",
        "\n",
        "class Token2Int(BaseEstimator,TransformerMixin):\n",
        "    def __init__(self, vec_len, num_words=None, oov_str='<OOV>', lowercase=True):\n",
        "        self.vec_len = vec_len\n",
        "        self.num_words = num_words\n",
        "        self.oov_str = oov_str\n",
        "        self.lowercase = lowercase\n",
        "\n",
        "    def fit(self, X, y=None):\n",
        "        if type(X[0]) is not list:\n",
        "            X = [X] # only a single document was passed\n",
        "        if self.lowercase:\n",
        "            X = [[d.lower() for d in doc] for doc in X]\n",
        "        wc = Counter(itertools.chain.from_iterable(X))\n",
        "        self.word_count = wc\n",
        "        vocab = [w for w,c in wc.most_common(self.num_words)]\n",
        "        vocab.insert(0, self.oov_str)       # assign 1 to OOV\n",
        "        self.vocab = vocab\n",
        "        self.vocab_size = len(vocab)\n",
        "        wordmap = {n:m+1 for m,n in enumerate(vocab)}\n",
        "        self.word_index = wordmap\n",
        "        self.index_word = {n:m for m,n in wordmap.items()}\n",
        "        return self\n",
        "\n",
        "    def transform(self, X):\n",
        "        if type(X[0]) is not list:\n",
        "            X = [X] # only a single document was passed\n",
        "        # X = np.array(list(itertools.zip_longest(*X, fillvalue=0))).T\n",
        "        if self.lowercase:\n",
        "            # X = np.vectorize(str.lower)(X)\n",
        "            X = [[d.lower() for d in doc] for doc in X]\n",
        "        wordmap = self.word_index\n",
        "        vocab = self.vocab\n",
        "        veclen = self.vec_len\n",
        "        numdocs = len(X)\n",
        "        # wordmap['0'] = 0\n",
        "        # # textpad = np.array([t[:veclen] if len(t) >= veclen else t + ['0']*(veclen-len(t)) for t in X]).astype(str)\n",
        "        # X = [[wordmap.get(x, 1) for x in t] for t in X]\n",
        "        # return pad_sequences(X, maxlen=veclen, padding='post', truncating='post')\n",
        "        textpad = np.zeros((numdocs, veclen))\n",
        "        for d in tqdm(range(numdocs)):\n",
        "            doc = X[d]\n",
        "            doclen = min(len(doc), veclen)\n",
        "            textpad[d,:doclen] = [wordmap.get(word, 1) for word in doc[:doclen]]\n",
        "            # textpad[d,:doclen] = [wordmap[word] if word in vocab else 1 for word in doc[:doclen]]\n",
        "        return textpad\n",
        "\n",
        "    def reverse(self, textpad):\n",
        "        texts = []\n",
        "        for row in textpad:\n",
        "            int2text = ['' if w==0 else self.index_word[w] for w in row]\n",
        "            texts.append(' '.join(int2text).strip())\n",
        "        return texts"
      ]
    },
    {
      "cell_type": "code",
      "execution_count": null,
      "metadata": {
        "colab": {
          "base_uri": "https://localhost:8080/"
        },
        "id": "t1TbHH0S23f9",
        "outputId": "73a6aa85-4ead-4027-aac6-0188633a8e57"
      },
      "outputs": [
        {
          "output_type": "stream",
          "name": "stdout",
          "text": [
            "9283\n",
            "9182\n"
          ]
        }
      ],
      "source": [
        "map_outcome2unpat = {'Denied': 0,\n",
        "                     'Denied on Rehearing': -1,\n",
        "                     'Mixed': 0,\n",
        "                     'Granted': 1,\n",
        "                     'Granted on Rehearing': -1,\n",
        "                     'Indefinite': -1,\n",
        "                     }\n",
        "ptdf['Unpatentable'] = ptdf['Decision'].map(map_outcome2unpat)\n",
        "\n",
        "selind = ptdf[ptdf['Unpatentable'] != -1].index\n",
        "\n",
        "print(len(ptdf))\n",
        "ptdf.drop(ptdf[ptdf['Unpatentable'] == -1].index, inplace=True)\n",
        "print(len(ptdf))\n",
        "ptdf.reset_index(inplace=True)\n",
        "tokdocs = [tokdocs[ind] for ind in range(len(tokdocs)) if ind in selind]"
      ]
    },
    {
      "cell_type": "code",
      "execution_count": null,
      "metadata": {
        "id": "_jbe0xu14bkn"
      },
      "outputs": [],
      "source": [
        "def f_pet(x):\n",
        "    case, partyname = x\n",
        "    if ' v.' in case:\n",
        "        try:\n",
        "            pet,po = case.split(' v.')\n",
        "        except:\n",
        "            print(case)\n",
        "        return pet.strip()\n",
        "    else:\n",
        "        return ' '.join(partyname)\n",
        "\n",
        "def f_po(x):\n",
        "    case = x\n",
        "    if ' v.' in case:\n",
        "        pet,po = case.split(' v.')\n",
        "        return po.strip()\n",
        "    else:\n",
        "        return 'UNKNOWN'\n",
        "\n",
        "ptdf['petitioner_raw'] = ptdf[['name', 'party_names']].apply(f_pet, axis=1)\n",
        "ptdf['patent_owner_raw'] = ptdf['name'].apply(f_po)"
      ]
    },
    {
      "cell_type": "code",
      "execution_count": null,
      "metadata": {
        "id": "JhZI2iUptJbt"
      },
      "outputs": [],
      "source": [
        "common_terms = ['corporation','corp.',' corp ', '& co','co.',' co ','company',\n",
        "                'l.l.c.', 'llc', 'l.c', ' lc',\n",
        "                'l.l.p.', 'llp', 'l.p.', ' lp',\n",
        "                'incorporated', 'inc.', ' inc ',\n",
        "                'limited', 'ltd',\n",
        "                ' sa ', ' se ', ' ag ',\n",
        "                'gmbh', 'a/s', 'bv', ' nv', 'n.v.',\n",
        "                'et al',\n",
        "                'n.a.', ' us ', ' usa ',\n",
        "                '(us)', '(usa)', '(u.s.)', '(u.s.a.)',\n",
        "                '(california)', '(delaware)', '(united states)',\n",
        "                ' i,',  'ii', 'iii',\n",
        "                '1)', '2)',\n",
        "                ]\n",
        "replace_common_terms = '|'.join(common_terms).replace('/','\\/').replace(' ','\\s').replace('.','\\.').replace('(','\\(').replace(')','\\)')\n",
        "replace_common_terms += '|\\s\\d+\\s'\n",
        "regexp_common_terms = re.compile(replace_common_terms, re.IGNORECASE)\n",
        "\n",
        "split_terms = ['d/b/a/', 'd/b/a', 'doing business as', 'formerly known as', 'f/k/a/', 'f/k/a', ' and ']\n",
        "split_terms_list = '|'.join(split_terms).replace('/','\\/').replace(' ','\\s')\n",
        "regexp_split_terms = re.compile(split_terms_list, re.IGNORECASE)\n",
        "\n",
        "def f_clean(x):\n",
        "    # no cleaning up special characters\n",
        "    # add a trailing whitepace to eliminate edge effects for \"lp\" and \"inc\"\n",
        "    x += ' '\n",
        "    # remove common terms\n",
        "    if any([t in x.lower() for t in common_terms]):\n",
        "        # remove commas and periods associated with these terms\n",
        "        x = re.sub(regexp_common_terms, '', x)\n",
        "        x = x.replace(', ',' '); x = x.replace('. ',' ')\n",
        "        x = x.strip().strip(',').strip('.')\n",
        "\n",
        "    if any([t in x.lower() for t in split_terms]):\n",
        "        x = re.split(regexp_split_terms, x)\n",
        "        x = ';'.join(x)\n",
        "\n",
        "    return x\n",
        "\n",
        "ptdf['petitioner'] = ptdf['petitioner_raw'].apply(f_clean)\n",
        "ptdf['patent_owner'] = ptdf['patent_owner_raw'].apply(f_clean)"
      ]
    },
    {
      "cell_type": "code",
      "execution_count": null,
      "metadata": {
        "colab": {
          "base_uri": "https://localhost:8080/",
          "height": 66,
          "referenced_widgets": [
            "1b33de2a3a4a470aa6f07253885fe1bc",
            "f63479552d154f019a083d60b5f7262e",
            "64723b9f5a9742df9ba5425820b8674d",
            "a30de5d77e1b46bd83cf8ecbeed63171",
            "237488437a3a452493d875733ed29275",
            "7c0035c0c2f842448c19f92eb1ac54d9",
            "acfb2bfc634642cd86aad9009938c455",
            "4ef7df9baa4444f5979dabf24975ffeb",
            "46c770d287cb402a91ccbf7feece5753",
            "84be481bd1844259a25de6207ce09998",
            "3dbc67b9c8c646bd934013cb45df9907"
          ]
        },
        "id": "CY0JTAKe92st",
        "outputId": "cb0088e3-0858-4fca-e8c1-ac44dab4ce2a"
      },
      "outputs": [
        {
          "output_type": "stream",
          "name": "stdout",
          "text": [
            "20002\n"
          ]
        },
        {
          "output_type": "display_data",
          "data": {
            "application/vnd.jupyter.widget-view+json": {
              "model_id": "1b33de2a3a4a470aa6f07253885fe1bc",
              "version_minor": 0,
              "version_major": 2
            },
            "text/plain": [
              "  0%|          | 0/2631 [00:00<?, ?it/s]"
            ]
          },
          "metadata": {}
        }
      ],
      "source": [
        "trainindex = ptdf[ptdf.date.between(pd.Timestamp(2018,7,1), pd.Timestamp(2020,11,30))].index\n",
        "\n",
        "\n",
        "toktrain = [tokdocs[ind] for ind in range(len(tokdocs)) if ind in trainindex]\n",
        "\n",
        "tok2int = Token2Int(Params['text_length'], num_words = Params['num_words_to_use'])\n",
        "tok2int.fit(toktrain)\n",
        "Params['vocab_size'] = tok2int.vocab_size + 1   # add the 0 token\n",
        "print(Params['vocab_size'])\n",
        "\n",
        "X_train = tok2int.transform(toktrain).astype(int)\n",
        "Y_train = ptdf.loc[trainindex, 'Unpatentable'].values\n",
        "\n",
        "testindex = ptdf[ptdf.date.between(pd.Timestamp(2020,12,1),pd.Timestamp(2021,3,31))].index\n",
        "toktest = [tokdocs[ind] for ind in range(len(tokdocs)) if ind in testindex]\n",
        "X_test = tok2int.transform(toktest).astype(int)\n",
        "Y_test = ptdf.loc[testindex, 'Unpatentable'].values"
      ]
    },
    {
      "cell_type": "markdown",
      "metadata": {
        "id": "8P09Tr17Zx1o"
      },
      "source": [
        "#Fit Model"
      ]
    },
    {
      "cell_type": "code",
      "execution_count": null,
      "metadata": {
        "id": "dldKFWGv-Jct"
      },
      "outputs": [],
      "source": [
        "if Params['sample_weighting']:\n",
        "    class_wts = list(class_weight.compute_class_weight(class_weight='balanced',\n",
        "                                                    classes=np.unique(Y_train), y=Y_train))\n",
        "    print(class_wts)\n",
        "    Params['sample_weights'] = np.array([class_wts[yt] for yt in Y_train])\n",
        "\n",
        "    num = len(Y_train)\n",
        "    num0 = len(np.where(Y_train==0)[0]); num1 = len(np.where(Y_train==1)[0])\n",
        "    if num1 < num0:\n",
        "        Params['initial_bias'] = np.log(num1/num0)\n",
        "    else:\n",
        "        Params['initial_bias'] = np.log(num0/num1)\n",
        "\n",
        "else:\n",
        "    Params['initial_bias'] = 0"
      ]
    },
    {
      "cell_type": "code",
      "execution_count": null,
      "metadata": {
        "id": "u6XCIyvAZxqD"
      },
      "outputs": [],
      "source": [
        "for run in range(5):\n",
        "    print(run)\n",
        "    \n",
        "    tf.keras.backend.clear_session()    # reset Tensorflow session\n",
        "\n",
        "    X_t = X_train; Y_t = Y_train    \n",
        "\n",
        "    with tpu_strategy.scope():\n",
        "        Params['loss'] = keras.losses.BinaryCrossentropy(from_logits=False)\n",
        "        Params['metrics'] = [keras.metrics.BinaryAccuracy(name='acc'),\n",
        "                        keras.metrics.AUC(name='auc'),]\n",
        "        model = EmbedNN(Params)\n",
        "        model.compile(loss=Params['loss'],\n",
        "                    optimizer=keras.optimizers.Adam(learning_rate=Params['learning_rate']),\n",
        "                    metrics=Params['metrics'],\n",
        "                    steps_per_execution = 100,)\n",
        "\n",
        "        if Params['sample_weighting']:\n",
        "            train_dataset = tf.data.Dataset.from_tensor_slices((X_t, Y_t, Params['sample_weights']))\n",
        "            Params['val_sample_weights'] = np.array([class_wts[yt] for yt in Y_test])\n",
        "            val_dataset = tf.data.Dataset.from_tensor_slices((X_test, Y_test, Params['val_sample_weights']))\n",
        "        else:\n",
        "            train_dataset = tf.data.Dataset.from_tensor_slices((X_t, Y_t))\n",
        "            val_dataset = tf.data.Dataset.from_tensor_slices((X_test, Y_test))\n",
        "        history = model.fit(train_dataset.batch(Params['batch_size']),\n",
        "                            epochs = Params['num_epochs'], verbose = 1,)\n",
        "                            # validation_data = val_dataset.batch(Params['batch_size']),\n",
        "                                # callbacks=Params['callbacks'])\n",
        "\n",
        "    print(\"Results for Testing Data:\")\n",
        "    test_predict = model.predict(X_test)\n",
        "    test_predict_bool = np.round(test_predict)\n",
        "    TestPredict = test_predict_bool\n",
        "    ClassRep = classification_report(Y_test, test_predict_bool)\n",
        "    ConfMatrix = confusion_matrix(Y_test, test_predict_bool)\n",
        "    print(ClassRep)\n",
        "    print(ConfMatrix)\n",
        "\n",
        "    model.save_weights(FILELOC+\"responses_\"+str(run)+\"_wts.h5\", save_format='h5', overwrite=True)"
      ]
    },
    {
      "cell_type": "markdown",
      "metadata": {
        "id": "vyNgcoOWZ2EQ"
      },
      "source": [
        "#Interpret Results"
      ]
    },
    {
      "cell_type": "code",
      "source": [
        "if Params['sample_weighting']:\n",
        "    class_wts = list(class_weight.compute_class_weight(class_weight='balanced',\n",
        "                                                    classes=np.unique(Y_train), y=Y_train))\n",
        "    print(class_wts)\n",
        "    Params['sample_weights'] = np.array([class_wts[yt] for yt in Y_train])\n",
        "\n",
        "    num = len(Y_train)\n",
        "    num0 = len(np.where(Y_train==0)[0]); num1 = len(np.where(Y_train==1)[0])\n",
        "    if num1 < num0:\n",
        "        Params['initial_bias'] = np.log(num1/num0)\n",
        "    else:\n",
        "        Params['initial_bias'] = np.log(num0/num1)\n",
        "\n",
        "else:\n",
        "    Params['initial_bias'] = 0\n",
        "\n",
        "tf.keras.backend.clear_session()\n",
        "with tpu_strategy.scope():\n",
        "    # try:\n",
        "    model = EmbedNN(Params)\n",
        "    model.load_weights(FILELOC+\"responses_wts.h5\")\n",
        "    pred_test = model.predict(X_test, verbose=False)\n",
        "\n",
        "att = {}\n",
        "for n in range(2,12+1):\n",
        "    get_attention_model = keras.Model(inputs=model.input,outputs=model.get_layer(f'attention_{n}').output)\n",
        "    get_attention_model.compile()\n",
        "    att[n] = get_attention_model.predict(xtest, verbose=1)"
      ],
      "metadata": {
        "id": "LSAzh3t1FeLn"
      },
      "execution_count": null,
      "outputs": []
    },
    {
      "cell_type": "markdown",
      "source": [
        "##Attention Visualization"
      ],
      "metadata": {
        "id": "q10V2RD5OZ4A"
      }
    },
    {
      "cell_type": "code",
      "execution_count": null,
      "metadata": {
        "id": "stL5tUYCWqUa"
      },
      "outputs": [],
      "source": [
        "from IPython.display import HTML\n",
        "def  hlstr(string, color='white'):\n",
        "    \"\"\"\n",
        "    Return HTML markup highlighting text with the desired color.\n",
        "    \"\"\"\n",
        "    return f\"<mark style=background-color:{color}>{string} </mark>\"\n",
        "\n",
        "def colorize(attrs, cmap='PiYG'):\n",
        "    \"\"\"\n",
        "    Compute hex colors based on the attributions for a single instance.\n",
        "    Uses a diverging colorscale by default and normalizes and scales\n",
        "    the colormap so that colors are consistent with the attributions.\n",
        "    \"\"\"\n",
        "    import matplotlib as mpl\n",
        "    cmap_bound = np.abs(attrs).max()\n",
        "    norm = mpl.colors.Normalize(vmin=-cmap_bound, vmax=cmap_bound)\n",
        "    cmap = mpl.cm.get_cmap(cmap)\n",
        "\n",
        "    # now compute hex values of colors\n",
        "    colors = list(map(lambda x: mpl.colors.rgb2hex(cmap(norm(x))), attrs))\n",
        "    return colors"
      ]
    },
    {
      "cell_type": "code",
      "execution_count": null,
      "metadata": {
        "colab": {
          "base_uri": "https://localhost:8080/",
          "height": 1000
        },
        "id": "3STTYnjNgrf3",
        "outputId": "7f92b225-4db7-4d13-c67a-5bef8c33aa6a"
      },
      "outputs": [
        {
          "output_type": "stream",
          "name": "stdout",
          "text": [
            "0.31546426\n"
          ]
        },
        {
          "output_type": "execute_result",
          "data": {
            "text/html": [
              "<mark style=background-color:#eaf5d9>states </mark><mark style=background-color:#d2ecb0>filed </mark><mark style=background-color:#eaf5d9>on </mark><mark style=background-color:#d9f0bc>behalf </mark><mark style=background-color:#f1f6ea>of </mark><mark style=background-color:#faecf3>by </mark><mark style=background-color:#f6f7f5>i </mark><mark style=background-color:#fce3f0>¶ </mark><mark style=background-color:#fbe9f2>a </mark><mark style=background-color:#fce5f1>of </mark><mark style=background-color:#fddeee>and </mark><mark style=background-color:#faeaf2>to </mark><mark style=background-color:#f9d3e8>and </mark><mark style=background-color:#fde0ef>in </mark><mark style=background-color:#f9eef4>of </mark><mark style=background-color:#fad6ea>merits </mark><mark style=background-color:#faebf3>and </mark><mark style=background-color:#fbe8f2>other </mark><mark style=background-color:#f9eef4>circumstances </mark><mark style=background-color:#f9f0f5>because </mark><mark style=background-color:#f8f3f6>establish </mark><mark style=background-color:#ddf1c1>the </mark><mark style=background-color:#f2f6ec>level </mark><mark style=background-color:#edf6e1>of </mark><mark style=background-color:#e4f4cd>in </mark><mark style=background-color:#e9f5d6>the </mark><mark style=background-color:#ddf1c1>not </mark><mark style=background-color:#eff6e4>of </mark><mark style=background-color:#d6eeb6>independent </mark><mark style=background-color:#eaf5d9>storing </mark><mark style=background-color:#edf6df>the </mark><mark style=background-color:#ecf6de>caller </mark><mark style=background-color:#e7f5d3>information </mark><mark style=background-color:#f5f7f3>in </mark><mark style=background-color:#f9eff4>association </mark><mark style=background-color:#fcdbed>with </mark><mark style=background-color:#faedf3>the </mark><mark style=background-color:#fbe8f2>voice </mark><mark style=background-color:#ebf6dc>mailbox </mark><mark style=background-color:#f9eef4>wherein </mark><mark style=background-color:#f1f6ea>the </mark><mark style=background-color:#fbd8eb>caller </mark><mark style=background-color:#d8efb9>information </mark><mark style=background-color:#e9f5d6>is </mark><mark style=background-color:#e8f5d5>stored </mark><mark style=background-color:#e1f3c7>in </mark><mark style=background-color:#e9f5d8>association </mark><mark style=background-color:#e9f5d8>with </mark><mark style=background-color:#f2f6ec>a </mark><mark style=background-color:#f8f5f6>voice </mark><mark style=background-color:#f9eef4>message </mark><mark style=background-color:#fde2f0>left </mark><mark style=background-color:#f9d3e8>by </mark><mark style=background-color:#faebf3>the </mark><mark style=background-color:#e692c1>calling </mark><mark style=background-color:#fce4f0>party </mark><mark style=background-color:#f8d0e7>for </mark><mark style=background-color:#faebf3>the </mark><mark style=background-color:#f7f7f7>called </mark><mark style=background-color:#f7f7f7>party </mark><mark style=background-color:#ecf6de>in </mark><mark style=background-color:#f9eef4>the </mark><mark style=background-color:#e2f3ca>voice </mark><mark style=background-color:#e7f5d3>mailbox </mark><mark style=background-color:#dff2c4>ii </mark><mark style=background-color:#e9f5d6>automatically </mark><mark style=background-color:#e6f5d0>dialing </mark><mark style=background-color:#f5f7f2>the </mark><mark style=background-color:#fbe9f2>telephone </mark><mark style=background-color:#f8f2f5>number </mark><mark style=background-color:#fcdbed>at </mark><mark style=background-color:#f9f0f5>a </mark><mark style=background-color:#f9f1f5>request </mark><mark style=background-color:#f6f7f5>of </mark><mark style=background-color:#f8f2f5>the </mark><mark style=background-color:#e2f3ca>called </mark><mark style=background-color:#bee490>party </mark><mark style=background-color:#9ed067>while </mark><mark style=background-color:#91c857>the </mark><mark style=background-color:#86c049>called </mark><mark style=background-color:#e6f5d0>party </mark><mark style=background-color:#c2e596>is </mark><mark style=background-color:#a9d874>listening </mark><mark style=background-color:#cdeaa7>to </mark><mark style=background-color:#f8f3f6>the </mark><mark style=background-color:#fbe7f2>voice </mark><mark style=background-color:#f9f0f5>message </mark><mark style=background-color:#faedf3>the </mark><mark style=background-color:#b5df82>of </mark><mark style=background-color:#acd977>and </mark><mark style=background-color:#c7e89f>not </mark><mark style=background-color:#d8efb9>of </mark><mark style=background-color:#a1d26a>independent </mark><mark style=background-color:#8ac34f>automatically </mark><mark style=background-color:#c9e8a2>dialing </mark><mark style=background-color:#d2ecb0>the </mark><mark style=background-color:#ebf6dc>telephone </mark><mark style=background-color:#f2f6ec>number </mark><mark style=background-color:#f3f6ed>at </mark><mark style=background-color:#f0f6e7>a </mark><mark style=background-color:#eff6e4>request </mark><mark style=background-color:#f5f7f3>of </mark><mark style=background-color:#e9f5d6>the </mark><mark style=background-color:#f1f6ea>called </mark><mark style=background-color:#f1f6ea>party </mark><mark style=background-color:#f3f7ef>while </mark><mark style=background-color:#f8f2f5>the </mark><mark style=background-color:#f5f7f3>called </mark><mark style=background-color:#eef6e2>party </mark><mark style=background-color:#f8f3f6>is </mark><mark style=background-color:#f8f4f6>listening </mark><mark style=background-color:#f7f6f7>to </mark><mark style=background-color:#f6f7f5>the </mark><mark style=background-color:#eef6e2>voice </mark><mark style=background-color:#f4f7f0>message </mark><mark style=background-color:#f2f6ec><OOV> </mark><mark style=background-color:#f3f6ed>the </mark><mark style=background-color:#ebf6db>of </mark><mark style=background-color:#f1f6e8>and </mark><mark style=background-color:#e9f5d8>not </mark><mark style=background-color:#f1f6e8>and </mark><mark style=background-color:#e9f5d8>independent </mark><mark style=background-color:#f1f6e8>conclusion </mark><mark style=background-color:#e9f5d8>passim </mark><mark style=background-color:#f1f6e8>fn </mark><mark style=background-color:#f8f5f6>scripting </mark><mark style=background-color:#e8f5d5>b </mark><mark style=background-color:#e9f5d6>-iii- </mark><mark style=background-color:#ebf6dc>et </mark><mark style=background-color:#f3f7ef>et </mark><mark style=background-color:#f7f6f7>of </mark><mark style=background-color:#f8f2f5>of </mark><mark style=background-color:#f8f5f6>the </mark><mark style=background-color:#f7f7f7>patents </mark><mark style=background-color:#faecf3>et </mark><mark style=background-color:#fbe9f2>to </mark><mark style=background-color:#fbe9f2>boost </mark><mark style=background-color:#f9eff4>and </mark><mark style=background-color:#f1f6e8>for </mark><mark style=background-color:#f5f7f2>states </mark><mark style=background-color:#eef6e2>and </mark><mark style=background-color:#edf6e1>https </mark><mark style=background-color:#c7e89f>last </mark><mark style=background-color:#d6eeb6>visited </mark><mark style=background-color:#d6eeb6>and </mark><mark style=background-color:#d8efb9>et </mark><mark style=background-color:#e7f5d2>-iv- </mark><mark style=background-color:#dff2c4>et </mark><mark style=background-color:#eaf5d9>et </mark><mark style=background-color:#dff2c4>et </mark><mark style=background-color:#f8f3f6>et </mark><mark style=background-color:#f5f7f2>of </mark><mark style=background-color:#f9f0f5>of </mark><mark style=background-color:#f0f6e7>et </mark><mark style=background-color:#faeaf2>of </mark><mark style=background-color:#f8f3f6>of </mark><mark style=background-color:#f5f7f2>of </mark><mark style=background-color:#fbe9f2>of </mark><mark style=background-color:#fbe6f1>and </mark><mark style=background-color:#faedf3>ed </mark><mark style=background-color:#f9f1f5>once </mark><mark style=background-color:#f8f4f6>a </mark><mark style=background-color:#f8f2f5>friendly </mark><mark style=background-color:#faecf3>a </mark><mark style=background-color:#f9eef4>https </mark><mark style=background-color:#f9f0f5>discussing </mark><mark style=background-color:#f1f6ea>the </mark><mark style=background-color:#f9eef4>historical </mark><mark style=background-color:#f8f3f6>role </mark><mark style=background-color:#f7f7f6>of </mark><mark style=background-color:#f8f4f6>the </mark><mark style=background-color:#f6f7f5>operator </mark><mark style=background-color:#fbe9f2>and </mark><mark style=background-color:#f9eef4>-v- </mark><mark style=background-color:#f9f0f5>i </mark><mark style=background-color:#f1f6ea>respectfully </mark><mark style=background-color:#f9eef4>submits </mark><mark style=background-color:#f8f3f6>this </mark><mark style=background-color:#f7f7f6>preliminary </mark><mark style=background-color:#f8f4f6>to </mark><mark style=background-color:#f6f7f5>or </mark><mark style=background-color:#fbe9f2>for </mark><mark style=background-color:#f9eef4>or </mark><mark style=background-color:#f9f0f5>of </mark><mark style=background-color:#f3f7ef>the </mark><mark style=background-color:#f9eff4>patent </mark><mark style=background-color:#faeaf2>the </mark><mark style=background-color:#f7f6f7>should </mark><mark style=background-color:#f7f6f7>exercise </mark><mark style=background-color:#f7f7f6>its </mark><mark style=background-color:#f8f2f5>discretionary </mark><mark style=background-color:#faecf3>power </mark><mark style=background-color:#f9eef4>to </mark><mark style=background-color:#f9f0f5>deny </mark><mark style=background-color:#f3f7ef>institution </mark><mark style=background-color:#f9eff4>under </mark><mark style=background-color:#faeaf2>¶ </mark><mark style=background-color:#f7f6f7>a </mark><mark style=background-color:#f7f6f7>because </mark><mark style=background-color:#f7f7f6>two </mark><mark style=background-color:#f8f2f5>separate </mark><mark style=background-color:#faecf3>litigations </mark><mark style=background-color:#f9eef4>will </mark><mark style=background-color:#f9f0f5>be </mark><mark style=background-color:#f3f7ef>decided </mark><mark style=background-color:#f6f7f5>by </mark><mark style=background-color:#f1f6ea>a </mark><mark style=background-color:#eaf5d9>jury </mark><mark style=background-color:#e7f5d3>before </mark><mark style=background-color:#e9f5d6>any </mark><mark style=background-color:#eff6e5>final </mark><mark style=background-color:#f2f6ec>written </mark><mark style=background-color:#edf6df>decision </mark><mark style=background-color:#faedf3>would </mark><mark style=background-color:#fbe6f1>issue </mark><mark style=background-color:#f1b5d9>on </mark><mark style=background-color:#e48bbc>the </mark><mark style=background-color:#eca6cf>first </mark><mark style=background-color:#eeadd4>eleven </mark><mark style=background-color:#e07eb3>months </mark><mark style=background-color:#e89ac6>before </mark><mark style=background-color:#e388ba>any </mark><mark style=background-color:#eca6cf>and </mark><mark style=background-color:#f4bfdf>the </mark><mark style=background-color:#f9f0f5>second </mark><mark style=background-color:#f8f3f6>seven </mark><mark style=background-color:#fce4f0>months </mark><mark style=background-color:#f6c9e3>before </mark><mark style=background-color:#f6c7e3>any </mark><mark style=background-color:#f3bdde>at </mark><mark style=background-color:#f9d3e8>precedential </mark><mark style=background-color:#fcdded>denying </mark><mark style=background-color:#f9d1e8>institution </mark><mark style=background-color:#f1b7da>where </mark><mark style=background-color:#fddeee>trial </mark><mark style=background-color:#fde0ef>in </mark><mark style=background-color:#fddeee>parallel </mark><mark style=background-color:#fcdbed>proceeding </mark><mark style=background-color:#fde1ef>was </mark><mark style=background-color:#fce5f1>scheduled </mark><mark style=background-color:#f0b2d7>to </mark><mark style=background-color:#fddeee>begin </mark><mark style=background-color:#e286b8>two </mark><mark style=background-color:#e58dbe>months </mark><mark style=background-color:#f2b8db>before </mark><mark style=background-color:#f2badc>final </mark><mark style=background-color:#f7cbe4>written </mark><mark style=background-color:#f2b8db>decision </mark><mark style=background-color:#f7cce5>in </mark><mark style=background-color:#f5c6e2>the </mark><mark style=background-color:#f8f3f6>first </mark><mark style=background-color:#fbe6f1>litigation </mark><mark style=background-color:#fcdbed>has </mark><mark style=background-color:#f7cce5>proffered </mark><mark style=background-color:#f6c7e3>an </mark><mark style=background-color:#f1b5d9>invalidity </mark><mark style=background-color:#f6c7e3>report </mark><mark style=background-color:#fbd8eb>from </mark><mark style=background-color:#fcdbed>the </mark><mark style=background-color:#f0f6e7>same </mark><mark style=background-color:#f5f7f3>expert </mark><mark style=background-color:#f7f7f7>challenging </mark><mark style=background-color:#f5f7f3>the </mark><mark style=background-color:#e7f5d3>same </mark><mark style=background-color:#cfebaa>claims </mark><mark style=background-color:#edf6df>based </mark><mark style=background-color:#acd977>on </mark><mark style=background-color:#e9f5d6>the </mark><mark style=background-color:#bee490>same </mark><mark style=background-color:#bbe28a>prior </mark><mark style=background-color:#7bb93e>art </mark><mark style=background-color:#a7d672>presented </mark><mark style=background-color:#c9e8a2>in </mark><mark style=background-color:#bbe28a>the </mark><mark style=background-color:#d8efb9>see </mark><mark style=background-color:#dff2c4>and </mark><mark style=background-color:#eff6e4>deposition </mark><mark style=background-color:#f1f6e8>in </mark><mark style=background-color:#f8f5f6>support </mark><mark style=background-color:#f3f7ef>of </mark><mark style=background-color:#f9eef4>his </mark><mark style=background-color:#f9f0f5>report </mark><mark style=background-color:#fbe8f2>in </mark><mark style=background-color:#fddeee>that </mark><mark style=background-color:#faeaf2>litigation </mark><mark style=background-color:#fce5f1>has </mark><mark style=background-color:#f9f0f5>already </mark><mark style=background-color:#fbe9f2>been </mark><mark style=background-color:#f8f2f5>conducted </mark><mark style=background-color:#fbe9f2>stay </mark><mark style=background-color:#f0f6e7>has </mark><mark style=background-color:#e2f3ca>been </mark><mark style=background-color:#f3f6ed>requested </mark><mark style=background-color:#e4f4cd>during </mark><mark style=background-color:#ddf1c1>the </mark><mark style=background-color:#c0e593>year </mark><mark style=background-color:#c6e79c>that </mark><mark style=background-color:#bee490>case </mark><mark style=background-color:#ddf1c1>has </mark><mark style=background-color:#cdeaa7>been </mark><mark style=background-color:#bbe28a>pending </mark><mark style=background-color:#e9f5d8>by </mark><mark style=background-color:#d4edb3>the </mark><mark style=background-color:#d9f0bc>statutory </mark><mark style=background-color:#f3f6ed>date </mark><mark style=background-color:#f1f6ea>for </mark><mark style=background-color:#dbf0bf>decision </mark><mark style=background-color:#ebf6dc>on </mark><mark style=background-color:#e2f3ca>institution </mark><mark style=background-color:#f1f6e8>of </mark><mark style=background-color:#e4f4cd>the </mark><mark style=background-color:#f8f3f6>on </mark><mark style=background-color:#eff6e4>claim </mark><mark style=background-color:#f7f7f6>construction </mark><mark style=background-color:#f9eef4>fact </mark><mark style=background-color:#f9eff4>discovery </mark><mark style=background-color:#f4f7f0>expert </mark><mark style=background-color:#f5f7f2>discovery </mark><mark style=background-color:#e9f5d6>and </mark><mark style=background-color:#f7f6f7>the </mark><mark style=background-color:#fce4f0>pretrial </mark><mark style=background-color:#f4f7f0>conference </mark><mark style=background-color:#f7f7f6>will </mark><mark style=background-color:#ebf6dc>be </mark><mark style=background-color:#e4f4cd>completed </mark><mark style=background-color:#c7e89f>in </mark><mark style=background-color:#f4f7f0>the </mark><mark style=background-color:#f1f6ea>first </mark><mark style=background-color:#e4f4cd>litigation </mark><mark style=background-color:#f1f6ea>instituting </mark><mark style=background-color:#ebf6dc>trial </mark><mark style=background-color:#edf6df>on </mark><mark style=background-color:#f9eff4>this </mark><mark style=background-color:#f7cbe4>will </mark><mark style=background-color:#fddeee>not </mark><mark style=background-color:#faeaf2>serve </mark><mark style=background-color:#f6f7f5>as </mark><mark style=background-color:#f2f6ec>an </mark><mark style=background-color:#f9eef4>effective </mark><mark style=background-color:#faeaf2>and </mark><mark style=background-color:#f5f7f3>efficient </mark><mark style=background-color:#f9eef4>alternative </mark><mark style=background-color:#f8f2f5>to </mark><mark style=background-color:#f8f2f5>litigation </mark><mark style=background-color:#fbe7f2>frustrating </mark><mark style=background-color:#f8f3f6>a </mark><mark style=background-color:#edf6e1>primary </mark><mark style=background-color:#c2e596>objective </mark><mark style=background-color:#f6f7f5>of </mark><mark style=background-color:#ebf6db>the </mark><mark style=background-color:#f1f6ea>at </mark><mark style=background-color:#b7e085>precedential </mark><mark style=background-color:#a3d36c>institution </mark><mark style=background-color:#a9d874>should </mark><mark style=background-color:#e7f5d3>also </mark><mark style=background-color:#f7f7f6>be </mark><mark style=background-color:#e9f5d6>denied </mark><mark style=background-color:#d0ecad>because </mark><mark style=background-color:#acd977>the </mark><mark style=background-color:#f9eef4>has </mark><mark style=background-color:#f0f6e7>failed </mark><mark style=background-color:#f8f2f5>to </mark><mark style=background-color:#c9e8a2>demonstrate </mark><mark style=background-color:#e2f3ca>a </mark><mark style=background-color:#aeda7a>reasonable </mark><mark style=background-color:#eef6e2>likelihood </mark><mark style=background-color:#f8f5f6>that </mark><mark style=background-color:#f1f6e8>any </mark><mark style=background-color:#f8f3f6>claim </mark><mark style=background-color:#f7f7f7>of </mark><mark style=background-color:#fbe8f2>the </mark><mark style=background-color:#eaf5d9>patent </mark><mark style=background-color:#f8f3f6>is </mark><mark style=background-color:#f8f3f6>unpatentable </mark><mark style=background-color:#f9f0f5>because </mark><mark style=background-color:#eef6e2>each </mark><mark style=background-color:#ecf6de>ground </mark><mark style=background-color:#dff2c4>presented </mark><mark style=background-color:#e7f5d2>in </mark><mark style=background-color:#ddf1c1>the </mark><mark style=background-color:#e1f3c7>fails </mark><mark style=background-color:#e9f5d6>to </mark><mark style=background-color:#e2f3ca>disclose </mark><mark style=background-color:#f9eef4>or </mark><mark style=background-color:#eff6e4>suggest </mark><mark style=background-color:#d6eeb6>key </mark><mark style=background-color:#d2ecb0>limitations </mark><mark style=background-color:#cfebaa>of </mark><mark style=background-color:#cfebaa>the </mark><mark style=background-color:#d9f0bc>challenged </mark><mark style=background-color:#e6f5d0>claims </mark><mark style=background-color:#cdeaa7>for </mark><mark style=background-color:#e9f5d8>these </mark><mark style=background-color:#ecf6de>reasons </mark><mark style=background-color:#f7f7f7>institution </mark><mark style=background-color:#f5f7f2>should </mark><mark style=background-color:#f5f7f3>be </mark><mark style=background-color:#f4f7f0>denied </mark><mark style=background-color:#f3f7ef>requests </mark><mark style=background-color:#faecf3>that </mark><mark style=background-color:#e8f5d5>the </mark><mark style=background-color:#f9eef4>deny </mark><mark style=background-color:#f7f7f7>institution </mark><mark style=background-color:#f8f3f6>of </mark><mark style=background-color:#f6f7f5>the </mark><mark style=background-color:#fce4f0>with </mark><mark style=background-color:#fbe7f2>respect </mark><mark style=background-color:#fbe9f2>to </mark><mark style=background-color:#f9f0f5>all </mark><mark style=background-color:#fde2f0>challenged </mark><mark style=background-color:#fbe6f1>claims </mark><mark style=background-color:#fce4f0>and </mark><mark style=background-color:#fad6ea>all </mark><mark style=background-color:#f7f7f6>asserted </mark><mark style=background-color:#f9f0f5>grounds </mark><mark style=background-color:#e9f5d8>full </mark><mark style=background-color:#f9eff4>statement </mark><mark style=background-color:#f8f5f6>of </mark><mark style=background-color:#faebf3>the </mark><mark style=background-color:#f8f2f5>reasons </mark><mark style=background-color:#eaf5d9>for </mark><mark style=background-color:#f8f4f6>the </mark><mark style=background-color:#f5c6e2>relief </mark><mark style=background-color:#f5c2e0>requested </mark><mark style=background-color:#fde0ef>is </mark><mark style=background-color:#fddeee>set </mark><mark style=background-color:#f8f3f6>forth </mark><mark style=background-color:#f0f6e7>in </mark><mark style=background-color:#f8f3f6>and </mark><mark style=background-color:#f3f6ed>of </mark><mark style=background-color:#e8f5d5>this </mark><mark style=background-color:#dff2c4>¶ </mark><mark style=background-color:#d4edb3>a </mark><mark style=background-color:#e7f5d3>the </mark><mark style=background-color:#eff6e5>should </mark><mark style=background-color:#eaf5d9>exercise </mark><mark style=background-color:#e6f5d0>its </mark><mark style=background-color:#d4edb3>discretion </mark><mark style=background-color:#ebf6dc>to </mark><mark style=background-color:#d8efb9>deny </mark><mark style=background-color:#e2f3ca>the </mark><mark style=background-color:#c6e79c>because </mark><mark style=background-color:#faedf3>every </mark><mark style=background-color:#f4f7f0>factor </mark><mark style=background-color:#f8f5f6>favors </mark><mark style=background-color:#f7f6f7>the </mark><mark style=background-color:#f5f7f3>claims </mark><mark style=background-color:#fde1ef>references </mark><mark style=background-color:#f7f6f7>combinations </mark><mark style=background-color:#fbe9f2>of </mark><mark style=background-color:#e4f4cd>references </mark><mark style=background-color:#ddf1c1>and </mark><mark style=background-color:#a9d874>invalidity </mark><mark style=background-color:#b2dd7f>grounds </mark><mark style=background-color:#cfebaa>presented </mark><mark style=background-color:#d4edb3>by </mark><mark style=background-color:#e7f5d2>this </mark><mark style=background-color:#e2f3ca>are </mark><mark style=background-color:#dbf0bf>exactly </mark><mark style=background-color:#cbe9a4>the </mark><mark style=background-color:#cfebaa>same </mark><mark style=background-color:#d9f0bc>as </mark><mark style=background-color:#c0e593>those </mark><mark style=background-color:#c6e79c>presented </mark><mark style=background-color:#e9f5d8>by </mark><mark style=background-color:#f0f6e7>in </mark><mark style=background-color:#f9eef4>parallel </mark><mark style=background-color:#faedf3>district </mark><mark style=background-color:#fbe8f2>court </mark><mark style=background-color:#faedf3>proceedings </mark><mark style=background-color:#fce4f0>involving </mark><mark style=background-color:#fce5f1>the </mark><mark style=background-color:#fbe7f2>same </mark><mark style=background-color:#f4f7f0>by </mark><mark style=background-color:#f6f7f5>setting </mark><mark style=background-color:#f5f7f3>out </mark><mark style=background-color:#f8f3f6>and </mark><mark style=background-color:#f9f1f5>applying </mark><mark style=background-color:#f8f5f6>the </mark><mark style=background-color:#ebf6dc>six </mark><mark style=background-color:#f0f6e7>factors </mark><mark style=background-color:#eff6e4>as </mark><mark style=background-color:#eff6e5>detailed </mark><mark style=background-color:#eaf5d9>below </mark><mark style=background-color:#e7f5d2>while </mark><mark style=background-color:#ecf6de>is </mark><mark style=background-color:#e6f5d0>not </mark><mark style=background-color:#f8f5f6>a </mark><mark style=background-color:#f7f6f7>named </mark><mark style=background-color:#f2f6ec>party </mark><mark style=background-color:#edf6e1>in </mark><mark style=background-color:#f9f1f5>the </mark><mark style=background-color:#f9f1f5>or </mark><mark style=background-color:#f8f5f6>litigations </mark><mark style=background-color:#f5f7f3>by </mark><mark style=background-color:#e7f5d2>all </mark><mark style=background-color:#e2f3ca>evidence </mark><mark style=background-color:#ebf6dc>it </mark><mark style=background-color:#ebf6db>is </mark><mark style=background-color:#e8f5d5>directing </mark><mark style=background-color:#ecf6de>and </mark><mark style=background-color:#ebf6dc>funding </mark><mark style=background-color:#eff6e4>the </mark><mark style=background-color:#ecf6de>defense </mark><mark style=background-color:#f1f6e8>against </mark><mark style=background-color:#eaf5d9>claims </mark><mark style=background-color:#d0ecad>in </mark><mark style=background-color:#ecf6de>those </mark><mark style=background-color:#f3f6ed>proceedings </mark><mark style=background-color:#f8f4f6>has </mark><mark style=background-color:#eff6e5>therefore </mark><mark style=background-color:#edf6e1>placed </mark><mark style=background-color:#e7f5d3>itself </mark><mark style=background-color:#edf6df>in </mark><mark style=background-color:#e4f4cd>substantially </mark><mark style=background-color:#e7f5d3>the </mark><mark style=background-color:#e9f5d6>same </mark><mark style=background-color:#ddf1c1>posture </mark><mark style=background-color:#e7f5d2>as </mark><mark style=background-color:#e4f4cd>if </mark><mark style=background-color:#b9e187>it </mark><mark style=background-color:#b0dc7d>was </mark><mark style=background-color:#e6f5d0>a </mark><mark style=background-color:#e4f4cd>named </mark><mark style=background-color:#c7e89f>defendant </mark><mark style=background-color:#e4f4cd>the </mark><mark style=background-color:#e7f5d3>time </mark><mark style=background-color:#f5f7f3>an </mark><mark style=background-color:#fce3f0>institution </mark><mark style=background-color:#fad6ea>decision </mark><mark style=background-color:#fde2f0>is </mark><mark style=background-color:#fbe9f2>issued </mark><mark style=background-color:#fbe9f2>claim </mark><mark style=background-color:#f1f6ea>construction </mark><mark style=background-color:#f3f7ef>fact </mark><mark style=background-color:#f7f7f6>discovery </mark><mark style=background-color:#f1f6e8>and </mark><mark style=background-color:#f9f0f5>expert </mark><mark style=background-color:#f8f2f5>discovery </mark><mark style=background-color:#f9d1e8>will </mark><mark style=background-color:#f9d3e8>already </mark><mark style=background-color:#eeabd2>be </mark><mark style=background-color:#f0b2d7>completed </mark><mark style=background-color:#fcdded>in </mark><mark style=background-color:#f8d0e7>the </mark><mark style=background-color:#fcdbed>related </mark><mark style=background-color:#fbd9ec>of </mark><mark style=background-color:#fce3f0>litigation </mark><mark style=background-color:#faecf3>involving </mark><mark style=background-color:#fbe7f2>the </mark><mark style=background-color:#ebf6db>patent </mark><mark style=background-color:#c7e89f>is </mark><mark style=background-color:#f0f6e7>scheduled </mark><mark style=background-color:#e6f5d0>for </mark><mark style=background-color:#ebf6db>trial </mark><mark style=background-color:#dff2c4>on </mark><mark style=background-color:#ebf6db>months </mark><mark style=background-color:#f9eef4>before </mark><mark style=background-color:#fbd8eb>the </mark><mark style=background-color:#f8cee6>statutory </mark><mark style=background-color:#fbe9f2>date </mark><mark style=background-color:#f7cce5>for </mark><mark style=background-color:#f1b5d9>a </mark><mark style=background-color:#f2b8db>in </mark><mark style=background-color:#f6c7e3>this </mark><mark style=background-color:#f6c7e3>proceeding </mark><mark style=background-color:#fddeee>second </mark><mark style=background-color:#fbd8eb>litigation </mark><mark style=background-color:#fad6ea>in </mark><mark style=background-color:#faebf3>the </mark><mark style=background-color:#f9eef4>western </mark><mark style=background-color:#f7f7f6>of </mark><mark style=background-color:#f2f6ec>involving </mark><mark style=background-color:#d9f0bc>the </mark><mark style=background-color:#f0f6e7>patent </mark><mark style=background-color:#ecf6de>is </mark><mark style=background-color:#ecf6de>scheduled </mark><mark style=background-color:#e1f3c7>for </mark><mark style=background-color:#f5f7f3>trial </mark><mark style=background-color:#f1f6ea>on </mark><mark style=background-color:#f5f7f2>approximately </mark><mark style=background-color:#f9f1f5>seven </mark><mark style=background-color:#f9f1f5>months </mark><mark style=background-color:#faeaf2>before </mark><mark style=background-color:#f5f7f2>the </mark><mark style=background-color:#fad6ea>statutory </mark><mark style=background-color:#fad6ea>date </mark><mark style=background-color:#f6c9e3>for </mark><mark style=background-color:#fde1ef>a </mark><mark style=background-color:#fde2f0>in </mark><mark style=background-color:#f9f1f5>this </mark><mark style=background-color:#eaf5d9>proceeding </mark><mark style=background-color:#f9eef4>the </mark><mark style=background-color:#eff6e5>timing </mark><mark style=background-color:#e7f5d3>of </mark><mark style=background-color:#d9f0bc>the </mark><mark style=background-color:#e6f5d0>parallel </mark><mark style=background-color:#b9e187>district </mark><mark style=background-color:#cdeaa7>court </mark><mark style=background-color:#e6f5d0>trials </mark><mark style=background-color:#cbe9a4>is </mark><mark style=background-color:#7dba40>a </mark><mark style=background-color:#6dad36>direct </mark><mark style=background-color:#a9d874>result </mark><mark style=background-color:#a5d56f>of </mark><mark style=background-color:#e9f5d6>delay </mark><mark style=background-color:#c6e79c>in </mark><mark style=background-color:#dff2c4>filing </mark><mark style=background-color:#dff2c4>the </mark><mark style=background-color:#c7e89f>the </mark><mark style=background-color:#f4f7f0>was </mark><mark style=background-color:#dff2c4>filed </mark><mark style=background-color:#d8efb9>eight </mark><mark style=background-color:#e2f3ca>months </mark><mark style=background-color:#e7f5d3>after </mark><mark style=background-color:#f9eef4>the </mark><mark style=background-color:#f9eef4>litigation </mark><mark style=background-color:#f7cbe4>began </mark><mark style=background-color:#f8f5f6>and </mark><mark style=background-color:#f3f6ed>five </mark><mark style=background-color:#f5c2e0>months </mark><mark style=background-color:#fde1ef>after </mark><mark style=background-color:#f8d0e7>its </mark><mark style=background-color:#fce5f1>counsel </mark><mark style=background-color:#f9eef4>entered </mark><mark style=background-color:#f3f7ef>an </mark><mark style=background-color:#faecf3>appearance </mark><mark style=background-color:#fbe9f2>in </mark><mark style=background-color:#f5f7f2>that </mark><mark style=background-color:#f8f4f6>litigation </mark><mark style=background-color:#f5f7f2>the </mark><mark style=background-color:#f9eff4>is </mark><mark style=background-color:#f9eef4>likely </mark><mark style=background-color:#f9f0f5>to </mark><mark style=background-color:#f9eef4>fail </mark><mark style=background-color:#f7f7f6>on </mark><mark style=background-color:#f9f0f5>the </mark><mark style=background-color:#f7f7f6>merits </mark><mark style=background-color:#f5f7f2>as </mark><mark style=background-color:#d8efb9>each </mark><mark style=background-color:#edf6e1>unpatentability </mark><mark style=background-color:#ebf6db>ground </mark><mark style=background-color:#f9f1f5>presented </mark><mark style=background-color:#edf6df>fails </mark><mark style=background-color:#f9f0f5>to </mark><mark style=background-color:#faebf3>disclose </mark><mark style=background-color:#f8f4f6>or </mark><mark style=background-color:#fde1ef>suggest </mark><mark style=background-color:#f6f7f5>key </mark><mark style=background-color:#fde0ef>limitations </mark><mark style=background-color:#faebf3>of </mark><mark style=background-color:#fce4f0>the </mark><mark style=background-color:#f8f3f6>challenged </mark><mark style=background-color:#fde1ef>claims </mark><mark style=background-color:#fcdded>of </mark><mark style=background-color:#f7cce5>discretionary </mark><mark style=background-color:#fddeee>denial </mark><mark style=background-color:#f9d1e8>arguments </mark><mark style=background-color:#fbe7f2>are </mark><mark style=background-color:#fce5f1>premised </mark><mark style=background-color:#fce5f1>on </mark><mark style=background-color:#f9f0f5>the </mark><mark style=background-color:#e6f5d0>assertion </mark><mark style=background-color:#fbe8f2>that </mark><mark style=background-color:#f0f6e7>it </mark><mark style=background-color:#f0f6e7>is </mark><mark style=background-color:#faedf3>not </mark><mark style=background-color:#f9f1f5>a </mark><mark style=background-color:#f9eef4>party </mark><mark style=background-color:#faebf3>to </mark><mark style=background-color:#fde2f0>any </mark><mark style=background-color:#eef6e2>litigation </mark><mark style=background-color:#e4f4cd>regarding </mark><mark style=background-color:#f9f1f5>the </mark><mark style=background-color:#f8f2f5>invalidity </mark><mark style=background-color:#eaf5d9>of </mark><mark style=background-color:#e4f4cd>the </mark><mark style=background-color:#eaf5d9>based </mark><mark style=background-color:#dbf0bf>on </mark><mark style=background-color:#edf6e1>this </mark><mark style=background-color:#e2f3ca>assertion </mark><mark style=background-color:#edf6e1>urges </mark><mark style=background-color:#e8f5d5>the </mark><mark style=background-color:#e2f3ca>to </mark><mark style=background-color:#dbf0bf>ignore </mark><mark style=background-color:#ebf6dc>the </mark><mark style=background-color:#e9f5d6>and </mark><mark style=background-color:#f8f2f5>litigations </mark><mark style=background-color:#f8f3f6>because </mark><mark style=background-color:#f3f7ef>deserves </mark><mark style=background-color:#f0f6e7>to </mark><mark style=background-color:#f7f7f6>be </mark><mark style=background-color:#faedf3>heard </mark><mark style=background-color:#f7f6f7>regarding </mark><mark style=background-color:#faebf3>the </mark><mark style=background-color:#f3f6ed>invalidity </mark><mark style=background-color:#f1f6e8>of </mark><mark style=background-color:#eff6e5>the </mark><mark style=background-color:#ebf6db>however </mark><mark style=background-color:#f3f7ef>there </mark><mark style=background-color:#edf6df>is </mark><mark style=background-color:#eff6e5>no </mark><mark style=background-color:#e7f5d3>reasonable </mark><mark style=background-color:#f0f6e7>doubt </mark><mark style=background-color:#edf6e1>that </mark><mark style=background-color:#fbe9f2>is </mark><mark style=background-color:#eff6e5>directing </mark><mark style=background-color:#f1f6ea>and </mark><mark style=background-color:#f7f7f7>controlling </mark><mark style=background-color:#faebf3>defense </mark><mark style=background-color:#f6c7e3>of </mark><mark style=background-color:#fde1ef>those </mark><mark style=background-color:#f4bfdf>proceedings </mark><mark style=background-color:#fbd8eb>the </mark><mark style=background-color:#fad6ea>same </mark><mark style=background-color:#f8d0e7>counsel </mark><mark style=background-color:#f9d3e8>representing </mark><mark style=background-color:#fad6ea>before </mark><mark style=background-color:#edf6e1>the </mark><mark style=background-color:#eff6e5>also </mark><mark style=background-color:#ecf6de>represents </mark><mark style=background-color:#f2f6ec>eight </mark><mark style=background-color:#f5f7f2>defendants </mark><mark style=background-color:#edf6e1>in </mark><mark style=background-color:#e6f5d0>the </mark><mark style=background-color:#e4f4cd>and </mark><mark style=background-color:#e7f5d2>litigations </mark><mark style=background-color:#eef6e2>and </mark><mark style=background-color:#ebf6db>has </mark><mark style=background-color:#eaf5d9>identified </mark><mark style=background-color:#e8f5d5>those </mark><mark style=background-color:#c0e593>eight </mark><mark style=background-color:#f3f6ed>defendants </mark><mark style=background-color:#f0f6e7>as </mark><mark style=background-color:#fbe9f2>real </mark><mark style=background-color:#f8f3f6>parties-in-interest </mark><mark style=background-color:#fce5f1>for </mark><mark style=background-color:#fce5f1>purposes </mark><mark style=background-color:#fbd9ec>of </mark><mark style=background-color:#fad4e9>this </mark><mark style=background-color:#f8f3f6>pp </mark><mark style=background-color:#f8f2f5><OOV> </mark><mark style=background-color:#f9eff4>with </mark><mark style=background-color:#f1f6e8>and </mark><mark style=background-color:#f4f7f0>commissioned </mark><mark style=background-color:#e6f5d0>the </mark><mark style=background-color:#e8f5d5>same </mark><mark style=background-color:#e7f5d3>expert </mark><mark style=background-color:#f7f7f6>relied </mark><mark style=background-color:#f7f7f7>upon </mark><mark style=background-color:#dff2c4>here </mark><mark style=background-color:#cdeaa7>to </mark><mark style=background-color:#cdeaa7>prepare </mark><mark style=background-color:#e2f3ca>a </mark><mark style=background-color:#f1f6ea>report </mark><mark style=background-color:#e7f5d2>challenging </mark><mark style=background-color:#e1f3c7>the </mark><mark style=background-color:#e8f5d5>validity </mark><mark style=background-color:#edf6e1>of </mark><mark style=background-color:#f4f7f0>the </mark><mark style=background-color:#f5f7f2>patent </mark><mark style=background-color:#d4edb3>in </mark><mark style=background-color:#e7f5d3>the </mark><mark style=background-color:#f6f7f5>litigation </mark><mark style=background-color:#eaf5d9>and </mark><mark style=background-color:#eef6e2>that </mark><mark style=background-color:#e4f4cd>report </mark><mark style=background-color:#d6eeb6>was </mark><mark style=background-color:#e8f5d5>served </mark><mark style=background-color:#e2f3ca>on </mark><mark style=background-color:#d2ecb0>by </mark><mark style=background-color:#d9f0bc>the </mark><mark style=background-color:#e9f5d6>defendants </mark><mark style=background-color:#f3f6ed>has </mark><mark style=background-color:#f7f7f6>been </mark><mark style=background-color:#e9f5d6>retained </mark><mark style=background-color:#ecf6de>by </mark><mark style=background-color:#eff6e5>on </mark><mark style=background-color:#f2f6ec>behalf </mark><mark style=background-color:#f4f7f0>of </mark><mark style=background-color:#f8f4f6>s </mark><mark style=background-color:#ebf6dc>counsel </mark><mark style=background-color:#f6f7f5>also </mark><mark style=background-color:#edf6e1>submitted </mark><mark style=background-color:#f7f7f7>invalidity </mark><mark style=background-color:#f3f6ed>contentions </mark><mark style=background-color:#f1f6e8>in </mark><mark style=background-color:#f1f6ea>the </mark><mark style=background-color:#f8f5f6>parallel </mark><mark style=background-color:#f2f6ec>litigations </mark><mark style=background-color:#f5f7f3>on </mark><mark style=background-color:#e8f5d5>behalf </mark><mark style=background-color:#edf6df>of </mark><mark style=background-color:#ebf6dc>six </mark><mark style=background-color:#f5f7f2>of </mark><mark style=background-color:#e8f5d5>those </mark><mark style=background-color:#ecf6de>defendants </mark><mark style=background-color:#f1f6ea>there </mark><mark style=background-color:#e7f5d3>can </mark><mark style=background-color:#edf6df>be </mark><mark style=background-color:#d6eeb6>no </mark><mark style=background-color:#e9f5d8>doubt </mark><mark style=background-color:#d8efb9>that </mark><mark style=background-color:#f0f6e7>through </mark><mark style=background-color:#e8f5d5>its </mark><mark style=background-color:#f7f7f7>counsel </mark><mark style=background-color:#fde0ef>at </mark><mark style=background-color:#fcdbed>is </mark><mark style=background-color:#faebf3>funding </mark><mark style=background-color:#eaf5d9>directing </mark><mark style=background-color:#f2f6ec>and </mark><mark style=background-color:#e8f5d5>controlling </mark><mark style=background-color:#b2dd7f>defense </mark><mark style=background-color:#a5d56f>of </mark><mark style=background-color:#93c959>the </mark><mark style=background-color:#77b53c>litigations </mark><mark style=background-color:#a5d56f>at </mark><mark style=background-color:#c6e79c>a </mark><mark style=background-color:#bbe28a>bare </mark><mark style=background-color:#e6f5d0>minimum </mark><mark style=background-color:#e9f5d8>there </mark><mark style=background-color:#e7f5d2>is </mark><mark style=background-color:#e4f4cd>a </mark><mark style=background-color:#ebf6dc>more </mark><mark style=background-color:#f9eff4>than </mark><mark style=background-color:#eaf5d9>significant </mark><mark style=background-color:#f1f6ea>relationship </mark><mark style=background-color:#e1f3c7>between </mark><mark style=background-color:#cdeaa7>and </mark><mark style=background-color:#a3d36c>the </mark><mark style=background-color:#a9d874>defendants </mark><mark style=background-color:#b0dc7d>as </mark><mark style=background-color:#8ac34f>it </mark><mark style=background-color:#77b53c>pertains </mark><mark style=background-color:#9ccf64>to </mark><mark style=background-color:#c6e79c>the </mark><mark style=background-color:#5ea02c>validity </mark><mark style=background-color:#cdeaa7>of </mark><mark style=background-color:#bbe28a>the </mark><mark style=background-color:#d2ecb0>patent </mark><mark style=background-color:#f1f6ea>and </mark><mark style=background-color:#f8f5f6>the </mark><mark style=background-color:#f6f7f5>challenges </mark><mark style=background-color:#eff6e4>thereto </mark><mark style=background-color:#f7f7f6>in </mark><mark style=background-color:#f8f2f5>the </mark><mark style=background-color:#f0f6e7>litigation </mark><mark style=background-color:#f5f7f3>scripting </mark><mark style=background-color:#f3f6ed>at </mark><mark style=background-color:#f1f6e8>precedential </mark><mark style=background-color:#f7f6f7>denying </mark><mark style=background-color:#fce5f1>institution </mark><mark style=background-color:#fce4f0>where </mark><mark style=background-color:#fcdded>there </mark><mark style=background-color:#fbd9ec>was </mark><mark style=background-color:#f0f6e7>a </mark><mark style=background-color:#edf6df>significant </mark><mark style=background-color:#eff6e5>relationship </mark><mark style=background-color:#f5f7f3>between </mark><mark style=background-color:#c6e79c>and </mark><mark style=background-color:#8cc551>with </mark><mark style=background-color:#a7d672>respect </mark><mark style=background-color:#569927>to </mark><mark style=background-color:#93c959>the </mark><mark style=background-color:#7bb93e>challenged </mark><mark style=background-color:#86c049>patent </mark><mark style=background-color:#73b239>that </mark><mark style=background-color:#7bb93e>weighed </mark><mark style=background-color:#64a52f>in </mark><mark style=background-color:#569927>favor </mark><mark style=background-color:#509423>of </mark><mark style=background-color:#81bd44>discretionary </mark><mark style=background-color:#509423>indeed </mark><mark style=background-color:#276419>the </mark><mark style=background-color:#488c20>notably </mark><mark style=background-color:#40831e>the </mark><mark style=background-color:#83bf46>report </mark><mark style=background-color:#77b53c>states </mark><mark style=background-color:#9ed067>that </mark><mark style=background-color:#c2e596>the </mark><mark style=background-color:#c7e89f>expert </mark><mark style=background-color:#f0f6e7>was </mark><mark style=background-color:#ecf6de>retained </mark><mark style=background-color:#d9f0bc>by </mark><mark style=background-color:#c9e8a2>but </mark><mark style=background-color:#91c857>to </mark><mark style=background-color:#86c049>knowledge </mark><mark style=background-color:#62a32e>there </mark><mark style=background-color:#498d20>is </mark><mark style=background-color:#498d20>no </mark><mark style=background-color:#3c7d1d>such </mark><mark style=background-color:#3f811e>entity </mark><mark style=background-color:#66a731>and </mark><mark style=background-color:#9acd61>the </mark><mark style=background-color:#a5d56f>use </mark><mark style=background-color:#ddf1c1>of </mark><mark style=background-color:#c7e89f>instead </mark><mark style=background-color:#d6eeb6>of </mark><mark style=background-color:#eaf5d9>is </mark><mark style=background-color:#eef6e2>a </mark><mark style=background-color:#e7f5d3>typographical </mark><mark style=background-color:#e9f5d8>error </mark><mark style=background-color:#f8f2f5>in </mark><mark style=background-color:#f0f6e7>the </mark><mark style=background-color:#eff6e4>report </mark><mark style=background-color:#f3f6ed>avoids </mark><mark style=background-color:#ecf6de>any </mark><mark style=background-color:#f7f7f6>representation </mark><mark style=background-color:#f3f7ef>that </mark><mark style=background-color:#f4f7f0>and </mark><mark style=background-color:#f9f1f5>its </mark><mark style=background-color:#f4f7f0>attorneys </mark><mark style=background-color:#f7f7f6>are </mark><mark style=background-color:#e8f5d5>not </mark><mark style=background-color:#ecf6de>directing </mark><mark style=background-color:#d4edb3>and </mark><mark style=background-color:#d4edb3>controlling </mark><mark style=background-color:#dff2c4>the </mark><mark style=background-color:#bbe28a>litigations </mark><mark style=background-color:#a3d36c>merely </mark><mark style=background-color:#a5d56f>stating </mark><mark style=background-color:#c0e593>that </mark><mark style=background-color:#e1f3c7>is </mark><mark style=background-color:#9ed067>not </mark><mark style=background-color:#c2e596>a </mark><mark style=background-color:#d6eeb6>party </mark><mark style=background-color:#cbe9a4>carefully </mark><mark style=background-color:#ecf6de>worded </mark><mark style=background-color:#e2f3ca>statement </mark><mark style=background-color:#d0ecad>that </mark><mark style=background-color:#cdeaa7>if </mark><mark style=background-color:#e4f4cd>is </mark><mark style=background-color:#e7f5d3>instituted </mark><mark style=background-color:#a1d26a>will </mark><mark style=background-color:#a1d26a>not </mark><mark style=background-color:#bee490>pursue </mark><mark style=background-color:#6bac34>in </mark><mark style=background-color:#a3d36c>any </mark><mark style=background-color:#88c24c>with </mark><mark style=background-color:#7dba40>any </mark><mark style=background-color:#6bac34>ground </mark><mark style=background-color:#a9d874>raised </mark><mark style=background-color:#b7e085>or </mark><mark style=background-color:#93c959>that </mark><mark style=background-color:#9ed067>could </mark><mark style=background-color:#b7e085>have </mark><mark style=background-color:#b2dd7f>been </mark><mark style=background-color:#c0e593>reasonably </mark><mark style=background-color:#9ccf64>raised </mark><mark style=background-color:#b7e085>in </mark><mark style=background-color:#c6e79c>an </mark><mark style=background-color:#b0dc7d>is </mark><mark style=background-color:#cfebaa>meaningless </mark><mark style=background-color:#ddf1c1>the </mark><mark style=background-color:#e8f5d5>eight </mark><mark style=background-color:#ddf1c1>real </mark><mark style=background-color:#ddf1c1>parties-in-interest </mark><mark style=background-color:#d8efb9>to </mark><mark style=background-color:#e9f5d8>this </mark><mark style=background-color:#edf6e1>six </mark><mark style=background-color:#edf6e1>of </mark><mark style=background-color:#cdeaa7>whom </mark><mark style=background-color:#d2ecb0>are </mark><mark style=background-color:#d4edb3>defendants </mark><mark style=background-color:#cfebaa>have </mark><mark style=background-color:#bee490>not </mark><mark style=background-color:#e2f3ca>agreed </mark><mark style=background-color:#c6e79c>to </mark><mark style=background-color:#ddf1c1>such </mark><mark style=background-color:#cfebaa>any </mark><mark style=background-color:#cdeaa7>such </mark><mark style=background-color:#d8efb9>stipulation </mark><mark style=background-color:#e7f5d2>and </mark><mark style=background-color:#f3f6ed>are </mark><mark style=background-color:#c7e89f>currently </mark><mark style=background-color:#c4e699>relying </mark><mark style=background-color:#b5df82>on </mark><mark style=background-color:#88c24c>an </mark><mark style=background-color:#d2ecb0>expert </mark><mark style=background-color:#c9e8a2>report </mark><mark style=background-color:#9acd61>commissioned </mark><mark style=background-color:#549825>by </mark><mark style=background-color:#4b8f21>that </mark><mark style=background-color:#549825>asserts </mark><mark style=background-color:#69aa33>the </mark><mark style=background-color:#a1d26a>exact </mark><mark style=background-color:#83bf46>grounds </mark><mark style=background-color:#75b43b>presented </mark><mark style=background-color:#9acd61>in </mark><mark style=background-color:#7dba40>this </mark><mark style=background-color:#b5df82>is </mark><mark style=background-color:#b2dd7f>pursuing </mark><mark style=background-color:#a9d874>every </mark><mark style=background-color:#88c24c>unpatentability </mark><mark style=background-color:#aeda7a>ground </mark><mark style=background-color:#98cc5f>raised </mark><mark style=background-color:#7dba40>in </mark><mark style=background-color:#c0e593>the </mark><mark style=background-color:#b9e187>in </mark><mark style=background-color:#a9d874>the </mark><mark style=background-color:#a5d56f>parallel </mark><mark style=background-color:#86c049>litigation </mark><mark style=background-color:#66a731>through </mark><mark style=background-color:#98cc5f>its </mark><mark style=background-color:#c0e593>direction </mark><mark style=background-color:#a7d672>and </mark><mark style=background-color:#b9e187>control </mark><mark style=background-color:#d9f0bc>of </mark><mark style=background-color:#b0dc7d>the </mark><mark style=background-color:#f7f7f6>defense </mark><mark style=background-color:#f9eff4>of </mark><mark style=background-color:#faebf3>six </mark><mark style=background-color:#fce5f1>defendants </mark><mark style=background-color:#f8f4f6>as </mark><mark style=background-color:#f6c9e3>evidenced </mark><mark style=background-color:#fde0ef>by </mark><mark style=background-color:#faecf3>the </mark><mark style=background-color:#f8f3f6>expert </mark><mark style=background-color:#f0f6e7>report </mark><mark style=background-color:#d8efb9>itself </mark><mark style=background-color:#cbe9a4>commissioned </mark><mark style=background-color:#b7e085>to </mark><mark style=background-color:#91c857>support </mark><mark style=background-color:#6bac34>those </mark><mark style=background-color:#8fc654>defendants </mark><mark style=background-color:#86c049>and </mark><mark style=background-color:#69aa33>the </mark><mark style=background-color:#9acd61>common </mark><mark style=background-color:#cfebaa>counsel </mark><mark style=background-color:#c6e79c>between </mark><mark style=background-color:#e1f3c7>the </mark><mark style=background-color:#ebf6dc>two </mark><mark style=background-color:#ddf1c1>proceedings </mark><mark style=background-color:#c6e79c>stipulation </mark><mark style=background-color:#ebf6db>is </mark><mark style=background-color:#eef6e2>therefore </mark><mark style=background-color:#c6e79c><OOV> </mark><mark style=background-color:#e7f5d2>if </mark><mark style=background-color:#d6eeb6>the </mark><mark style=background-color:#d2ecb0>were </mark><mark style=background-color:#a9d874>instituted </mark><mark style=background-color:#b0dc7d>would </mark><mark style=background-color:#bee490>be </mark><mark style=background-color:#6bac34>free </mark><mark style=background-color:#b0dc7d>to </mark><mark style=background-color:#8cc551>continue </mark><mark style=background-color:#9ccf64>pursuing </mark><mark style=background-color:#77b53c>the </mark><mark style=background-color:#b0dc7d>same </mark><mark style=background-color:#cbe9a4>unpatentability </mark><mark style=background-color:#c4e699>arguments </mark><mark style=background-color:#eef6e2>through </mark><mark style=background-color:#f7f7f6>the </mark><mark style=background-color:#fbe6f1>real-parties-in-interest </mark><mark style=background-color:#f5f7f2>moreover </mark><mark style=background-color:#f3bdde>has </mark><mark style=background-color:#fad4e9>not </mark><mark style=background-color:#fad6ea>made </mark><mark style=background-color:#fbe8f2>the </mark><mark style=background-color:#f3f7ef>broad </mark><mark style=background-color:#eef6e2>stipulation </mark><mark style=background-color:#f4f7f0>recommended </mark><mark style=background-color:#f4f7f0>by </mark><mark style=background-color:#e7f5d3>the </mark><mark style=background-color:#f6f7f5>precedential </mark><mark style=background-color:#ebf6dc>and </mark><mark style=background-color:#f8f4f6>which </mark><mark style=background-color:#f8f5f6>require </mark><mark style=background-color:#f8f3f6>a </mark><mark style=background-color:#f8f4f6>stipulation </mark><mark style=background-color:#faeaf2>that </mark><mark style=background-color:#fce3f0>would </mark><mark style=background-color:#f8f4f6>not </mark><mark style=background-color:#f9f0f5>pursue </mark><mark style=background-color:#f9eef4>in </mark><mark style=background-color:#f9f0f5>the </mark><mark style=background-color:#e8f5d5>litigation </mark><mark style=background-color:#bde38d>any </mark><mark style=background-color:#bde38d>ground </mark><mark style=background-color:#98cc5f>raised </mark><mark style=background-color:#6dad36>or </mark><mark style=background-color:#33721c>that </mark><mark style=background-color:#60a22d>could </mark><mark style=background-color:#88c24c>have </mark><mark style=background-color:#66a731>been </mark><mark style=background-color:#4c9121>reasonably </mark><mark style=background-color:#8ac34f>raised </mark><mark style=background-color:#71b038>in </mark><mark style=background-color:#ddf1c1>the </mark><mark style=background-color:#e8f5d5>pp </mark><mark style=background-color:#dbf0bf>fn </mark><mark style=background-color:#a9d874>in </mark><mark style=background-color:#9ed067>short </mark><mark style=background-color:#c7e89f>all </mark><mark style=background-color:#e8f5d5>evidence </mark><mark style=background-color:#f3f6ed>indicates </mark><mark style=background-color:#eef6e2>that </mark><mark style=background-color:#ebf6dc>is </mark><mark style=background-color:#eff6e5>directing </mark><mark style=background-color:#fbe7f2>funding </mark><mark style=background-color:#fcdbed>and </mark><mark style=background-color:#fbe9f2>controlling </mark><mark style=background-color:#fad6ea>the </mark><mark style=background-color:#f5f7f3>invalidity </mark><mark style=background-color:#fbe7f2>challenges </mark><mark style=background-color:#f5f7f3>including </mark><mark style=background-color:#c9e8a2>commissioning </mark><mark style=background-color:#b5df82>and </mark><mark style=background-color:#acd977>submitting </mark><mark style=background-color:#e1f3c7>an </mark><mark style=background-color:#cdeaa7>expert </mark><mark style=background-color:#e9f5d8>report </mark><mark style=background-color:#e4f4cd>that </mark><mark style=background-color:#dbf0bf>matches </mark><mark style=background-color:#f8f5f6>the </mark><mark style=background-color:#faecf3>grounds </mark><mark style=background-color:#f1b5d9>of </mark><mark style=background-color:#faedf3>this </mark><mark style=background-color:#fbd9ec>exactly </mark><mark style=background-color:#f0f6e7>and </mark><mark style=background-color:#e7f5d2>has </mark><mark style=background-color:#d8efb9>thereby </mark><mark style=background-color:#d0ecad>voluntarily </mark><mark style=background-color:#e7f5d2>placed </mark><mark style=background-color:#bbe28a>itself </mark><mark style=background-color:#93c959>in </mark><mark style=background-color:#bee490>the </mark><mark style=background-color:#a1d26a>shoes </mark><mark style=background-color:#bee490>of </mark><mark style=background-color:#d8efb9>the </mark><mark style=background-color:#dff2c4>eight </mark><mark style=background-color:#ebf6dc>and </mark><mark style=background-color:#c7e89f>defendants </mark><mark style=background-color:#d2ecb0>that </mark><mark style=background-color:#95cb5c>are </mark><mark style=background-color:#cdeaa7>real </mark><mark style=background-color:#d4edb3>parties-in-interest </mark><mark style=background-color:#d9f0bc>to </mark><mark style=background-color:#cdeaa7>the </mark><mark style=background-color:#dff2c4>while </mark><mark style=background-color:#d9f0bc>is </mark><mark style=background-color:#e9f5d8>free </mark><mark style=background-color:#f3f6ed>to </mark><mark style=background-color:#fcdded>proceed </mark><mark style=background-color:#f8cee6>with </mark><mark style=background-color:#f4c1df>its </mark><mark style=background-color:#e48bbc>chosen </mark><mark style=background-color:#f6c7e3>approach </mark><mark style=background-color:#efb0d6>respectfully </mark><mark style=background-color:#f9d3e8>submits </mark><mark style=background-color:#e795c3>that </mark><mark style=background-color:#f8f5f6>the </mark><mark style=background-color:#f7f7f7>in </mark><mark style=background-color:#f8f2f5>considering </mark><mark style=background-color:#f8f3f6>whether </mark><mark style=background-color:#fce5f1>efficiency </mark><mark style=background-color:#f7f7f6>fairness </mark><mark style=background-color:#f9eef4>and </mark><mark style=background-color:#f8f4f6>the </mark><mark style=background-color:#f8f4f6>merits </mark><mark style=background-color:#f8f2f5>support </mark><mark style=background-color:#edf6df>the </mark><mark style=background-color:#f4f7f0>exercise </mark><mark style=background-color:#f4f7f0>of </mark><mark style=background-color:#eff6e4>authority </mark><mark style=background-color:#eaf5d9>to </mark><mark style=background-color:#f2f6ec>deny </mark><mark style=background-color:#f0f6e7>institution </mark><mark style=background-color:#eaf5d9>of </mark><mark style=background-color:#e9f5d8>the </mark><mark style=background-color:#ebf6db>should </mark><mark style=background-color:#e7f5d3>analyze </mark><mark style=background-color:#b0dc7d>the </mark><mark style=background-color:#aeda7a>factors </mark><mark style=background-color:#b9e187>in </mark><mark style=background-color:#a9d874>view </mark><mark style=background-color:#d2ecb0>of </mark><mark style=background-color:#bee490>the </mark><mark style=background-color:#cdeaa7>fact </mark><mark style=background-color:#cfebaa>that </mark><mark style=background-color:#ebf6db>is </mark><mark style=background-color:#e9f5d8>currently </mark><mark style=background-color:#d9f0bc>challenging </mark><mark style=background-color:#d6eeb6>the </mark><mark style=background-color:#e9f5d6>claims </mark><mark style=background-color:#e6f5d0>of </mark><mark style=background-color:#c7e89f>the </mark><mark style=background-color:#ebf6db>patent </mark><mark style=background-color:#e2f3ca>in </mark><mark style=background-color:#e7f5d2>the </mark><mark style=background-color:#f9eef4>litigation </mark><mark style=background-color:#f1f6ea>on </mark><mark style=background-color:#ecf6de>the </mark><mark style=background-color:#f4f7f0>same </mark><mark style=background-color:#eef6e2>unpatentability </mark><mark style=background-color:#edf6e1>grounds </mark><mark style=background-color:#f3f6ed>presented </mark><mark style=background-color:#fbe8f2>in </mark><mark style=background-color:#f9d1e8>the </mark><mark style=background-color:#f9f0f5>viewed </mark><mark style=background-color:#fbd8eb>in </mark><mark style=background-color:#f8d0e7>that </mark><mark style=background-color:#fbe7f2>light </mark><mark style=background-color:#fce3f0>factor </mark><mark style=background-color:#f8f4f6>weighs </mark><mark style=background-color:#f7f6f7>heavily </mark><mark style=background-color:#faebf3>in </mark><mark style=background-color:#f9eef4>favor </mark><mark style=background-color:#f8f5f6>of </mark><mark style=background-color:#fce5f1>discretionary </mark><mark style=background-color:#faebf3>denial </mark><mark style=background-color:#f9eff4>moreover </mark><mark style=background-color:#fbe8f2>factor </mark><mark style=background-color:#f5c4e1>would </mark><mark style=background-color:#fcdded>weigh </mark><mark style=background-color:#fce3f0>in </mark><mark style=background-color:#f3f7ef>favor </mark><mark style=background-color:#f9f1f5>of </mark><mark style=background-color:#f9f0f5>denial </mark><mark style=background-color:#f7f7f7>even </mark><mark style=background-color:#fce5f1>if </mark><mark style=background-color:#f8f4f6>were </mark><mark style=background-color:#eaf5d9>completely </mark><mark style=background-color:#f7f6f7><OOV> </mark><mark style=background-color:#fcdbed>in </mark><mark style=background-color:#fde2f0>the </mark><mark style=background-color:#f9d1e8>litigation </mark><mark style=background-color:#f5c2e0>instructs </mark><mark style=background-color:#fad4e9>that </mark><mark style=background-color:#f5c6e2>e </mark><mark style=background-color:#fde2f0>ven </mark><mark style=background-color:#fde0ef>when </mark><mark style=background-color:#e8f5d5>a </mark><mark style=background-color:#fbe7f2>petitioner </mark><mark style=background-color:#fddeee>is </mark><mark style=background-color:#f4f7f0>unrelated </mark><mark style=background-color:#f8f3f6>to </mark><mark style=background-color:#a3d36c>a </mark><mark style=background-color:#f0f6e7>defendant </mark><mark style=background-color:#c9e8a2>however </mark><mark style=background-color:#eaf5d9>if </mark><mark style=background-color:#edf6df>the </mark><mark style=background-color:#d0ecad>issues </mark><mark style=background-color:#d4edb3>are </mark><mark style=background-color:#c7e89f>the </mark><mark style=background-color:#f1f6e8>same </mark><mark style=background-color:#eff6e5>as </mark><mark style=background-color:#f9f1f5>or </mark><mark style=background-color:#fbe8f2>substantially </mark><mark style=background-color:#f0f6e7>similar </mark><mark style=background-color:#f2f6ec>to </mark><mark style=background-color:#fbe8f2>those </mark><mark style=background-color:#fbd9ec>already </mark><mark style=background-color:#faeaf2>or </mark><mark style=background-color:#eaf5d9>about </mark><mark style=background-color:#d0ecad>to </mark><mark style=background-color:#d4edb3>be </mark><mark style=background-color:#c2e596>litigated </mark><mark style=background-color:#acd977>or </mark><mark style=background-color:#98cc5f>other </mark><mark style=background-color:#88c24c>circumstances </mark><mark style=background-color:#91c857>weigh </mark><mark style=background-color:#c7e89f>against </mark><mark style=background-color:#b7e085>redoing </mark><mark style=background-color:#c0e593>the </mark><mark style=background-color:#bbe28a>work </mark><mark style=background-color:#e4f4cd>of </mark><mark style=background-color:#e7f5d3>another </mark><mark style=background-color:#eff6e4>tribunal </mark><mark style=background-color:#f7f7f6>the </mark><mark style=background-color:#f1f6e8>may </mark><mark style=background-color:#fbe7f2>nonetheless </mark><mark style=background-color:#fcdded>exercise </mark><mark style=background-color:#fbe9f2>the </mark><mark style=background-color:#f8f5f6>authority </mark><mark style=background-color:#f1f6ea>to </mark><mark style=background-color:#e4f4cd>deny </mark><mark style=background-color:#edf6df>institution </mark><mark style=background-color:#a3d36c>at </mark><mark style=background-color:#ddf1c1>submission </mark><mark style=background-color:#ebf6db>in </mark><mark style=background-color:#f6f7f5>the </mark><mark style=background-color:#fde2f0>litigation </mark><mark style=background-color:#f6f7f5>of </mark><mark style=background-color:#ecf6de>an </mark><mark style=background-color:#f5f7f3>expert </mark><mark style=background-color:#fbe8f2>report </mark><mark style=background-color:#f9eef4>that </mark><mark style=background-color:#f9eff4>exactly </mark><mark style=background-color:#f7f6f7>matches </mark><mark style=background-color:#ebf6dc>the </mark><mark style=background-color:#e6f5d0>grounds </mark><mark style=background-color:#f6f7f5>raised </mark><mark style=background-color:#fbe8f2>in </mark><mark style=background-color:#fde0ef>the </mark><mark style=background-color:#fce4f0>weigh </mark><mark style=background-color:#fbe8f2>against </mark><mark style=background-color:#faebf3>redoing </mark><mark style=background-color:#fbd8eb>the </mark><mark style=background-color:#fbd9ec>work </mark><mark style=background-color:#faebf3>of </mark><mark style=background-color:#f7f7f6>the </mark><mark style=background-color:#ebf6db>court </mark><mark style=background-color:#e1f3c7>assertion </mark><mark style=background-color:#ebf6dc>that </mark><mark style=background-color:#d6eeb6>this </mark><mark style=background-color:#f9f1f5>is </mark><mark style=background-color:#f3f6ed>the </mark><mark style=background-color:#fce3f0>only </mark><mark style=background-color:#f7f6f7>vehicle </mark><mark style=background-color:#fce4f0>by </mark><mark style=background-color:#f4bfdf>which </mark><mark style=background-color:#f5c4e1>it </mark><mark style=background-color:#fde2f0>can </mark><mark style=background-color:#f9eef4>challenge </mark><mark style=background-color:#f9f1f5>patentability </mark><mark style=background-color:#f8f2f5>of </mark><mark style=background-color:#f9eef4>the </mark><mark style=background-color:#f8f2f5>patent </mark><mark style=background-color:#fbd9ec>is </mark><mark style=background-color:#fbe9f2>simply </mark><mark style=background-color:#f8f5f6>untrue </mark><mark style=background-color:#f2f6ec>and </mark><mark style=background-color:#f5c4e1>to </mark><mark style=background-color:#eca6cf>and </mark><mark style=background-color:#f4bfdf>in </mark><mark style=background-color:#fbe6f1>as </mark><mark style=background-color:#f9eef4>noted </mark><mark style=background-color:#f8f5f6>above </mark><mark style=background-color:#f9d3e8>the </mark><mark style=background-color:#f9eef4>parallel </mark><mark style=background-color:#f9f1f5>litigations </mark><mark style=background-color:#d4edb3>are </mark><mark style=background-color:#dff2c4>at </mark><mark style=background-color:#eef6e2>an </mark><mark style=background-color:#e8f5d5>advanced </mark><mark style=background-color:#ebf6dc>stage </mark><mark style=background-color:#e9f5d6>the </mark><mark style=background-color:#f2f6ec>litigation </mark><mark style=background-color:#f7f7f7>is </mark><mark style=background-color:#faebf3>scheduled </mark><mark style=background-color:#e7f5d3>to </mark><mark style=background-color:#ecf6de>be </mark><mark style=background-color:#f5f7f2>tried </mark><mark style=background-color:#f9f0f5>to </mark><mark style=background-color:#f9eff4>a </mark><mark style=background-color:#f4f7f0>jury </mark><mark style=background-color:#f9f0f5>eleven </mark><mark style=background-color:#eff6e5>months </mark><mark style=background-color:#fddeee>before </mark><mark style=background-color:#fcdded>any </mark><mark style=background-color:#fce4f0>would </mark><mark style=background-color:#ddf1c1>issue </mark><mark style=background-color:#edf6df>from </mark><mark style=background-color:#f2f6ec>the </mark><mark style=background-color:#c4e699>decision </mark><mark style=background-color:#f3f7ef>on </mark><mark style=background-color:#eef6e2>institution </mark><mark style=background-color:#f8f3f6>for </mark><mark style=background-color:#f5f7f3>this </mark><mark style=background-color:#fbd8eb>is </mark><mark style=background-color:#f8f5f6>expected </mark><mark style=background-color:#fce5f1>on </mark><mark style=background-color:#fcdded>see </mark><mark style=background-color:#fce5f1>b </mark><mark style=background-color:#fcdbed>discovery </mark><mark style=background-color:#faebf3>concluded </mark><mark style=background-color:#f8f5f6>more </mark><mark style=background-color:#e7f5d3>than </mark><mark style=background-color:#f0f6e7>a </mark><mark style=background-color:#eff6e5>month </mark><mark style=background-color:#f1f6e8>before </mark><mark style=background-color:#e4f4cd>the </mark><mark style=background-color:#eaf5d9>filing </mark><mark style=background-color:#eff6e5>date </mark><mark style=background-color:#f1f6ea>of </mark><mark style=background-color:#f5f7f3>this </mark><mark style=background-color:#e2f3ca>on </mark><mark style=background-color:#e7f5d3>and </mark><mark style=background-color:#ecf6de>infringement </mark><mark style=background-color:#e6f5d0>expert </mark><mark style=background-color:#eaf5d9>discovery </mark><mark style=background-color:#ddf1c1>has </mark><mark style=background-color:#e7f5d3>closed </mark><mark style=background-color:#fce4f0>and </mark><mark style=background-color:#f8cee6>expert </mark><mark style=background-color:#f2f6ec>depositions </mark><mark style=background-color:#faeaf2>of </mark><mark style=background-color:#f5c2e0>and </mark><mark style=background-color:#f3bcdd>have </mark><mark style=background-color:#f4c1df>already </mark><mark style=background-color:#f0b2d7>been </mark><mark style=background-color:#f1b7da>conducted </mark><mark style=background-color:#f5c4e1>before </mark><mark style=background-color:#fad4e9>the </mark><mark style=background-color:#fce4f0>decision </mark><mark style=background-color:#fce5f1>on </mark><mark style=background-color:#fbe9f2>institution </mark><mark style=background-color:#fde0ef>the </mark><mark style=background-color:#f1f6ea>pretrial </mark><mark style=background-color:#e9f5d6>conference </mark><mark style=background-color:#dbf0bf>will </mark><mark style=background-color:#f8f2f5>have </mark><mark style=background-color:#f1f6ea>occurred </mark><mark style=background-color:#e1f3c7>and </mark><mark style=background-color:#f5f7f3>the </mark><mark style=background-color:#eff6e5>parties </mark><mark style=background-color:#e9f5d8>will </mark><mark style=background-color:#eff6e4>be </mark><mark style=background-color:#e2f3ca>preparing </mark><mark style=background-color:#e6f5d0>for </mark><mark style=background-color:#dbf0bf>the </mark><mark style=background-color:#e7f5d3>trial </mark><mark style=background-color:#f6f7f5>several </mark><mark style=background-color:#eef6e2>recent </mark><mark style=background-color:#f7f6f7>decisions </mark><mark style=background-color:#e1f3c7>found </mark><mark style=background-color:#f7f7f6>this </mark><mark style=background-color:#f8f5f6>factor </mark><mark style=background-color:#f8f4f6>to </mark><mark style=background-color:#ecf6de>weigh </mark><mark style=background-color:#ebf6db>in </mark><mark style=background-color:#ecf6de>favor </mark><mark style=background-color:#e4f4cd>of </mark><mark style=background-color:#e4f4cd>denial </mark><mark style=background-color:#ecf6de>when </mark><mark style=background-color:#f1f6e8>the </mark><mark style=background-color:#eaf5d9>scheduled </mark><mark style=background-color:#f8f4f6>trial </mark><mark style=background-color:#f2f6ec>date </mark><mark style=background-color:#fce5f1>would </mark><mark style=background-color:#f9f0f5>precede </mark><mark style=background-color:#f9eef4>the </mark><mark style=background-color:#f7f7f6>by </mark><mark style=background-color:#f9eef4>less </mark><mark style=background-color:#f9f0f5>than </mark><mark style=background-color:#f7f6f7>the </mark><mark style=background-color:#eff6e4>eleven-month </mark><mark style=background-color:#ebf6dc>difference </mark><mark style=background-color:#e9f5d6>here </mark><mark style=background-color:#dff2c4>five </mark><mark style=background-color:#e9f5d6>months </mark><mark style=background-color:#d8efb9>at </mark><mark style=background-color:#e1f3c7>seven </mark><mark style=background-color:#cfebaa>months </mark><mark style=background-color:#e9f5d8>at </mark><mark style=background-color:#e2f3ca>ten </mark><mark style=background-color:#d4edb3>months </mark><mark style=background-color:#e7f5d3>each </mark><mark style=background-color:#dff2c4>of </mark><mark style=background-color:#c7e89f>those </mark><mark style=background-color:#bbe28a>decisions </mark><mark style=background-color:#d0ecad>was </mark><mark style=background-color:#ebf6dc>issued </mark><mark style=background-color:#ebf6db>before </mark><mark style=background-color:#fce3f0>the </mark><mark style=background-color:#fbe8f2>recent </mark><mark style=background-color:#f9eff4>acceleration </mark><mark style=background-color:#faeaf2>in </mark><mark style=background-color:#f9d3e8>vaccine </mark><mark style=background-color:#f8cee6>progress </mark><mark style=background-color:#eef6e2>which </mark><mark style=background-color:#f0f6e7>resolve </mark><mark style=background-color:#b5df82>concerns </mark><mark style=background-color:#a5d56f>that </mark><mark style=background-color:#91c857>not </mark><mark style=background-color:#95cb5c>enough </mark><mark style=background-color:#9acd61>of </mark><mark style=background-color:#81bd44>the </mark><mark style=background-color:#aeda7a>population </mark><mark style=background-color:#c9e8a2>would </mark><mark style=background-color:#d2ecb0>be </mark><mark style=background-color:#e4f4cd>vaccinated </mark><mark style=background-color:#f9eef4>by </mark><mark style=background-color:#f9f1f5>to </mark><mark style=background-color:#edf6df>conduct </mark><mark style=background-color:#f3f6ed>a </mark><mark style=background-color:#ebf6db>jury </mark><mark style=background-color:#fce5f1>trial </mark><mark style=background-color:#fcdbed>the </mark><mark style=background-color:#fde1ef>trial </mark><mark style=background-color:#faebf3>which </mark><mark style=background-color:#eff6e5>also </mark><mark style=background-color:#f9eef4>involves </mark><mark style=background-color:#fce5f1>validity </mark><mark style=background-color:#fde1ef>challenges </mark><mark style=background-color:#f3bcdd>to </mark><mark style=background-color:#f8f3f6>the </mark><mark style=background-color:#fbe7f2>patent </mark><mark style=background-color:#f8f4f6>will </mark><mark style=background-color:#f7f7f6>also </mark><mark style=background-color:#f7cce5>be </mark><mark style=background-color:#fbe8f2>tried </mark><mark style=background-color:#f8f2f5>to </mark><mark style=background-color:#d9f0bc>a </mark><mark style=background-color:#d6eeb6>jury </mark><mark style=background-color:#d4edb3>seven </mark><mark style=background-color:#d4edb3>months </mark><mark style=background-color:#eff6e4>before </mark><mark style=background-color:#f7f7f6>any </mark><mark style=background-color:#eef6e2>here </mark><mark style=background-color:#f9eef4>the </mark><mark style=background-color:#f4f7f0>presiding </mark><mark style=background-color:#f2f6ec>judge </mark><mark style=background-color:#f8f4f6>in </mark><mark style=background-color:#f7f6f7>the </mark><mark style=background-color:#f7f6f7>litigation </mark><mark style=background-color:#f7f7f7>has </mark><mark style=background-color:#f3f6ed>already </mark><mark style=background-color:#ddf1c1>resumed </mark><mark style=background-color:#f6f7f5>holding </mark><mark style=background-color:#f9eef4>jury </mark><mark style=background-color:#fde2f0>trials </mark><mark style=background-color:#faecf3>including </mark><mark style=background-color:#fbe8f2>a </mark><mark style=background-color:#f8f2f5>recent </mark><mark style=background-color:#f8f2f5>patent </mark><mark style=background-color:#faebf3>trial </mark><mark style=background-color:#f9f0f5>which </mark><mark style=background-color:#faecf3>concluded </mark><mark style=background-color:#f0f6e7>on </mark><mark style=background-color:#f3f7ef>even </mark><mark style=background-color:#f7f7f7>if </mark><mark style=background-color:#fbe9f2>trial </mark><mark style=background-color:#f9eef4>were </mark><mark style=background-color:#faedf3>slightly </mark><mark style=background-color:#f9f1f5>delayed </mark><mark style=background-color:#fbe8f2>there </mark><mark style=background-color:#fbe9f2>is </mark><mark style=background-color:#f2b8db>no </mark><mark style=background-color:#f6c9e3>evidence </mark><mark style=background-color:#f5c6e2>to </mark><mark style=background-color:#fbd8eb>suggest </mark><mark style=background-color:#fad4e9>that </mark><mark style=background-color:#f8d0e7>such </mark><mark style=background-color:#f0f6e7>potential </mark><mark style=background-color:#eff6e5>delay </mark><mark style=background-color:#e1f3c7>would </mark><mark style=background-color:#eaf5d9>extend </mark><mark style=background-color:#f1f6ea>more </mark><mark style=background-color:#fbe6f1>than </mark><mark style=background-color:#f9eef4>eleven </mark><mark style=background-color:#fbe8f2>months </mark><mark style=background-color:#e7f5d3>the </mark><mark style=background-color:#faecf3>generally </mark><mark style=background-color:#fde0ef>takes </mark><mark style=background-color:#f7f7f7>a </mark><mark style=background-color:#faecf3>court </mark><mark style=background-color:#f8f3f6>trial </mark><mark style=background-color:#f9eef4>schedule </mark><mark style=background-color:#fbe9f2>at </mark><mark style=background-color:#f7cbe4>face </mark><mark style=background-color:#f9eff4>value </mark><mark style=background-color:#f9eef4>absent </mark><mark style=background-color:#f9eef4>strong </mark><mark style=background-color:#fde2f0>contradictory </mark><mark style=background-color:#fcdbed>evidence </mark><mark style=background-color:#fce3f0>which </mark><mark style=background-color:#f8f2f5>does </mark><mark style=background-color:#f8f3f6>not </mark><mark style=background-color:#fde0ef>exist </mark><mark style=background-color:#f9f0f5>here </mark><mark style=background-color:#f8f4f6>at </mark><mark style=background-color:#fce5f1>see </mark><mark style=background-color:#fde0ef>also </mark><mark style=background-color:#faeaf2>because </mark><mark style=background-color:#fde0ef>the </mark><mark style=background-color:#fde0ef>exact </mark><mark style=background-color:#fbe9f2>issues </mark><mark style=background-color:#f9eff4>presented </mark><mark style=background-color:#f9d1e8>by </mark><mark style=background-color:#ecf6de>the </mark><mark style=background-color:#e9f5d6>will </mark><mark style=background-color:#edf6df>be </mark><mark style=background-color:#e2f3ca>tried </mark><mark style=background-color:#ebf6dc>to </mark><mark style=background-color:#ddf1c1>at </mark><mark style=background-color:#e7f5d2>least </mark><mark style=background-color:#f2f6ec>one </mark><mark style=background-color:#f3f6ed>jury </mark><mark style=background-color:#fbe6f1>well </mark><mark style=background-color:#faeaf2>before </mark><mark style=background-color:#f9f1f5>any </mark><mark style=background-color:#f6f7f5>would </mark><mark style=background-color:#faecf3>issue </mark><mark style=background-color:#f8f4f6>on </mark><mark style=background-color:#e8f5d5>the </mark><mark style=background-color:#e9f5d6>and </mark><mark style=background-color:#e7f5d3>because </mark><mark style=background-color:#d2ecb0>two </mark><mark style=background-color:#ddf1c1>different </mark><mark style=background-color:#eaf5d9>courts </mark><mark style=background-color:#ddf1c1>multiple </mark><mark style=background-color:#c2e596>other </mark><mark style=background-color:#e9f5d6>real-party-in-interest </mark><mark style=background-color:#e2f3ca>defendants </mark><mark style=background-color:#ecf6de>and </mark><mark style=background-color:#e1f3c7>will </mark><mark style=background-color:#f4f7f0>have </mark><mark style=background-color:#f0f6e7>invested </mark><mark style=background-color:#f2f6ec>enormous </mark><mark style=background-color:#f5f7f3>resources </mark><mark style=background-color:#f8f5f6>into </mark><mark style=background-color:#f8f5f6>the </mark><mark style=background-color:#f5f7f3>parallel </mark><mark style=background-color:#f7f6f7>litigations </mark><mark style=background-color:#f1f6e8>before </mark><mark style=background-color:#ecf6de>the </mark><mark style=background-color:#eaf5d9>decision </mark><mark style=background-color:#f5f7f3>on </mark><mark style=background-color:#f4f7f0>institution </mark><mark style=background-color:#fbd9ec>factors </mark><mark style=background-color:#f6c7e3>and </mark><mark style=background-color:#f2b8db>weigh </mark><mark style=background-color:#fce4f0>heavily </mark><mark style=background-color:#f9eff4>in </mark><mark style=background-color:#fbd9ec>favor </mark><mark style=background-color:#f4bfdf>of </mark><mark style=background-color:#fce4f0>discretionary </mark><mark style=background-color:#f8f3f6>denial </mark><mark style=background-color:#e2f3ca>each </mark><mark style=background-color:#c9e8a2>and </mark><mark style=background-color:#f7f7f6>every </mark><mark style=background-color:#edf6df>unpatentability </mark><mark style=background-color:#c7e89f>challenge </mark><mark style=background-color:#b5df82>presented </mark><mark style=background-color:#b2dd7f>in </mark><mark style=background-color:#95cb5c>the </mark><mark style=background-color:#c2e596>is </mark><mark style=background-color:#88c24c>also </mark><mark style=background-color:#86c049>being </mark><mark style=background-color:#81bd44>pursued </mark><mark style=background-color:#c4e699>by </mark><mark style=background-color:#d0ecad>in </mark><mark style=background-color:#f0f6e7>the </mark><mark style=background-color:#f0f6e7>copending </mark><mark style=background-color:#f5f7f3>litigation </mark><mark style=background-color:#f8f2f5>commissioned </mark><mark style=background-color:#fcdded>an </mark><mark style=background-color:#efb0d6>invalidity </mark><mark style=background-color:#faeaf2>report </mark><mark style=background-color:#f9eef4>from </mark><mark style=background-color:#f5f7f2>the </mark><mark style=background-color:#fbe6f1>same </mark><mark style=background-color:#fcdded>expert </mark><mark style=background-color:#f9d1e8>challenging </mark><mark style=background-color:#fbd8eb>thesame </mark><mark style=background-color:#fde1ef>claims </mark><mark style=background-color:#faeaf2>based </mark><mark style=background-color:#eeadd4>on </mark><mark style=background-color:#f2b8db>the </mark><mark style=background-color:#f9d3e8>same </mark><mark style=background-color:#f3bdde>prior </mark><mark style=background-color:#fad6ea>art </mark><mark style=background-color:#fbe9f2>presented </mark><mark style=background-color:#edf6e1>in </mark><mark style=background-color:#fbe7f2>the </mark><mark style=background-color:#fde0ef>and </mark><mark style=background-color:#faeaf2>that </mark><mark style=background-color:#faebf3>expert </mark><mark style=background-color:#f9eef4>report </mark><mark style=background-color:#faecf3>is </mark><mark style=background-color:#f8f5f6>being </mark><mark style=background-color:#f1f6ea>relied </mark><mark style=background-color:#f0f6e7>upon </mark><mark style=background-color:#e1f3c7>by </mark><mark style=background-color:#edf6e1>the </mark><mark style=background-color:#eaf5d9>defendants </mark><mark style=background-color:#f0f6e7>at </mark><mark style=background-color:#eef6e2>the </mark><mark style=background-color:#ebf6dc>submitted </mark><mark style=background-color:#f9eef4>in </mark><mark style=background-color:#e7f5d2>the </mark><mark style=background-color:#ecf6de>litigation </mark><mark style=background-color:#cdeaa7>by </mark><mark style=background-color:#f8f4f6>counsel </mark><mark style=background-color:#eff6e5>on </mark><mark style=background-color:#f8f3f6>behalf </mark><mark style=background-color:#fde1ef>of </mark><mark style=background-color:#f8f3f6>and </mark><mark style=background-color:#f7cbe4>challenge </mark><mark style=background-color:#faedf3>claims </mark><mark style=background-color:#f8f4f6>and </mark><mark style=background-color:#f9eef4>of </mark><mark style=background-color:#f8f2f5>the </mark><mark style=background-color:#f1f6e8>patent </mark><mark style=background-color:#f7f7f6>based </mark><mark style=background-color:#eff6e5>on </mark><mark style=background-color:#f4f7f0>the </mark><mark style=background-color:#fbe9f2>exact </mark><mark style=background-color:#f2f6ec>same </mark><mark style=background-color:#eaf5d9>combinations </mark><mark style=background-color:#d6eeb6>presented </mark><mark style=background-color:#ddf1c1>in </mark><mark style=background-color:#b5df82>in </mark><mark style=background-color:#c0e593>the </mark><mark style=background-color:#ddf1c1>and </mark><mark style=background-color:#c4e699>with </mark><mark style=background-color:#e7f5d2>the </mark><mark style=background-color:#d9f0bc>does </mark><mark style=background-color:#eaf5d9>not </mark><mark style=background-color:#e7f5d2>allege </mark><mark style=background-color:#eff6e5>otherwise </mark><mark style=background-color:#ecf6de>and </mark><mark style=background-color:#f8f2f5>indeed </mark><mark style=background-color:#f4f7f0>does </mark><mark style=background-color:#faedf3>not </mark><mark style=background-color:#f9eff4>address </mark><mark style=background-color:#fcdded>issue </mark><mark style=background-color:#faeaf2>overlap </mark><mark style=background-color:#f4f7f0>in </mark><mark style=background-color:#eef6e2>its </mark><mark style=background-color:#f2f6ec>analysis </mark><mark style=background-color:#f3f6ed>of </mark><mark style=background-color:#e1f3c7>the </mark><mark style=background-color:#f7f7f6>factors </mark><mark style=background-color:#f3f6ed>the </mark><mark style=background-color:#fde1ef>exact </mark><mark style=background-color:#f3bcdd>same </mark><mark style=background-color:#fde2f0>unpatentability </mark><mark style=background-color:#f9eef4>issues </mark><mark style=background-color:#edf6e1>presented </mark><mark style=background-color:#f4f7f0>by </mark><mark style=background-color:#dbf0bf>the </mark><mark style=background-color:#aeda7a>exact </mark><mark style=background-color:#bde38d>same </mark><mark style=background-color:#bee490>parties </mark><mark style=background-color:#cdeaa7>and </mark><mark style=background-color:#d2ecb0>will </mark><mark style=background-color:#98cc5f>therefore </mark><mark style=background-color:#e7f5d2>be </mark><mark style=background-color:#ebf6dc>decided </mark><mark style=background-color:#f4f7f0>by </mark><mark style=background-color:#fbe8f2>a </mark><mark style=background-color:#fbd9ec>jury </mark><mark style=background-color:#fce4f0>eleven </mark><mark style=background-color:#f7f6f7>months </mark><mark style=background-color:#f6c7e3>before </mark><mark style=background-color:#f8f3f6>any </mark><mark style=background-color:#fbe9f2>would </mark><mark style=background-color:#f7f6f7>issue </mark><mark style=background-color:#e4f4cd>from </mark><mark style=background-color:#e2f3ca>the </mark><mark style=background-color:#dbf0bf>this </mark><mark style=background-color:#f9f1f5>factor </mark><mark style=background-color:#f3f6ed>weighs </mark><mark style=background-color:#fce5f1>heavily </mark><mark style=background-color:#f9eef4>in </mark><mark style=background-color:#f7f7f6>favor </mark><mark style=background-color:#fad6ea>of </mark><mark style=background-color:#f7cce5>discretionary </mark><mark style=background-color:#f7cbe4>denial </mark><mark style=background-color:#fde1ef>and </mark><mark style=background-color:#f7f7f7>should </mark><mark style=background-color:#f9eff4>be </mark><mark style=background-color:#f3f6ed><OOV> </mark><mark style=background-color:#f9eef4>should </mark><mark style=background-color:#fbe8f2>not </mark><mark style=background-color:#f7f7f7>waste </mark><mark style=background-color:#e2f3ca>its </mark><mark style=background-color:#e9f5d8>finite </mark><mark style=background-color:#f0f6e7>resources </mark><mark style=background-color:#ebf6dc>evaluating </mark><mark style=background-color:#fbe8f2>the </mark><mark style=background-color:#f0f6e7>exact </mark><mark style=background-color:#f9eef4>same </mark><mark style=background-color:#edf6e1>issues </mark><mark style=background-color:#f4f7f0>that </mark><mark style=background-color:#f9eff4>will </mark><mark style=background-color:#f7f6f7>be </mark><mark style=background-color:#f3f7ef>decided </mark><mark style=background-color:#eef6e2>in </mark><mark style=background-color:#f3f7ef>parallel </mark><mark style=background-color:#fce3f0>district </mark><mark style=background-color:#f9f1f5>court </mark><mark style=background-color:#f8f2f5>proceedings </mark><mark style=background-color:#f1f6ea>by </mark><mark style=background-color:#edf6df>the </mark><mark style=background-color:#faecf3>same </mark><mark style=background-color:#f8f4f6>parties </mark><mark style=background-color:#fbe9f2>nearly </mark><mark style=background-color:#f6f7f5>a </mark><mark style=background-color:#f3f6ed>year </mark><mark style=background-color:#f7cbe4>before </mark><mark style=background-color:#fddeee>any </mark><mark style=background-color:#f9d3e8>would </mark><mark style=background-color:#fce4f0>issue </mark><mark style=background-color:#fbe9f2>of </mark><mark style=background-color:#f7cce5>this </mark><mark style=background-color:#fce4f0>factor </mark><mark style=background-color:#fbd9ec>weighs </mark><mark style=background-color:#fce3f0>heavily </mark><mark style=background-color:#fddeee>in </mark><mark style=background-color:#fbe8f2>favor </mark><mark style=background-color:#f9eef4>of </mark><mark style=background-color:#f8f2f5>denial </mark><mark style=background-color:#f1f6ea>none </mark><mark style=background-color:#f7f6f7>of </mark><mark style=background-color:#eaf5d9>the </mark><mark style=background-color:#cfebaa>defendants </mark><mark style=background-color:#c9e8a2>in </mark><mark style=background-color:#e6f5d0>the </mark><mark style=background-color:#d6eeb6>copending </mark><mark style=background-color:#cfebaa>litigations </mark><mark style=background-color:#ecf6de>including </mark><mark style=background-color:#f6f7f5>the </mark><mark style=background-color:#e2f3ca>eight </mark><mark style=background-color:#f5f7f3>defendants </mark><mark style=background-color:#eff6e5>that </mark><mark style=background-color:#edf6df>counsel </mark><mark style=background-color:#f0f6e7>is </mark><mark style=background-color:#e7f5d3>actively </mark><mark style=background-color:#e1f3c7>defending </mark><mark style=background-color:#eaf5d9>in </mark><mark style=background-color:#c9e8a2>those </mark><mark style=background-color:#dbf0bf>litigations </mark><mark style=background-color:#d0ecad>have </mark><mark style=background-color:#dff2c4>requested </mark><mark style=background-color:#dff2c4>a </mark><mark style=background-color:#f0f6e7>stay </mark><mark style=background-color:#eaf5d9>even </mark><mark style=background-color:#e7f5d2>though </mark><mark style=background-color:#f5f7f2>the </mark><mark style=background-color:#edf6e1>earliest </mark><mark style=background-color:#f5f7f3>case </mark><mark style=background-color:#e4f4cd>against </mark><mark style=background-color:#dbf0bf>those </mark><mark style=background-color:#c0e593>defendants </mark><mark style=background-color:#d8efb9>was </mark><mark style=background-color:#d9f0bc>filed </mark><mark style=background-color:#e4f4cd>over </mark><mark style=background-color:#e7f5d3>eleven </mark><mark style=background-color:#e1f3c7>months </mark><mark style=background-color:#edf6e1>ago </mark><mark style=background-color:#edf6df>on </mark><mark style=background-color:#eaf5d9>and </mark><mark style=background-color:#eef6e2>later-filed </mark><mark style=background-color:#ebf6db>stay </mark><mark style=background-color:#e2f3ca>will </mark><mark style=background-color:#edf6e1>almost </mark><mark style=background-color:#e7f5d2>certainly </mark><mark style=background-color:#ecf6de>be </mark><mark style=background-color:#e1f3c7>denied </mark><mark style=background-color:#eaf5d9>due </mark><mark style=background-color:#f8f4f6>to </mark><mark style=background-color:#f8f5f6>the </mark><mark style=background-color:#fbe8f2>advanced </mark><mark style=background-color:#f7f7f7>stage </mark><mark style=background-color:#f5f7f3>of </mark><mark style=background-color:#fce5f1>the </mark><mark style=background-color:#fbd8eb>litigations </mark><mark style=background-color:#fce4f0>decision </mark><mark style=background-color:#faecf3>on </mark><mark style=background-color:#f9f0f5>institution </mark><mark style=background-color:#fbe9f2>for </mark><mark style=background-color:#eef6e2>this </mark><mark style=background-color:#f8f2f5>is </mark><mark style=background-color:#e2f3ca>expected </mark><mark style=background-color:#e9f5d8>on </mark><mark style=background-color:#d6eeb6>see </mark><mark style=background-color:#f3f6ed>b </mark><mark style=background-color:#eff6e5>before </mark><mark style=background-color:#f5c6e2>that </mark><mark style=background-color:#f9eff4>date </mark><mark style=background-color:#f9eef4>claim </mark><mark style=background-color:#f9f1f5>construction </mark><mark style=background-color:#f1f6e8>fact </mark><mark style=background-color:#f3f6ed>and </mark><mark style=background-color:#f0f6e7>expert </mark><mark style=background-color:#f8f3f6>discovery </mark><mark style=background-color:#eef6e2>and </mark><mark style=background-color:#f9f0f5>the </mark><mark style=background-color:#eff6e4>pretrial </mark><mark style=background-color:#f8f2f5>conference </mark><mark style=background-color:#faecf3>will </mark><mark style=background-color:#f9eff4>already </mark><mark style=background-color:#f8f5f6>be </mark><mark style=background-color:#e8f5d5>completed </mark><mark style=background-color:#c4e699>in </mark><mark style=background-color:#eef6e2>the </mark><mark style=background-color:#eef6e2>litigations </mark><mark style=background-color:#f9f0f5>and </mark><mark style=background-color:#e8f5d5>the </mark><mark style=background-color:#eaf5d9>parties </mark><mark style=background-color:#ecf6de>will </mark><mark style=background-color:#e7f5d2>be </mark><mark style=background-color:#fad4e9>preparing </mark><mark style=background-color:#f8f3f6>for </mark><mark style=background-color:#fce5f1>trial </mark><mark style=background-color:#faebf3>even </mark><mark style=background-color:#f9eef4>if </mark><mark style=background-color:#fbe7f2>the </mark><mark style=background-color:#fde1ef>trial </mark><mark style=background-color:#f7cbe4>were </mark><mark style=background-color:#fddeee>somewhat </mark><mark style=background-color:#fbe9f2>delayed </mark><mark style=background-color:#fbd9ec>it </mark><mark style=background-color:#fbd9ec>is </mark><mark style=background-color:#fad6ea>a </mark><mark style=background-color:#fbd9ec>near </mark><mark style=background-color:#fce4f0>certainty </mark><mark style=background-color:#faedf3>that </mark><mark style=background-color:#faecf3>the </mark><mark style=background-color:#faebf3>invalidity </mark><mark style=background-color:#f8f4f6>issues </mark><mark style=background-color:#f3f6ed>raised </mark><mark style=background-color:#eef6e2>by </mark><mark style=background-color:#fbe6f1>the </mark><mark style=background-color:#f0f6e7>will </mark><mark style=background-color:#fcdded>be </mark><mark style=background-color:#fde1ef>decided </mark><mark style=background-color:#fce3f0>by </mark><mark style=background-color:#f9eef4>a </mark><mark style=background-color:#f5c6e2>jury </mark><mark style=background-color:#f7cce5>well </mark><mark style=background-color:#f5c4e1>before </mark><mark style=background-color:#f5c2e0>any </mark><mark style=background-color:#f5c2e0>on </mark><mark style=background-color:#f9eef4>this </mark><mark style=background-color:#f8cee6>would </mark><mark style=background-color:#f6c7e3>issue </mark><mark style=background-color:#fbe6f1>in </mark><mark style=background-color:#f8f4f6>because </mark><mark style=background-color:#f5f7f2>there </mark><mark style=background-color:#e6f5d0>is </mark><mark style=background-color:#f3f6ed>a </mark><mark style=background-color:#f1f6ea><OOV> </mark><mark style=background-color:#f1f6e8>possibility </mark><mark style=background-color:#e9f5d6>that </mark><mark style=background-color:#f9eef4>the </mark><mark style=background-color:#fde1ef>district </mark><mark style=background-color:#f7cce5>court </mark><mark style=background-color:#faebf3>cases </mark><mark style=background-color:#f9d1e8>will </mark><mark style=background-color:#f8d0e7>be </mark><mark style=background-color:#f5c6e2>stayed </mark><mark style=background-color:#faeaf2>pending </mark><mark style=background-color:#f7f7f6>resolution </mark><mark style=background-color:#eaf5d9>of </mark><mark style=background-color:#eff6e5>this </mark><mark style=background-color:#edf6e1>this </mark><mark style=background-color:#f0f6e7>factor </mark><mark style=background-color:#f9f1f5>weighs </mark><mark style=background-color:#f9eef4>heavily </mark><mark style=background-color:#fce3f0>in </mark><mark style=background-color:#f8f2f5>favor </mark><mark style=background-color:#faeaf2>of </mark><mark style=background-color:#f5f7f2>denial </mark><mark style=background-color:#c6e79c>merits </mark><mark style=background-color:#d6eeb6>and </mark><mark style=background-color:#93c959>other </mark><mark style=background-color:#a3d36c>circumstances </mark><mark style=background-color:#bde38d>as </mark><mark style=background-color:#b7e085>detailed </mark><mark style=background-color:#b7e085>below </mark><mark style=background-color:#8ac34f>the </mark><mark style=background-color:#e9f5d8>does </mark><mark style=background-color:#f8f4f6>not </mark><mark style=background-color:#faecf3>disclose </mark><mark style=background-color:#f9eef4>or </mark><mark style=background-color:#f9eef4>suggest </mark><mark style=background-color:#e7f5d3>key </mark><mark style=background-color:#f6f7f5>limitations </mark><mark style=background-color:#f8f2f5>of </mark><mark style=background-color:#f2f6ec>each </mark><mark style=background-color:#f9eff4>of </mark><mark style=background-color:#f3f7ef>the </mark><mark style=background-color:#f8f3f6>challenged </mark><mark style=background-color:#f4f7f0>claims </mark><mark style=background-color:#f9d3e8>and </mark><mark style=background-color:#f2badc>therefore </mark><mark style=background-color:#fde1ef>does </mark><mark style=background-color:#fbe7f2>not </mark><mark style=background-color:#f9eff4>establish </mark><mark style=background-color:#f7f6f7>a </mark><mark style=background-color:#fbe9f2>reasonable </mark><mark style=background-color:#f1f6e8>likelihood </mark><mark style=background-color:#eff6e5>that </mark><mark style=background-color:#f9f1f5>the </mark><mark style=background-color:#fce4f0>would </mark><mark style=background-color:#f9d3e8>prevail </mark><mark style=background-color:#fbe9f2>with </mark><mark style=background-color:#eff6e4>respect </mark><mark style=background-color:#fce5f1>to </mark><mark style=background-color:#f7f7f7>at </mark><mark style=background-color:#faebf3>least </mark><mark style=background-color:#ecf6de>one </mark><mark style=background-color:#ebf6db>of </mark><mark style=background-color:#e8f5d5>the </mark><mark style=background-color:#f8f2f5>claims </mark><mark style=background-color:#fce5f1>challenged </mark><mark style=background-color:#faecf3>in </mark><mark style=background-color:#f9eef4>the </mark><mark style=background-color:#fbe9f2>moreover </mark><mark style=background-color:#f9d1e8>any </mark><mark style=background-color:#fde2f0>timing </mark><mark style=background-color:#faecf3>issues </mark><mark style=background-color:#f8f2f5><OOV> </mark><mark style=background-color:#eff6e4>of </mark><mark style=background-color:#f8f2f5>by </mark><mark style=background-color:#f8f5f6>are </mark><mark style=background-color:#f8f4f6>of </mark><mark style=background-color:#e6f5d0>its </mark><mark style=background-color:#cfebaa>own </mark><mark style=background-color:#e7f5d3>making </mark><mark style=background-color:#e2f3ca>delayed </mark><mark style=background-color:#bde38d>filing </mark><mark style=background-color:#bbe28a>this </mark><mark style=background-color:#cfebaa>for </mark><mark style=background-color:#dbf0bf>seven </mark><mark style=background-color:#e6f5d0>months </mark><mark style=background-color:#cdeaa7>after </mark><mark style=background-color:#c4e699>the </mark><mark style=background-color:#b7e085>first </mark><mark style=background-color:#d9f0bc>district </mark><mark style=background-color:#a5d56f>court </mark><mark style=background-color:#cdeaa7>complaint </mark><mark style=background-color:#c2e596>was </mark><mark style=background-color:#c0e593>filed </mark><mark style=background-color:#e4f4cd>and </mark><mark style=background-color:#f4f7f0>five </mark><mark style=background-color:#f8f2f5>months </mark><mark style=background-color:#fddeee>after </mark><mark style=background-color:#f9d1e8>counsel </mark><mark style=background-color:#fbd9ec>entered </mark><mark style=background-color:#edf6e1>an </mark><mark style=background-color:#f1f6ea>appearance </mark><mark style=background-color:#f8f5f6>in </mark><mark style=background-color:#ebf6dc>the </mark><mark style=background-color:#e9f5d8>litigation </mark><mark style=background-color:#a7d672>to </mark><mark style=background-color:#acd977>begin </mark><mark style=background-color:#a5d56f>defense </mark><mark style=background-color:#bde38d>of </mark><mark style=background-color:#bee490>the </mark><mark style=background-color:#9ccf64>defendants </mark><mark style=background-color:#c9e8a2>identified </mark><mark style=background-color:#cbe9a4>as </mark><mark style=background-color:#e6f5d0>real-parties-in-interest </mark><mark style=background-color:#e7f5d2>to </mark><mark style=background-color:#f8f5f6>the </mark><mark style=background-color:#fbe9f2>the </mark><mark style=background-color:#fddeee>should </mark><mark style=background-color:#faebf3>exercise </mark><mark style=background-color:#fddeee>its </mark><mark style=background-color:#f4c1df>discretionary </mark><mark style=background-color:#fde0ef>power </mark><mark style=background-color:#f8f2f5>to </mark><mark style=background-color:#eaf5d9>deny </mark><mark style=background-color:#ebf6dc>the </mark><mark style=background-color:#ddf1c1>because </mark><mark style=background-color:#c4e699>establish </mark><mark style=background-color:#93c959>as </mark><mark style=background-color:#acd977>detailed </mark><mark style=background-color:#a5d56f>below </mark><mark style=background-color:#bde38d>the </mark><mark style=background-color:#c7e89f>fails </mark><mark style=background-color:#d9f0bc>to </mark><mark style=background-color:#e1f3c7>demonstrate </mark><mark style=background-color:#ebf6db>a </mark><mark style=background-color:#e9f5d8>reasonable </mark><mark style=background-color:#f0f6e7>likelihood </mark><mark style=background-color:#f3f7ef>that </mark><mark style=background-color:#d6eeb6>the </mark><mark style=background-color:#cbe9a4>would </mark><mark style=background-color:#cfebaa>prevail </mark><mark style=background-color:#c0e593>with </mark><mark style=background-color:#f3f7ef>respect </mark><mark style=background-color:#f5f7f3>to </mark><mark style=background-color:#f5f7f2>any </mark><mark style=background-color:#ecf6de>claim </mark><mark style=background-color:#f7f7f6>of </mark><mark style=background-color:#fad6ea>the </mark><mark style=background-color:#fbd9ec>patent </mark><mark style=background-color:#faebf3>the </mark><mark style=background-color:#fcdded>challenges </mark><mark style=background-color:#f9eef4>independent </mark><mark style=background-color:#fce4f0>claim </mark><mark style=background-color:#fddeee>and </mark><mark style=background-color:#f7cbe4>dependent </mark><mark style=background-color:#f2badc>claims </mark><mark style=background-color:#f7cce5>and </mark><mark style=background-color:#fcdbed>based </mark><mark style=background-color:#f0f6e7>on </mark><mark style=background-color:#f5f7f3>three </mark><mark style=background-color:#f7f7f7>as </mark><mark style=background-color:#f5f7f3>detailed </mark><mark style=background-color:#eaf5d9>herein </mark><mark style=background-color:#f8f5f6>each </mark><mark style=background-color:#e6f5d0>proposed </mark><mark style=background-color:#e8f5d5>fails </mark><mark style=background-color:#f1f6ea>to </mark><mark style=background-color:#edf6e1>disclose </mark><mark style=background-color:#cfebaa>key </mark><mark style=background-color:#b2dd7f>limitations </mark><mark style=background-color:#e9f5d6>of </mark><mark style=background-color:#cdeaa7>each </mark><mark style=background-color:#f1f6ea>challenged </mark><mark style=background-color:#eff6e5>claim </mark><mark style=background-color:#fbe7f2>should </mark><mark style=background-color:#fce5f1>not </mark><mark style=background-color:#fde1ef>be </mark><mark style=background-color:#f5f7f2>instituted </mark><mark style=background-color:#fbe6f1>the </mark><mark style=background-color:#fddeee>the </mark><mark style=background-color:#fde2f0>was </mark><mark style=background-color:#f9f1f5>filed </mark><mark style=background-color:#fbe9f2>on </mark><mark style=background-color:#f6c7e3>and </mark><mark style=background-color:#f1f6ea>issued </mark><mark style=background-color:#f6c9e3>on </mark><mark style=background-color:#faedf3>the </mark><mark style=background-color:#e8f5d5>is </mark><mark style=background-color:#d9f0bc>titled </mark><mark style=background-color:#e9f5d6>dialing </mark><mark style=background-color:#dbf0bf>the </mark><mark style=background-color:#9ed067>pertains </mark><mark style=background-color:#a7d672>to </mark><mark style=background-color:#bde38d>a </mark><mark style=background-color:#9ccf64>telephone </mark><mark style=background-color:#9ccf64>and </mark><mark style=background-color:#cdeaa7>voice </mark><mark style=background-color:#e7f5d3>mail </mark><mark style=background-color:#d6eeb6>system </mark><mark style=background-color:#d9f0bc>that </mark><mark style=background-color:#f5f7f2>allows </mark><mark style=background-color:#f5f7f3>a </mark><mark style=background-color:#e8f5d5>user </mark><mark style=background-color:#fce5f1>at </mark><mark style=background-color:#f8f4f6>the </mark><mark style=background-color:#fbd9ec>called </mark><mark style=background-color:#fde0ef>user </mark><mark style=background-color:#f9d3e8>extension </mark><mark style=background-color:#fddeee>to </mark><mark style=background-color:#faecf3>call </mark><mark style=background-color:#f6f7f5>back </mark><mark style=background-color:#f7f7f7>an </mark><mark style=background-color:#f4f7f0>individual </mark><mark style=background-color:#ecf6de>that </mark><mark style=background-color:#d6eeb6>left </mark><mark style=background-color:#e1f3c7>a </mark><mark style=background-color:#d6eeb6>voice </mark><mark style=background-color:#f9eef4>mail </mark><mark style=background-color:#f9f0f5>messaging </mark><mark style=background-color:#f3f6ed>by </mark><mark style=background-color:#f9eef4>using </mark><mark style=background-color:#fce5f1>caller </mark><mark style=background-color:#f8cee6>information </mark><mark style=background-color:#fce5f1>that </mark><mark style=background-color:#f3bcdd>is </mark><mark style=background-color:#f5c4e1>stored </mark><mark style=background-color:#e897c4>with </mark><mark style=background-color:#efb0d6>the </mark><mark style=background-color:#f8d0e7>voice </mark><mark style=background-color:#eeadd4>mail </mark><mark style=background-color:#fcdded>message </mark><mark style=background-color:#f8cee6>figure </mark><mark style=background-color:#f7f7f7>depicts </mark><mark style=background-color:#eef6e2>an </mark><mark style=background-color:#ecf6de>example </mark><mark style=background-color:#fce5f1>of </mark><mark style=background-color:#f9d3e8>how </mark><mark style=background-color:#f5c4e1>caller </mark><mark style=background-color:#e89ac6>information </mark><mark style=background-color:#f8cee6>and </mark><mark style=background-color:#e897c4>voice </mark><mark style=background-color:#f8d0e7>mail </mark><mark style=background-color:#f8cee6>messages </mark><mark style=background-color:#f1f6ea>are </mark><mark style=background-color:#edf6e1>stored </mark><mark style=background-color:#d2ecb0>in </mark><mark style=background-color:#c0e593>some </mark><mark style=background-color:#e4f4cd>embodiments </mark><mark style=background-color:#cdeaa7>as </mark><mark style=background-color:#c7e89f>shown </mark><mark style=background-color:#cbe9a4>the </mark><mark style=background-color:#cfebaa>discloses </mark><mark style=background-color:#c7e89f>the </mark><mark style=background-color:#f4f7f0>system </mark><mark style=background-color:#f7f6f7>receiving </mark><mark style=background-color:#f5f7f2>caller </mark><mark style=background-color:#ebf6db>information </mark><mark style=background-color:#faedf3>with </mark><mark style=background-color:#fcdbed>an </mark><mark style=background-color:#f9eef4>incoming </mark><mark style=background-color:#fbe8f2>phone </mark><mark style=background-color:#e6f5d0>call </mark><mark style=background-color:#f7f7f7>to </mark><mark style=background-color:#eff6e4>an </mark><mark style=background-color:#f9eef4>extension </mark><mark style=background-color:#f1f6ea>if </mark><mark style=background-color:#e9f5d6>the </mark><mark style=background-color:#f4f7f0>intended </mark><mark style=background-color:#f1f6e8>recipient </mark><mark style=background-color:#fde0ef>extension </mark><mark style=background-color:#f6f7f5>number </mark><mark style=background-color:#f9eef4>of </mark><mark style=background-color:#f7f7f7>the </mark><mark style=background-color:#f9f1f5>call </mark><mark style=background-color:#f9f1f5>does </mark><mark style=background-color:#eef6e2>not </mark><mark style=background-color:#f5f7f3>answer </mark><mark style=background-color:#edf6df>the </mark><mark style=background-color:#f7f7f6>voice </mark><mark style=background-color:#e2f3ca>mail </mark><mark style=background-color:#d4edb3>system </mark><mark style=background-color:#bbe28a>will </mark><mark style=background-color:#eef6e2>answer </mark><mark style=background-color:#cfebaa>the </mark><mark style=background-color:#c0e593>call </mark><mark style=background-color:#91c857>allowing </mark><mark style=background-color:#a5d56f>the </mark><mark style=background-color:#c2e596>caller </mark><mark style=background-color:#f1f6ea>to </mark><mark style=background-color:#f3f7ef>leave </mark><mark style=background-color:#f4f7f0>a </mark><mark style=background-color:#f5f7f3>voice </mark><mark style=background-color:#ddf1c1>mail </mark><mark style=background-color:#f7f7f7>message </mark><mark style=background-color:#eff6e5>id </mark><mark style=background-color:#e9f5d8>at </mark><mark style=background-color:#c7e89f>the </mark><mark style=background-color:#b0dc7d>system </mark><mark style=background-color:#d4edb3>will </mark><mark style=background-color:#c7e89f>also </mark><mark style=background-color:#faecf3>store </mark><mark style=background-color:#f3f6ed>caller </mark><mark style=background-color:#fbe9f2>information </mark><mark style=background-color:#f9f1f5>if </mark><mark style=background-color:#f5f7f2>available </mark><mark style=background-color:#f7f6f7>in </mark><mark style=background-color:#f6f7f5>association </mark><mark style=background-color:#f2f6ec>with </mark><mark style=background-color:#f9f1f5>the </mark><mark style=background-color:#faeaf2>voice </mark><mark style=background-color:#f6c7e3>mail </mark><mark style=background-color:#f9d3e8>message </mark><mark style=background-color:#f3bdde>id </mark><mark style=background-color:#f3bdde>at </mark><mark style=background-color:#fcdbed>figures </mark><mark style=background-color:#f9d3e8>and </mark><mark style=background-color:#e9f5d8>depict </mark><mark style=background-color:#f5f7f3>a </mark><mark style=background-color:#e1f3c7>process </mark><mark style=background-color:#f7f7f6>for </mark><mark style=background-color:#f4f7f0><OOV> </mark><mark style=background-color:#f8f5f6>a </mark><mark style=background-color:#fbe6f1>caller </mark><mark style=background-color:#f0f6e7>using </mark><mark style=background-color:#f9d1e8>caller </mark><mark style=background-color:#fce3f0>information </mark><mark style=background-color:#fce3f0>according </mark><mark style=background-color:#f8f5f6>to </mark><mark style=background-color:#fcdbed>some </mark><mark style=background-color:#f9d1e8>embodiments </mark><mark style=background-color:#eef6e2>id </mark><mark style=background-color:#f9eef4>at </mark><mark style=background-color:#fbe6f1>in </mark><mark style=background-color:#f9f0f5>some </mark><mark style=background-color:#eef6e2>embodiments </mark><mark style=background-color:#ecf6de>the </mark><mark style=background-color:#e9f5d6>user </mark><mark style=background-color:#eaf5d9>at </mark><mark style=background-color:#f8f2f5>the </mark><mark style=background-color:#f8f4f6>extension </mark><mark style=background-color:#fbe6f1>number </mark><mark style=background-color:#f5f7f3>called </mark><mark style=background-color:#f9f1f5>can </mark><mark style=background-color:#fbe6f1>press </mark><mark style=background-color:#fcdbed>a </mark><mark style=background-color:#fad6ea><OOV> </mark><mark style=background-color:#f5f7f3>key </mark><mark style=background-color:#f8f5f6>while </mark><mark style=background-color:#f9eef4>listening </mark><mark style=background-color:#f5f7f3>to </mark><mark style=background-color:#fce3f0>the </mark><mark style=background-color:#f7f7f7>voice </mark><mark style=background-color:#e7f5d2>mail </mark><mark style=background-color:#d9f0bc>message </mark><mark style=background-color:#d8efb9>which </mark><mark style=background-color:#e2f3ca>retrieves </mark><mark style=background-color:#eef6e2>the </mark><mark style=background-color:#e1f3c7>caller </mark><mark style=background-color:#e4f4cd>information </mark><mark style=background-color:#f0f6e7>that </mark><mark style=background-color:#f3f7ef>is </mark><mark style=background-color:#f9eff4>associated </mark><mark style=background-color:#f3f7ef>with </mark><mark style=background-color:#f8f4f6>the </mark><mark style=background-color:#e9f5d6>voice </mark><mark style=background-color:#dff2c4>mail </mark><mark style=background-color:#e6f5d0>message </mark><mark style=background-color:#d9f0bc>the </mark><mark style=background-color:#dbf0bf>caller </mark><mark style=background-color:#dbf0bf>information </mark><mark style=background-color:#e4f4cd>is </mark><mark style=background-color:#e9f5d6>then </mark><mark style=background-color:#f9eef4>used </mark><mark style=background-color:#fce3f0>to </mark><mark style=background-color:#fcdbed>dial </mark><mark style=background-color:#fbd9ec>the </mark><mark style=background-color:#f0b2d7>phone </mark><mark style=background-color:#e99cc8>number </mark><mark style=background-color:#fbe9f2>of </mark><mark style=background-color:#fbe8f2>the </mark><mark style=background-color:#f8f2f5>caller </mark><mark style=background-color:#f7f7f7>that </mark><mark style=background-color:#f5f7f3>left </mark><mark style=background-color:#eff6e4>the </mark><mark style=background-color:#ebf6dc>voice </mark><mark style=background-color:#d4edb3>mail </mark><mark style=background-color:#d9f0bc>message </mark><mark style=background-color:#f3f6ed>for </mark><mark style=background-color:#f9eef4>the </mark><mark style=background-color:#f7f7f6>user </mark><mark style=background-color:#f8f2f5>extension </mark><mark style=background-color:#f8f5f6>id </mark><mark style=background-color:#f9f1f5>at </mark><mark style=background-color:#f5f7f3>level </mark><mark style=background-color:#fbd8eb>of </mark><mark style=background-color:#faebf3>in </mark><mark style=background-color:#f9eff4>the </mark><mark style=background-color:#f1f6ea>for </mark><mark style=background-color:#f9f0f5>the </mark><mark style=background-color:#f3f6ed>purposes </mark><mark style=background-color:#faeaf2>of </mark><mark style=background-color:#fde2f0>this </mark><mark style=background-color:#fad6ea>only </mark><mark style=background-color:#f5c6e2>does </mark><mark style=background-color:#efb0d6>not </mark><mark style=background-color:#d861a2>dispute </mark><mark style=background-color:#e388ba>the </mark><mark style=background-color:#e388ba>level </mark><mark style=background-color:#f8cee6>of </mark><mark style=background-color:#faeaf2>skill </mark><mark style=background-color:#fbe6f1>of </mark><mark style=background-color:#f7f6f7>a </mark><mark style=background-color:#f6f7f5>person </mark><mark style=background-color:#e7f5d3>of </mark><mark style=background-color:#e7f5d3>ordinary </mark><mark style=background-color:#e7f5d2>skill </mark><mark style=background-color:#faebf3>in </mark><mark style=background-color:#fcdbed>the </mark><mark style=background-color:#f8cee6>art </mark><mark style=background-color:#faebf3>identified </mark><mark style=background-color:#fbe8f2>in </mark><mark style=background-color:#fbd9ec>the </mark><mark style=background-color:#f7f7f7>the </mark><mark style=background-color:#f7f6f7>does </mark><mark style=background-color:#ebf6db>not </mark><mark style=background-color:#dff2c4>affirmatively </mark><mark style=background-color:#f1f6ea>offer </mark><mark style=background-color:#ebf6db>a </mark><mark style=background-color:#f6c7e3>construction </mark><mark style=background-color:#f8f5f6>of </mark><mark style=background-color:#fbd9ec>any </mark><mark style=background-color:#faeaf2>term </mark><mark style=background-color:#f5f7f2>of </mark><mark style=background-color:#f7f7f7>the </mark><mark style=background-color:#eef6e2>patent </mark><mark style=background-color:#d4edb3>but </mark><mark style=background-color:#bee490>does </mark><mark style=background-color:#c0e593>present </mark><mark style=background-color:#e2f3ca>arguments </mark><mark style=background-color:#c6e79c>as </mark><mark style=background-color:#f1f6ea>to </mark><mark style=background-color:#e7f5d3>the </mark><mark style=background-color:#f1f6ea>proper </mark><mark style=background-color:#f7f7f6>interpretation </mark><mark style=background-color:#ebf6db>of </mark><mark style=background-color:#f4f7f0>certain </mark><mark style=background-color:#eaf5d9>terms </mark><mark style=background-color:#d0ecad>pp </mark><mark style=background-color:#e9f5d8>does </mark><mark style=background-color:#f9f1f5>not </mark><mark style=background-color:#fbe7f2>necessarily </mark><mark style=background-color:#fad4e9>agree </mark><mark style=background-color:#fde1ef>with </mark><mark style=background-color:#f5c6e2>proposed </mark><mark style=background-color:#f0b2d7>interpretations </mark><mark style=background-color:#dc70aa>or </mark><mark style=background-color:#f2b8db>their </mark><mark style=background-color:#f2b8db>rationales </mark><mark style=background-color:#fad6ea>and </mark><mark style=background-color:#f7f6f7>reserves </mark><mark style=background-color:#f9eff4>the </mark><mark style=background-color:#f8f5f6>right </mark><mark style=background-color:#f6f7f5>to </mark><mark style=background-color:#e9f5d8>contest </mark><mark style=background-color:#f7f7f6>those </mark><mark style=background-color:#ebf6db>interpretations </mark><mark style=background-color:#f8f5f6>in </mark><mark style=background-color:#faecf3>the </mark><mark style=background-color:#faecf3>future </mark><mark style=background-color:#edf6df>however </mark><mark style=background-color:#f5f7f3>because </mark><mark style=background-color:#f8f3f6>the </mark><mark style=background-color:#f5f7f3>fails </mark><mark style=background-color:#f8f2f5>to </mark><mark style=background-color:#f6f7f5>raise </mark><mark style=background-color:#faecf3>a </mark><mark style=background-color:#f3f6ed>reasonable </mark><mark style=background-color:#faecf3>likelihood </mark><mark style=background-color:#fde2f0>that </mark><mark style=background-color:#faebf3>any </mark><mark style=background-color:#fce4f0>claim </mark><mark style=background-color:#fbe9f2>of </mark><mark style=background-color:#f5c6e2>the </mark><mark style=background-color:#fad4e9>patent </mark><mark style=background-color:#e897c4>is </mark><mark style=background-color:#f2b8db>unpatentable </mark><mark style=background-color:#fbd9ec>even </mark><mark style=background-color:#f6c9e3>under </mark><mark style=background-color:#fce5f1>proposed </mark><mark style=background-color:#fbd9ec>interpretations </mark><mark style=background-color:#f7f7f7>this </mark><mark style=background-color:#fde0ef>applies </mark><mark style=background-color:#f8f3f6>term </mark><mark style=background-color:#fce5f1>interpretations </mark><mark style=background-color:#f9f0f5>to </mark><mark style=background-color:#f7f7f7>minimize </mark><mark style=background-color:#faedf3>the </mark><mark style=background-color:#fcdded>disputes </mark><mark style=background-color:#f9d3e8>to </mark><mark style=background-color:#fde1ef>be </mark><mark style=background-color:#fce4f0>resolved </mark><mark style=background-color:#f1f6ea>by </mark><mark style=background-color:#faedf3>the </mark><mark style=background-color:#f7f6f7>at </mark><mark style=background-color:#faedf3>this </mark><mark style=background-color:#f0f6e7>preliminary </mark><mark style=background-color:#e6f5d0>stage </mark><mark style=background-color:#edf6e1>not </mark><mark style=background-color:#e1f3c7>of </mark><mark style=background-color:#fbe9f2>the </mark><mark style=background-color:#f1f6e8>does </mark><mark style=background-color:#eff6e4>not </mark><mark style=background-color:#f5f7f2>render </mark><mark style=background-color:#f8f2f5>obvious </mark><mark style=background-color:#fce5f1>any </mark><mark style=background-color:#fce3f0>of </mark><mark style=background-color:#f8f4f6>independent </mark><mark style=background-color:#f5f7f2>claim </mark><mark style=background-color:#f9eef4>or </mark><mark style=background-color:#f8f4f6>dependent </mark><mark style=background-color:#fbe7f2>claims </mark><mark style=background-color:#f1f6e8>and </mark><mark style=background-color:#f7f6f7>independent </mark><mark style=background-color:#f0f6e7>does </mark><mark style=background-color:#f7f7f7>not </mark><mark style=background-color:#f9f0f5>render </mark><mark style=background-color:#f9eef4>obvious </mark><mark style=background-color:#fbe6f1>claim </mark><mark style=background-color:#f5f7f3>at </mark><mark style=background-color:#f8f5f6>least </mark><mark style=background-color:#f5f7f3>because </mark><mark style=background-color:#ebf6dc>it </mark><mark style=background-color:#e2f3ca>does </mark><mark style=background-color:#e1f3c7>not </mark><mark style=background-color:#eff6e4>teach </mark><mark style=background-color:#f6f7f5>or </mark><mark style=background-color:#eaf5d9>suggest </mark><mark style=background-color:#ebf6dc>storing </mark><mark style=background-color:#ecf6de>the </mark><mark style=background-color:#eef6e2>caller </mark><mark style=background-color:#f8f4f6>information </mark><mark style=background-color:#f7f6f7>in </mark><mark style=background-color:#f9eef4>association </mark><mark style=background-color:#f3f6ed>with </mark><mark style=background-color:#faeaf2>the </mark><mark style=background-color:#f9f1f5>voice </mark><mark style=background-color:#f5f7f2>mailbox </mark><mark style=background-color:#ecf6de>wherein </mark><mark style=background-color:#f3f6ed>the </mark><mark style=background-color:#f8f4f6>caller </mark><mark style=background-color:#f9eef4>information </mark><mark style=background-color:#faedf3>is </mark><mark style=background-color:#f4f7f0>stored </mark><mark style=background-color:#f7f6f7>in </mark><mark style=background-color:#f0f6e7>association </mark><mark style=background-color:#f9eff4>with </mark><mark style=background-color:#fce5f1>a </mark><mark style=background-color:#fce4f0>voice </mark><mark style=background-color:#f7f6f7>message </mark><mark style=background-color:#f1f6ea>left </mark><mark style=background-color:#ecf6de>by </mark><mark style=background-color:#f6f7f5>the </mark><mark style=background-color:#f7f7f7>calling </mark><mark style=background-color:#f9eef4>party </mark><mark style=background-color:#f7f6f7>for </mark><mark style=background-color:#f4f7f0>the </mark><mark style=background-color:#f3f6ed>called </mark><mark style=background-color:#f7f7f6>party </mark><mark style=background-color:#f7f7f6>in </mark><mark style=background-color:#fce3f0>the </mark><mark style=background-color:#f5c4e1>voice </mark><mark style=background-color:#f8d0e7>mailbox </mark><mark style=background-color:#fbd9ec>or </mark><mark style=background-color:#f4bfdf>automatically </mark><mark style=background-color:#ea9fca>dialing </mark><mark style=background-color:#e48bbc>the </mark><mark style=background-color:#e795c3>telephone </mark><mark style=background-color:#df79b0>number </mark><mark style=background-color:#f9d3e8>at </mark><mark style=background-color:#fde2f0>a </mark><mark style=background-color:#f9d3e8>request </mark><mark style=background-color:#e9f5d8>of </mark><mark style=background-color:#f5f7f3>the </mark><mark style=background-color:#e1f3c7>called </mark><mark style=background-color:#f7f7f6>party </mark><mark style=background-color:#f4f7f0>while </mark><mark style=background-color:#f6f7f5>the </mark><mark style=background-color:#f6c9e3>called </mark><mark style=background-color:#fcdbed>party </mark><mark style=background-color:#f5c2e0>is </mark><mark style=background-color:#f1b7da>listening </mark><mark style=background-color:#f3bcdd>to </mark><mark style=background-color:#faeaf2>the </mark><mark style=background-color:#fbe9f2>voice </mark><mark style=background-color:#fbd8eb>message </mark><mark style=background-color:#fad4e9>i </mark><mark style=background-color:#f7f7f7>storing </mark><mark style=background-color:#f5f7f2>the </mark><mark style=background-color:#fce5f1>caller </mark><mark style=background-color:#faedf3>information </mark><mark style=background-color:#eba1cb>in </mark><mark style=background-color:#fbd9ec>association </mark><mark style=background-color:#fbe9f2>with </mark><mark style=background-color:#edf6e1>the </mark><mark style=background-color:#f8f4f6>voice </mark><mark style=background-color:#f9f0f5>mailbox </mark><mark style=background-color:#f9eef4>wherein </mark><mark style=background-color:#ecf6de>the </mark><mark style=background-color:#d2ecb0>caller </mark><mark style=background-color:#eaf5d9>information </mark><mark style=background-color:#dff2c4>is </mark><mark style=background-color:#f1f6ea>stored </mark><mark style=background-color:#ebf6db>in </mark><mark style=background-color:#f6c7e3>association </mark><mark style=background-color:#f8f5f6>with </mark><mark style=background-color:#fbd9ec>a </mark><mark style=background-color:#faeaf2>voice </mark><mark style=background-color:#f5f7f2>message </mark><mark style=background-color:#f8f4f6>left </mark><mark style=background-color:#f1f6e8>by </mark><mark style=background-color:#f2f6ec>the </mark><mark style=background-color:#bbe28a>calling </mark><mark style=background-color:#b5df82>party </mark><mark style=background-color:#c9e8a2>for </mark><mark style=background-color:#a7d672>the </mark><mark style=background-color:#eff6e5>called </mark><mark style=background-color:#e9f5d6>party </mark><mark style=background-color:#a9d874>in </mark><mark style=background-color:#e9f5d8>the </mark><mark style=background-color:#dff2c4>voice </mark><mark style=background-color:#f8f3f6>mailbox </mark><mark style=background-color:#f8f5f6>recites </mark><mark style=background-color:#f3f7ef>storing </mark><mark style=background-color:#f0f6e7>the </mark><mark style=background-color:#e7f5d3>caller </mark><mark style=background-color:#faebf3>information </mark><mark style=background-color:#f9eef4>in </mark><mark style=background-color:#f9f1f5>association </mark><mark style=background-color:#f8f5f6>with </mark><mark style=background-color:#f5f7f2>the </mark><mark style=background-color:#f7f7f6>voice </mark><mark style=background-color:#faedf3>mailbox </mark><mark style=background-color:#fbe9f2>wherein </mark><mark style=background-color:#f5f7f2>the </mark><mark style=background-color:#f5f7f2>caller </mark><mark style=background-color:#e6f5d0>information </mark><mark style=background-color:#f8f5f6>is </mark><mark style=background-color:#e9f5d8>stored </mark><mark style=background-color:#ebf6dc>in </mark><mark style=background-color:#e9f5d8>association </mark><mark style=background-color:#f4f7f0>with </mark><mark style=background-color:#fbe6f1>a </mark><mark style=background-color:#fce4f0>voice </mark><mark style=background-color:#f9d1e8>message </mark><mark style=background-color:#fde2f0>left </mark><mark style=background-color:#f6c7e3>by </mark><mark style=background-color:#fcdbed>the </mark><mark style=background-color:#f9d3e8>calling </mark><mark style=background-color:#e9f5d8>party </mark><mark style=background-color:#f7f6f7>for </mark><mark style=background-color:#cbe9a4>the </mark><mark style=background-color:#eef6e2>called </mark><mark style=background-color:#f7f7f6>party </mark><mark style=background-color:#f9eff4>in </mark><mark style=background-color:#fbd8eb>the </mark><mark style=background-color:#f8f5f6>voice </mark><mark style=background-color:#e897c4>mailbox </mark><mark style=background-color:#df79b0>claim </mark><mark style=background-color:#f6c7e3>emphasis </mark><mark style=background-color:#f3bcdd>added </mark><mark style=background-color:#fddeee>does </mark><mark style=background-color:#faeaf2>not </mark><mark style=background-color:#fbe9f2>teach </mark><mark style=background-color:#fbd8eb>or </mark><mark style=background-color:#fad4e9>suggest </mark><mark style=background-color:#f7f7f7>such </mark><mark style=background-color:#f5f7f2>a </mark><mark style=background-color:#fce5f1>feature </mark><mark style=background-color:#faedf3>the </mark><mark style=background-color:#eba1cb>does </mark><mark style=background-color:#fbd9ec>not </mark><mark style=background-color:#f9eef4>allege </mark><mark style=background-color:#eff6e5>that </mark><mark style=background-color:#f8f4f6>expressly </mark><mark style=background-color:#eff6e4>discloses </mark><mark style=background-color:#f3f7ef>storing </mark><mark style=background-color:#f5f7f3>the </mark><mark style=background-color:#c0e593>caller </mark><mark style=background-color:#f1f6ea>information </mark><mark style=background-color:#ebf6db>in </mark><mark style=background-color:#f6c7e3>association </mark><mark style=background-color:#f8f5f6>with </mark><mark style=background-color:#fbd9ec>the </mark><mark style=background-color:#faeaf2>voice </mark><mark style=background-color:#f5f7f2>mailbox </mark><mark style=background-color:#f8f4f6>or </mark><mark style=background-color:#f1f6ea>the </mark><mark style=background-color:#f6f7f5>caller </mark><mark style=background-color:#aeda7a>information </mark><mark style=background-color:#e9f5d8>is </mark><mark style=background-color:#c9e8a2>stored </mark><mark style=background-color:#cdeaa7>in </mark><mark style=background-color:#edf6df>association </mark><mark style=background-color:#ecf6de>with </mark><mark style=background-color:#e7f5d3>a </mark><mark style=background-color:#e7f5d3>voice </mark><mark style=background-color:#a3d36c>message </mark><mark style=background-color:#e1f3c7>left </mark><mark style=background-color:#e7f5d3>by </mark><mark style=background-color:#eaf5d9>the </mark><mark style=background-color:#ebf6db>calling </mark><mark style=background-color:#eaf5d9>party </mark><mark style=background-color:#f8f4f6>for </mark><mark style=background-color:#faeaf2>the </mark><mark style=background-color:#f4c1df>called </mark><mark style=background-color:#fad6ea>party </mark><mark style=background-color:#e897c4>in </mark><mark style=background-color:#e99cc8>the </mark><mark style=background-color:#eeabd2>voice </mark><mark style=background-color:#f2b8db>mailbox </mark><mark style=background-color:#fbd9ec>pp </mark><mark style=background-color:#f9d3e8>failing </mark><mark style=background-color:#e9f5d8>to </mark><mark style=background-color:#f5f7f3>provide </mark><mark style=background-color:#e1f3c7>a </mark><mark style=background-color:#f7f7f6>citation </mark><mark style=background-color:#f4f7f0>to </mark><mark style=background-color:#f6f7f5>expressly </mark><mark style=background-color:#f6c9e3>disclosing </mark><mark style=background-color:#fcdbed>these </mark><mark style=background-color:#f5c2e0>limitations </mark><mark style=background-color:#f1b7da>discloses </mark><mark style=background-color:#f3bcdd><OOV> </mark><mark style=background-color:#fcdded>ing </mark><mark style=background-color:#fbe7f2>a </mark><mark style=background-color:#fddeee>call </mark><mark style=background-color:#e2f3ca>to </mark><mark style=background-color:#ebf6dc>an </mark><mark style=background-color:#f9eef4>organization </mark><mark style=background-color:#fbe9f2>internal </mark><mark style=background-color:#fce5f1>voice </mark><mark style=background-color:#f8f5f6>mail </mark><mark style=background-color:#fce5f1>extension </mark><mark style=background-color:#faedf3>and </mark><mark style=background-color:#eba1cb>entering </mark><mark style=background-color:#fbd9ec>the </mark><mark style=background-color:#fbe9f2>extension </mark><mark style=background-color:#eef6e2>number </mark><mark style=background-color:#e2f3ca>of </mark><mark style=background-color:#faecf3>the </mark><mark style=background-color:#fde0ef>called </mark><mark style=background-color:#f4c1df>party </mark><mark style=background-color:#f5f7f3>to </mark><mark style=background-color:#f8f2f5>tell </mark><mark style=background-color:#f8f2f5>the </mark><mark style=background-color:#eff6e4>voice </mark><mark style=background-color:#faebf3>mail </mark><mark style=background-color:#f7f6f7>system </mark><mark style=background-color:#eef6e2>which </mark><mark style=background-color:#e1f3c7>voice </mark><mark style=background-color:#e4f4cd>mailbox </mark><mark style=background-color:#f0f6e7>to </mark><mark style=background-color:#f3f7ef>use </mark><mark style=background-color:#f9eff4>however </mark><mark style=background-color:#f3f7ef>does </mark><mark style=background-color:#f8f4f6>not </mark><mark style=background-color:#e9f5d6>disclose </mark><mark style=background-color:#dff2c4>or </mark><mark style=background-color:#e6f5d0>suggest </mark><mark style=background-color:#d9f0bc>storing </mark><mark style=background-color:#dbf0bf>caller </mark><mark style=background-color:#dbf0bf>information </mark><mark style=background-color:#e4f4cd>in </mark><mark style=background-color:#e9f5d6>association </mark><mark style=background-color:#f9eef4>with </mark><mark style=background-color:#fce3f0>the </mark><mark style=background-color:#fad6ea>called </mark><mark style=background-color:#f4f7f0>party </mark><mark style=background-color:#edf6df>voice </mark><mark style=background-color:#f8f5f6>mailbox </mark><mark style=background-color:#f8f5f6>or </mark><mark style=background-color:#f5f7f2>in </mark><mark style=background-color:#e4f4cd>association </mark><mark style=background-color:#ebf6dc>with </mark><mark style=background-color:#d4edb3>a </mark><mark style=background-color:#d9f0bc>voice </mark><mark style=background-color:#f3f6ed>message </mark><mark style=background-color:#f9eef4>as </mark><mark style=background-color:#f7f7f6>required </mark><mark style=background-color:#f8f2f5>by </mark><mark style=background-color:#f8f5f6>claim </mark><mark style=background-color:#f9f1f5>instead </mark><mark style=background-color:#f5f7f3>a </mark><mark style=background-color:#fbd8eb>would </mark><mark style=background-color:#faebf3>understand </mark><mark style=background-color:#f9eff4>that </mark><mark style=background-color:#f1f6ea>the </mark><mark style=background-color:#f9f0f5>system </mark><mark style=background-color:#f3f6ed>stores </mark><mark style=background-color:#faeaf2>caller </mark><mark style=background-color:#fde2f0>information </mark><mark style=background-color:#fad6ea>including </mark><mark style=background-color:#f5c6e2>the </mark><mark style=background-color:#efb0d6>name </mark><mark style=background-color:#d861a2>phone </mark><mark style=background-color:#e388ba>number </mark><mark style=background-color:#e388ba>of </mark><mark style=background-color:#e795c3>the </mark><mark style=background-color:#f7cbe4>calling </mark><mark style=background-color:#f8cee6>party </mark><mark style=background-color:#fcdded>and </mark><mark style=background-color:#faedf3>length </mark><mark style=background-color:#f7f7f7>of </mark><mark style=background-color:#f5f7f3>the </mark><mark style=background-color:#f6f7f5>call </mark><mark style=background-color:#faebf3>in </mark><mark style=background-color:#fcdbed>a </mark><mark style=background-color:#f8cee6>separate </mark><mark style=background-color:#faebf3><OOV> </mark><mark style=background-color:#fbe8f2>call </mark><mark style=background-color:#fbd9ec>log </mark><mark style=background-color:#f7f7f7>the </mark><mark style=background-color:#f7f6f7>call </mark><mark style=background-color:#ebf6db>log </mark><mark style=background-color:#dff2c4>includes </mark><mark style=background-color:#f1f6ea>a </mark><mark style=background-color:#ebf6db>data </mark><mark style=background-color:#f6c7e3>field </mark><mark style=background-color:#f8f5f6>referred </mark><mark style=background-color:#fbd9ec>to </mark><mark style=background-color:#faeaf2>as </mark><mark style=background-color:#f5f7f2>which </mark><mark style=background-color:#f7f7f7>designates </mark><mark style=background-color:#eef6e2>among </mark><mark style=background-color:#d4edb3>other </mark><mark style=background-color:#bee490>things </mark><mark style=background-color:#c0e593>whether </mark><mark style=background-color:#e2f3ca>the </mark><mark style=background-color:#c6e79c>call </mark><mark style=background-color:#f1f6ea>was </mark><mark style=background-color:#e7f5d3>an </mark><mark style=background-color:#f1f6ea>outgoing </mark><mark style=background-color:#f7f7f6>call </mark><mark style=background-color:#ebf6db>a </mark><mark style=background-color:#f4f7f0>missed </mark><mark style=background-color:#eaf5d9>call </mark><mark style=background-color:#d0ecad>or </mark><mark style=background-color:#e9f5d8>was </mark><mark style=background-color:#f9f1f5>sent </mark><mark style=background-color:#fbe7f2>to </mark><mark style=background-color:#fad4e9>voice </mark><mark style=background-color:#fde1ef>mail </mark><mark style=background-color:#f5c6e2>at </mark><mark style=background-color:#f0b2d7>best </mark><mark style=background-color:#dc70aa>discloses </mark><mark style=background-color:#f2b8db>that </mark><mark style=background-color:#f2b8db>when </mark><mark style=background-color:#fad6ea>a </mark><mark style=background-color:#f7f6f7>user </mark><mark style=background-color:#f9eff4>selects </mark><mark style=background-color:#f2f6ec>the </mark><mark style=background-color:#e8f5d5>button </mark><mark style=background-color:#e9f5d6>on </mark><mark style=background-color:#e4f4cd>the </mark><mark style=background-color:#c2e596>the </mark><mark style=background-color:#d6eeb6>system </mark><mark style=background-color:#e4f4cd>accesses </mark><mark style=background-color:#f6f7f5>the </mark><mark style=background-color:#f1f6ea><OOV> </mark><mark style=background-color:#f5f7f2>call </mark><mark style=background-color:#f3f7ef>log </mark><mark style=background-color:#f9f0f5>and </mark><mark style=background-color:#f4c1df>presents </mark><mark style=background-color:#fad6ea>a </mark><mark style=background-color:#f5c4e1>list </mark><mark style=background-color:#fcdded>of </mark><mark style=background-color:#fce5f1>the </mark><mark style=background-color:#f5c6e2>call </mark><mark style=background-color:#fbd8eb>log </mark><mark style=background-color:#fcdbed>information </mark><mark style=background-color:#f9eef4>for </mark><mark style=background-color:#f8f3f6>those </mark><mark style=background-color:#f5f7f3>calls </mark><mark style=background-color:#e7f5d2>in </mark><mark style=background-color:#ebf6dc>the </mark><mark style=background-color:#f5f7f2>call </mark><mark style=background-color:#f9f1f5>log </mark><mark style=background-color:#faedf3>that </mark><mark style=background-color:#f7f6f7>were </mark><mark style=background-color:#f8f5f6>designated </mark><mark style=background-color:#fddeee>after </mark><mark style=background-color:#fbd9ec>that </mark><mark style=background-color:#f8cee6>call </mark><mark style=background-color:#f6f7f5>log </mark><mark style=background-color:#faedf3>information </mark><mark style=background-color:#f8f2f5>is </mark><mark style=background-color:#fde1ef>presented </mark><mark style=background-color:#f5c2e0>the </mark><mark style=background-color:#f3bcdd>user </mark><mark style=background-color:#f1b7da>may </mark><mark style=background-color:#f5c6e2>go </mark><mark style=background-color:#fad6ea>to </mark><mark style=background-color:#f4bfdf>the </mark><mark style=background-color:#fcdbed>voice </mark><mark style=background-color:#f9f0f5>mail </mark><mark style=background-color:#eff6e5>system </mark><mark style=background-color:#e6f5d0>to </mark><mark style=background-color:#ebf6db>hear </mark><mark style=background-color:#d0ecad>his </mark><mark style=background-color:#f3f6ed>messages </mark><mark style=background-color:#e9f5d8>a </mark><mark style=background-color:#edf6e1>would </mark><mark style=background-color:#e7f5d3>understand </mark><mark style=background-color:#e8f5d5>that </mark><mark style=background-color:#eaf5d9>the </mark><mark style=background-color:#ecf6de>voice </mark><mark style=background-color:#f3f6ed>mail </mark><mark style=background-color:#f0f6e7>system </mark><mark style=background-color:#f0f6e7>of </mark><mark style=background-color:#fbe6f1>which </mark><mark style=background-color:#f5f7f3>is </mark><mark style=background-color:#faecf3>where </mark><mark style=background-color:#f5f7f3>the </mark><mark style=background-color:#faedf3>voice </mark><mark style=background-color:#e9f5d6>mailbox </mark><mark style=background-color:#eff6e5>stores </mark><mark style=background-color:#f3f6ed>voice </mark><mark style=background-color:#edf6e1>messages </mark><mark style=background-color:#edf6e1>for </mark><mark style=background-color:#ddf1c1>users </mark><mark style=background-color:#e7f5d2>is </mark><mark style=background-color:#ddf1c1>accessed </mark><mark style=background-color:#eaf5d9>only </mark><mark style=background-color:#9ccf64>after </mark><mark style=background-color:#d2ecb0>the </mark><mark style=background-color:#ddf1c1>user </mark><mark style=background-color:#d0ecad>has </mark><mark style=background-color:#e7f5d2>selected </mark><mark style=background-color:#fbe8f2>the </mark><mark style=background-color:#faecf3>call </mark><mark style=background-color:#faebf3>from </mark><mark style=background-color:#f9d1e8>the </mark><mark style=background-color:#f9d1e8>separate </mark><mark style=background-color:#fce4f0><OOV> </mark><mark style=background-color:#f8d0e7>call </mark><mark style=background-color:#f4f7f0>log </mark><mark style=background-color:#ebf6dc>information </mark><mark style=background-color:#e9f5d8>and </mark><mark style=background-color:#eef6e2>does </mark><mark style=background-color:#f3f6ed>not </mark><mark style=background-color:#f6f7f5>teach </mark><mark style=background-color:#f9eef4>or </mark><mark style=background-color:#f9f0f5>suggest </mark><mark style=background-color:#fce5f1>storing </mark><mark style=background-color:#fce5f1>caller </mark><mark style=background-color:#fbe9f2>information </mark><mark style=background-color:#faeaf2>in </mark><mark style=background-color:#f9f0f5>association </mark><mark style=background-color:#f6f7f5>with </mark><mark style=background-color:#e9f5d8>the </mark><mark style=background-color:#fde2f0>called </mark><mark style=background-color:#f6f7f5>party </mark><mark style=background-color:#fce3f0>voice </mark><mark style=background-color:#f9f1f5>mailbox </mark><mark style=background-color:#fbe8f2>or </mark><mark style=background-color:#faeaf2>in </mark><mark style=background-color:#f7f7f6>association </mark><mark style=background-color:#f6c7e3>with </mark><mark style=background-color:#f7cbe4>a </mark><mark style=background-color:#f5c4e1>voice </mark><mark style=background-color:#fde1ef>message </mark><mark style=background-color:#eeadd4>as </mark><mark style=background-color:#f7cce5>required </mark><mark style=background-color:#f6c9e3>by </mark><mark style=background-color:#f7cbe4>claim </mark><mark style=background-color:#fce3f0>ii </mark><mark style=background-color:#f2f6ec>automatically </mark><mark style=background-color:#f4f7f0>dialing </mark><mark style=background-color:#f2f6ec>the </mark><mark style=background-color:#ebf6db>telephone </mark><mark style=background-color:#eff6e5>number </mark><mark style=background-color:#f7f7f6>at </mark><mark style=background-color:#f5f7f2>a </mark><mark style=background-color:#ebf6dc>request </mark><mark style=background-color:#f3f6ed>of </mark><mark style=background-color:#ebf6db>the </mark><mark style=background-color:#dbf0bf>called </mark><mark style=background-color:#c6e79c>party </mark><mark style=background-color:#dbf0bf>while </mark><mark style=background-color:#d8efb9>the </mark><mark style=background-color:#d6eeb6>called </mark><mark style=background-color:#d2ecb0>party </mark><mark style=background-color:#d9f0bc>is </mark><mark style=background-color:#ddf1c1>listening </mark><mark style=background-color:#d6eeb6>to </mark><mark style=background-color:#eff6e5>the </mark><mark style=background-color:#ebf6db>voice </mark><mark style=background-color:#e9f5d8>message </mark><mark style=background-color:#f2f6ec>further </mark><mark style=background-color:#f8f2f5>recites </mark><mark style=background-color:#fbe7f2>automatically </mark><mark style=background-color:#f6f7f5>dialing </mark><mark style=background-color:#f9f1f5>the </mark><mark style=background-color:#fbe8f2>telephone </mark><mark style=background-color:#fbe8f2>number </mark><mark style=background-color:#fbe9f2>at </mark><mark style=background-color:#fbe9f2>a </mark><mark style=background-color:#f8f3f6>request </mark><mark style=background-color:#fbe6f1>of </mark><mark style=background-color:#fce4f0>the </mark><mark style=background-color:#fde2f0>called </mark><mark style=background-color:#f7cbe4>party </mark><mark style=background-color:#fcdded>while </mark><mark style=background-color:#fde0ef>the </mark><mark style=background-color:#faeaf2>called </mark><mark style=background-color:#f4f7f0>party </mark><mark style=background-color:#edf6df>is </mark><mark style=background-color:#f3f6ed>listening </mark><mark style=background-color:#f6f7f5>to </mark><mark style=background-color:#f8f3f6>the </mark><mark style=background-color:#fbe9f2>voice </mark><mark style=background-color:#fddeee>message </mark><mark style=background-color:#fcdded>does </mark><mark style=background-color:#f9d1e8>not </mark><mark style=background-color:#efb0d6>clearly </mark><mark style=background-color:#e58dbe>disclose </mark><mark style=background-color:#dd73ac>that </mark><mark style=background-color:#f3bcdd>a </mark><mark style=background-color:#eca6cf>call </mark><mark style=background-color:#e897c4>can </mark><mark style=background-color:#ea9fca>be </mark><mark style=background-color:#e590bf>returned </mark><mark style=background-color:#fcdbed>while </mark><mark style=background-color:#f8f4f6>the </mark><mark style=background-color:#f9d1e8>called </mark><mark style=background-color:#f9d3e8>party </mark><mark style=background-color:#fbe8f2>is </mark><mark style=background-color:#ecf6de>listening </mark><mark style=background-color:#e1f3c7>to </mark><mark style=background-color:#edf6df>the </mark><mark style=background-color:#ddf1c1>voice </mark><mark style=background-color:#e2f3ca>message </mark><mark style=background-color:#cdeaa7>the </mark><mark style=background-color:#bde38d>and </mark><mark style=background-color:#e7f5d2>cite </mark><mark style=background-color:#ddf1c1>a </mark><mark style=background-color:#eef6e2>passage </mark><mark style=background-color:#ebf6dc>of </mark><mark style=background-color:#faebf3>that </mark><mark style=background-color:#f7f6f7>states </mark><mark style=background-color:#fbe9f2>the </mark><mark style=background-color:#f9f1f5>following </mark><mark style=background-color:#f9eef4>when </mark><mark style=background-color:#fbe9f2>a </mark><mark style=background-color:#faecf3>voice </mark><mark style=background-color:#fce5f1>mail </mark><mark style=background-color:#eff6e5>message </mark><mark style=background-color:#ecf6de>is </mark><mark style=background-color:#f4f7f0>selected </mark><mark style=background-color:#eef6e2>to </mark><mark style=background-color:#e7f5d3>be </mark><mark style=background-color:#f8f2f5>heard </mark><mark style=background-color:#f6f7f5>by </mark><mark style=background-color:#faecf3>the </mark><mark style=background-color:#f9f1f5>double-click </mark><mark style=background-color:#f7f7f7>of </mark><mark style=background-color:#faeaf2>a </mark><mark style=background-color:#f7f7f7>mouse </mark><mark style=background-color:#f3f7ef>or </mark><mark style=background-color:#cfebaa>otherwise </mark><mark style=background-color:#c4e699>the </mark><mark style=background-color:#c6e79c>call </mark><mark style=background-color:#bbe28a>management </mark><mark style=background-color:#d8efb9>computer </mark><mark style=background-color:#cfebaa>creates </mark><mark style=background-color:#d8efb9>a </mark><mark style=background-color:#e7f5d2>voice </mark><mark style=background-color:#f1f6e8>pathway </mark><mark style=background-color:#ebf6db>to </mark><mark style=background-color:#f8f3f6>the </mark><mark style=background-color:#fce5f1>user </mark><mark style=background-color:#fbd8eb>telephone </mark><mark style=background-color:#fbe9f2>instrument </mark><mark style=background-color:#fbe9f2>if </mark><mark style=background-color:#fce5f1>one </mark><mark style=background-color:#fcdded>is </mark><mark style=background-color:#fbe7f2>not </mark><mark style=background-color:#fddeee>already </mark><mark style=background-color:#e2f3ca>present </mark><mark style=background-color:#ebf6dc>which </mark><mark style=background-color:#e4f4cd>it </mark><mark style=background-color:#e4f4cd>then </mark><mark style=background-color:#e1f3c7>uses </mark><mark style=background-color:#e4f4cd>to </mark><mark style=background-color:#eef6e2>play </mark><mark style=background-color:#dff2c4>back </mark><mark style=background-color:#f7f7f6>the </mark><mark style=background-color:#f2f6ec>selected </mark><mark style=background-color:#eaf5d9>voice </mark><mark style=background-color:#f4f7f0>mail </mark><mark style=background-color:#f9eef4>messages </mark><mark style=background-color:#fce4f0>from </mark><mark style=background-color:#fce4f0>the </mark><mark style=background-color:#f9eef4>call </mark><mark style=background-color:#faecf3>management </mark><mark style=background-color:#fcdded>database </mark><mark style=background-color:#fbe7f2>or </mark><mark style=background-color:#fddeee>other </mark><mark style=background-color:#e2f3ca>storage </mark><mark style=background-color:#ebf6dc>during </mark><mark style=background-color:#f9eef4>playback </mark><mark style=background-color:#fbe9f2>many </mark><mark style=background-color:#fce5f1>new </mark><mark style=background-color:#f8f5f6>capabilities </mark><mark style=background-color:#f9eff4>are </mark><mark style=background-color:#f4f7f0>provided </mark><mark style=background-color:#fbe6f1>the </mark><mark style=background-color:#fbe6f1>user </mark><mark style=background-color:#e8f5d5>including </mark><mark style=background-color:#e6f5d0>returning </mark><mark style=background-color:#d2ecb0>the </mark><mark style=background-color:#edf6df>calls </mark><mark style=background-color:#e4f4cd>with </mark><mark style=background-color:#d9f0bc>the </mark><mark style=background-color:#e4f4cd>click </mark><mark style=background-color:#cbe9a4>of </mark><mark style=background-color:#e7f5d3>a </mark><mark style=background-color:#e6f5d0>mouse </mark><mark style=background-color:#d4edb3>citing </mark><mark style=background-color:#f4f7f0>reviewing </mark><mark style=background-color:#eaf5d9>this </mark><mark style=background-color:#fbe7f2>passage </mark><mark style=background-color:#fcdbed>would </mark><mark style=background-color:#f8cee6>not </mark><mark style=background-color:#f7cbe4>understand </mark><mark style=background-color:#f7cbe4>to </mark><mark style=background-color:#e99cc8>clearly </mark><mark style=background-color:#f7cbe4>disclose </mark><mark style=background-color:#f8cee6>that </mark><mark style=background-color:#fce5f1>returning </mark><mark style=background-color:#fbe9f2>the </mark><mark style=background-color:#f9f1f5>calls </mark><mark style=background-color:#f7f7f7>with </mark><mark style=background-color:#e8f5d5>the </mark><mark style=background-color:#f7f7f6>click </mark><mark style=background-color:#e7f5d3>of </mark><mark style=background-color:#faecf3>the </mark><mark style=background-color:#f8f2f5>mouse </mark><mark style=background-color:#fbd8eb>could </mark><mark style=background-color:#fbe8f2>occur </mark><mark style=background-color:#f9f1f5>during </mark><mark style=background-color:#fde2f0>playback </mark><mark style=background-color:#fde0ef>of </mark><mark style=background-color:#fbe7f2>any </mark><mark style=background-color:#fddeee>particular </mark><mark style=background-color:#f4f7f0>message </mark><mark style=background-color:#d9f0bc>instead </mark><mark style=background-color:#edf6e1>a </mark><mark style=background-color:#edf6e1>would </mark><mark style=background-color:#f6f7f5>interpret </mark><mark style=background-color:#faeaf2>this </mark><mark style=background-color:#f9eef4>section </mark><mark style=background-color:#fbe6f1>as </mark><mark style=background-color:#f5f7f3>disclosing </mark><mark style=background-color:#f9f1f5>only </mark><mark style=background-color:#fbe6f1>that </mark><mark style=background-color:#fcdbed>calls </mark><mark style=background-color:#fad6ea>can </mark><mark style=background-color:#f5f7f3>be </mark><mark style=background-color:#f8f5f6>returned </mark><mark style=background-color:#f9eef4>by </mark><mark style=background-color:#faedf3>the </mark><mark style=background-color:#eba1cb>click </mark><mark style=background-color:#fad4e9>of </mark><mark style=background-color:#fbe6f1>a </mark><mark style=background-color:#f1f6ea>mouse </mark><mark style=background-color:#f8f5f6>at </mark><mark style=background-color:#faeaf2>some </mark><mark style=background-color:#fce5f1>point </mark><mark style=background-color:#faedf3>in </mark><mark style=background-color:#ecf6de>the </mark><mark style=background-color:#f7f6f7>playback </mark><mark style=background-color:#f7f7f6>of </mark><mark style=background-color:#f9eef4>a </mark><mark style=background-color:#faeaf2>group </mark><mark style=background-color:#fcdbed>of </mark><mark style=background-color:#fbe7f2>messages </mark><mark style=background-color:#fde2f0>by </mark><mark style=background-color:#f7f7f6>the </mark><mark style=background-color:#fce5f1>user </mark><mark style=background-color:#f9eef4>selecting </mark><mark style=background-color:#edf6df>from </mark><mark style=background-color:#f9f1f5>the </mark><mark style=background-color:#e7f5d3>call </mark><mark style=background-color:#f3f6ed>log </mark><mark style=background-color:#f8f2f5>and </mark><mark style=background-color:#fbd8eb>not </mark><mark style=background-color:#fbe8f2>the </mark><mark style=background-color:#f9f1f5>voice </mark><mark style=background-color:#fce3f0>mailbox </mark><mark style=background-color:#f4f7f0>the </mark><mark style=background-color:#f9f0f5>number </mark><mark style=background-color:#f8f4f6>of </mark><mark style=background-color:#f7f7f6>the </mark><mark style=background-color:#f7f6f7>person </mark><mark style=background-color:#f8f4f6>whose </mark><mark style=background-color:#fbe6f1>call </mark><mark style=background-color:#faedf3>the </mark><mark style=background-color:#f1b5d9>user </mark><mark style=background-color:#f8cee6>desired </mark><mark style=background-color:#fcdbed>to </mark><mark style=background-color:#fde2f0>return </mark><mark style=background-color:#e7f5d2>citing </mark><mark style=background-color:#fce5f1>this </mark><mark style=background-color:#f5f7f3>call </mark><mark style=background-color:#faedf3>log </mark><mark style=background-color:#fde0ef>the </mark><mark style=background-color:#f9eef4>user </mark><mark style=background-color:#faebf3>may </mark><mark style=background-color:#fde1ef>simply </mark><mark style=background-color:#f9d3e8>double-click </mark><mark style=background-color:#fbe7f2>to </mark><mark style=background-color:#fbe9f2>return </mark><mark style=background-color:#f1f6e8>missed </mark><mark style=background-color:#ebf6db>calls </mark><mark style=background-color:#edf6e1>with </mark><mark style=background-color:#edf6e1>the </mark><mark style=background-color:#f3f6ed>system </mark><mark style=background-color:#d4edb3>automatically </mark><mark style=background-color:#faeaf2><OOV> </mark><mark style=background-color:#f4f7f0>them </mark><mark style=background-color:#fad6ea>emphasis </mark><mark style=background-color:#fce5f1>added </mark><mark style=background-color:#fce5f1>would </mark><mark style=background-color:#f6c7e3>not </mark><mark style=background-color:#fce5f1>interpret </mark><mark style=background-color:#fbd8eb>as </mark><mark style=background-color:#fce5f1>clearly </mark><mark style=background-color:#f8f5f6>disclosing </mark><mark style=background-color:#f9f0f5>that </mark><mark style=background-color:#faedf3>during </mark><mark style=background-color:#e4f4cd>playback </mark><mark style=background-color:#d4edb3>of </mark><mark style=background-color:#d9f0bc>a </mark><mark style=background-color:#d9f0bc>particular </mark><mark style=background-color:#b2dd7f>message </mark><mark style=background-color:#ecf6de>a </mark><mark style=background-color:#d9f0bc>user </mark><mark style=background-color:#d0ecad>can </mark><mark style=background-color:#f5f7f3>automatically </mark><mark style=background-color:#f9eff4>return </mark><mark style=background-color:#faecf3>the </mark><mark style=background-color:#f9f1f5>call </mark><mark style=background-color:#f7f7f7>of </mark><mark style=background-color:#faeaf2>the </mark><mark style=background-color:#f7f7f7>person </mark><mark style=background-color:#f3f7ef>that </mark><mark style=background-color:#cfebaa>left </mark><mark style=background-color:#c4e699>that </mark><mark style=background-color:#cfebaa>same </mark><mark style=background-color:#edf6e1>message </mark><mark style=background-color:#f5f7f3>does </mark><mark style=background-color:#eef6e2>not </mark><mark style=background-color:#f2f6ec>disclose </mark><mark style=background-color:#faedf3>storing </mark><mark style=background-color:#f9eef4>the </mark><mark style=background-color:#fde1ef>telephone </mark><mark style=background-color:#fbd8eb>number </mark><mark style=background-color:#faecf3>received </mark><mark style=background-color:#f9eff4>as </mark><mark style=background-color:#f3f7ef>part </mark><mark style=background-color:#fbe8f2>of </mark><mark style=background-color:#f3f7ef>the </mark><mark style=background-color:#f9eff4>caller </mark><mark style=background-color:#f7f7f6>information </mark><mark style=background-color:#f5f7f3>i </mark><mark style=background-color:#f8f2f5>in </mark><mark style=background-color:#f8f2f5>the </mark><mark style=background-color:#faebf3>manner </mark><mark style=background-color:#f7f7f6>required </mark><mark style=background-color:#fbe8f2>by </mark><mark style=background-color:#faecf3>claim </mark><mark style=background-color:#f9eef4>therefore </mark><mark style=background-color:#f5f7f3>for </mark><mark style=background-color:#f2f6ec>at </mark><mark style=background-color:#e9f5d6>least </mark><mark style=background-color:#f1f6ea>the </mark><mark style=background-color:#fce5f1>reasons </mark><mark style=background-color:#faecf3>detailed </mark><mark style=background-color:#f4c1df>with </mark><mark style=background-color:#fbe9f2>respect </mark><mark style=background-color:#fde2f0>to </mark><mark style=background-color:#f9d1e8>this </mark><mark style=background-color:#f4bfdf>claim </mark><mark style=background-color:#fde1ef>element </mark><mark style=background-color:#f8f2f5>does </mark><mark style=background-color:#f8f5f6>not </mark><mark style=background-color:#e9f5d8>disclose </mark><mark style=background-color:#f9eef4>or </mark><mark style=background-color:#ddf1c1>suggest </mark><mark style=background-color:#dff2c4>that </mark><mark style=background-color:#c9e8a2>the </mark><mark style=background-color:#f5f7f2>telephone </mark><mark style=background-color:#e8f5d5>number </mark><mark style=background-color:#e7f5d3><OOV> </mark><mark style=background-color:#eaf5d9>number </mark><mark style=background-color:#e7f5d2>that </mark><mark style=background-color:#edf6df>is </mark><mark style=background-color:#f9f1f5>received </mark><mark style=background-color:#fbe9f2>as </mark><mark style=background-color:#f7f7f6>part </mark><mark style=background-color:#f5f7f2>of </mark><mark style=background-color:#f8f5f6>the </mark><mark style=background-color:#faebf3>caller </mark><mark style=background-color:#f9eff4>information </mark><mark style=background-color:#faeaf2>and </mark><mark style=background-color:#fcdded>stor </mark><mark style=background-color:#fce3f0>ed </mark><mark style=background-color:#f9eef4>in </mark><mark style=background-color:#f9eef4>association </mark><mark style=background-color:#fbe8f2>with </mark><mark style=background-color:#f2b8db>the </mark><mark style=background-color:#fbd8eb>voice </mark><mark style=background-color:#f5c4e1>mailbox </mark><mark style=background-color:#fcdbed>and </mark><mark style=background-color:#fbd9ec>in </mark><mark style=background-color:#fce5f1>association </mark><mark style=background-color:#fbd8eb>with </mark><mark style=background-color:#fad6ea>a </mark><mark style=background-color:#faebf3>voice </mark><mark style=background-color:#f9eef4>message </mark><mark style=background-color:#f7f7f6>left </mark><mark style=background-color:#f2f6ec>by </mark><mark style=background-color:#d9f0bc>the </mark><mark style=background-color:#f0f6e7>calling </mark><mark style=background-color:#ecf6de>party </mark><mark style=background-color:#ecf6de>for </mark><mark style=background-color:#e1f3c7>the </mark><mark style=background-color:#f5f7f3>called </mark><mark style=background-color:#f1f6ea>party </mark><mark style=background-color:#f5f7f2>in </mark><mark style=background-color:#f9f1f5>the </mark><mark style=background-color:#f9f1f5>voice </mark><mark style=background-color:#faeaf2>mailbox </mark><mark style=background-color:#f5f7f2>can </mark><mark style=background-color:#fad6ea>be </mark><mark style=background-color:#fad6ea>automatically </mark><mark style=background-color:#f6c9e3>dialed </mark><mark style=background-color:#fde1ef>at </mark><mark style=background-color:#fde2f0>a </mark><mark style=background-color:#f9f1f5>request </mark><mark style=background-color:#eaf5d9>of </mark><mark style=background-color:#f9eef4>the </mark><mark style=background-color:#eff6e5>called </mark><mark style=background-color:#e7f5d3>party </mark><mark style=background-color:#d9f0bc>while </mark><mark style=background-color:#ddf1c1>the </mark><mark style=background-color:#e6f5d0>called </mark><mark style=background-color:#f1f6e8>party </mark><mark style=background-color:#f6f7f5>is </mark><mark style=background-color:#f8f4f6>listening </mark><mark style=background-color:#f8f2f5>to </mark><mark style=background-color:#f5f7f2>the </mark><mark style=background-color:#f5f7f3>voice </mark><mark style=background-color:#f1f6ea>message </mark><mark style=background-color:#faedf3>accordingly </mark><mark style=background-color:#f3f6ed>a </mark><mark style=background-color:#f8f4f6>would </mark><mark style=background-color:#edf6df>understand </mark><mark style=background-color:#f4f7f0>that </mark><mark style=background-color:#eaf5d9>does </mark><mark style=background-color:#ebf6db>not </mark><mark style=background-color:#d2ecb0>teach </mark><mark style=background-color:#eaf5d9>or </mark><mark style=background-color:#e7f5d3>suggest </mark><mark style=background-color:#c7e89f>all </mark><mark style=background-color:#aeda7a>limitations </mark><mark style=background-color:#9acd61>of </mark><mark style=background-color:#a7d672>claim </mark><mark style=background-color:#a5d56f>and </mark><mark style=background-color:#b7e085>depend </mark><mark style=background-color:#bee490>from </mark><mark style=background-color:#b2dd7f>and </mark><mark style=background-color:#b2dd7f>add </mark><mark style=background-color:#bde38d>limitations </mark><mark style=background-color:#d6eeb6>to </mark><mark style=background-color:#f9f1f5>claim </mark><mark style=background-color:#cbe9a4>and </mark><mark style=background-color:#f2f6ec>fails </mark><mark style=background-color:#ddf1c1>to </mark><mark style=background-color:#fde2f0>teach </mark><mark style=background-color:#f6c9e3>or </mark><mark style=background-color:#f0b2d7>suggest </mark><mark style=background-color:#f2b8db>those </mark><mark style=background-color:#fbe7f2>claims </mark><mark style=background-color:#f4c1df>for </mark><mark style=background-color:#e48bbc>at </mark><mark style=background-color:#f5c4e1>least </mark><mark style=background-color:#fbe8f2>the </mark><mark style=background-color:#f8f2f5>same </mark><mark style=background-color:#eaf5d9>reasons </mark><mark style=background-color:#e6f5d0>and </mark><mark style=background-color:#faebf3>are </mark><mark style=background-color:#fce5f1>therefore </mark><mark style=background-color:#f8f4f6>patentable </mark><mark style=background-color:#f8f5f6>over </mark><mark style=background-color:#faeaf2>the </mark><mark style=background-color:#f6c9e3>of </mark><mark style=background-color:#eda8d1>and </mark><mark style=background-color:#eeadd4>not </mark><mark style=background-color:#fbe8f2>of </mark><mark style=background-color:#fcdbed>the </mark><mark style=background-color:#f6c7e3>combination </mark><mark style=background-color:#fbd8eb>of </mark><mark style=background-color:#f9d1e8>and </mark><mark style=background-color:#fbe9f2>the </mark><mark style=background-color:#fde2f0>references </mark><mark style=background-color:#f9d3e8>does </mark><mark style=background-color:#f9f1f5>not </mark><mark style=background-color:#f3f6ed>render </mark><mark style=background-color:#faeaf2>obvious </mark><mark style=background-color:#f8f5f6>any </mark><mark style=background-color:#f8f4f6>of </mark><mark style=background-color:#f0f6e7>claims </mark><mark style=background-color:#ebf6db>or </mark><mark style=background-color:#faeaf2>independent </mark><mark style=background-color:#f8f5f6>the </mark><mark style=background-color:#fce4f0>combination </mark><mark style=background-color:#f9eff4>of </mark><mark style=background-color:#fce5f1>and </mark><mark style=background-color:#fbd9ec>the </mark><mark style=background-color:#fde0ef>references </mark><mark style=background-color:#f9f1f5>does </mark><mark style=background-color:#fbe8f2>not </mark><mark style=background-color:#f5f7f2>render </mark><mark style=background-color:#faeaf2>obvious </mark><mark style=background-color:#fbe8f2>claim </mark><mark style=background-color:#faecf3>at </mark><mark style=background-color:#f9f1f5>least </mark><mark style=background-color:#f8f5f6>because </mark><mark style=background-color:#faebf3>neither </mark><mark style=background-color:#fce4f0>or </mark><mark style=background-color:#fbe7f2>taken </mark><mark style=background-color:#f0f6e7>alone </mark><mark style=background-color:#f3f6ed>or </mark><mark style=background-color:#f9eff4>in </mark><mark style=background-color:#f6f7f5>combination </mark><mark style=background-color:#f7f7f7>teach </mark><mark style=background-color:#ddf1c1>or </mark><mark style=background-color:#98cc5f>suggest </mark><mark style=background-color:#d4edb3>connecting </mark><mark style=background-color:#e6f5d0>the </mark><mark style=background-color:#c0e593>incoming </mark><mark style=background-color:#c6e79c>call </mark><mark style=background-color:#ddf1c1>to </mark><mark style=background-color:#cbe9a4>a </mark><mark style=background-color:#eaf5d9>voice </mark><mark style=background-color:#f2f6ec>mailbox </mark><mark style=background-color:#f0f6e7>i </mark><mark style=background-color:#f1f6e8>connecting </mark><mark style=background-color:#fbe9f2>the </mark><mark style=background-color:#f5f7f3>incoming </mark><mark style=background-color:#fbd9ec>call </mark><mark style=background-color:#f0b2d7>to </mark><mark style=background-color:#f5c4e1>a </mark><mark style=background-color:#fde1ef>voice </mark><mark style=background-color:#f7f6f7>mailbox </mark><mark style=background-color:#fce5f1>recites </mark><mark style=background-color:#f7f7f7>connecting </mark><mark style=background-color:#faedf3>the </mark><mark style=background-color:#eff6e4>incoming </mark><mark style=background-color:#d6eeb6>call </mark><mark style=background-color:#f3f6ed>to </mark><mark style=background-color:#edf6e1>a </mark><mark style=background-color:#fbe6f1>voice </mark><mark style=background-color:#f8f3f6>mailbox </mark><mark style=background-color:#fce4f0>claim </mark><mark style=background-color:#fbd8eb>for </mark><mark style=background-color:#fcdbed>background </mark><mark style=background-color:#e692c1>claim </mark><mark style=background-color:#fbd8eb>also </mark><mark style=background-color:#fce5f1>requires </mark><mark style=background-color:#faebf3>both </mark><mark style=background-color:#f9eff4>receiving </mark><mark style=background-color:#fbe9f2>an </mark><mark style=background-color:#f8f2f5>incoming </mark><mark style=background-color:#fbe8f2>call </mark><mark style=background-color:#f9f1f5>and </mark><mark style=background-color:#f7f7f7>then </mark><mark style=background-color:#fbe8f2>connecting </mark><mark style=background-color:#fcdded>the </mark><mark style=background-color:#fbe7f2>incoming </mark><mark style=background-color:#fbd9ec>call </mark><mark style=background-color:#f8f4f6>to </mark><mark style=background-color:#fde1ef>a </mark><mark style=background-color:#f8cee6>voice </mark><mark style=background-color:#f9d1e8>mailbox </mark><mark style=background-color:#fde2f0>this </mark><mark style=background-color:#f0f6e7>two-step </mark><mark style=background-color:#fce3f0>series </mark><mark style=background-color:#f5c6e2>of </mark><mark style=background-color:#f7cce5>events </mark><mark style=background-color:#fce4f0>makes </mark><mark style=background-color:#fde0ef>sense </mark><mark style=background-color:#fbd9ec>in </mark><mark style=background-color:#fddeee>the </mark><mark style=background-color:#f6c9e3>context </mark><mark style=background-color:#f9d3e8>of </mark><mark style=background-color:#e9f5d8>the </mark><mark style=background-color:#f5f7f3>patent </mark><mark style=background-color:#e1f3c7>which </mark><mark style=background-color:#f7f7f6>describes </mark><mark style=background-color:#f4f7f0>a </mark><mark style=background-color:#f8f5f6>centralized </mark><mark style=background-color:#fbe6f1>system </mark><mark style=background-color:#f0f6e7>for </mark><mark style=background-color:#f9d1e8>receiving </mark><mark style=background-color:#fce3f0>and </mark><mark style=background-color:#fce3f0>routing </mark><mark style=background-color:#f8f5f6>incoming </mark><mark style=background-color:#fcdbed>calls </mark><mark style=background-color:#f9d1e8>for </mark><mark style=background-color:#eef6e2>a </mark><mark style=background-color:#f9eef4>plurality </mark><mark style=background-color:#fbe6f1>of </mark><mark style=background-color:#f9f0f5>user </mark><mark style=background-color:#f1f6ea>extensions </mark><mark style=background-color:#e8f5d5>with </mark><mark style=background-color:#ddf1c1>each </mark><mark style=background-color:#d8efb9>extension </mark><mark style=background-color:#e4f4cd>having </mark><mark style=background-color:#f5f7f2>a </mark><mark style=background-color:#dff2c4>separate </mark><mark style=background-color:#ebf6dc>mailbox </mark><mark style=background-color:#f9eef4>on </mark><mark style=background-color:#fbe9f2>the </mark><mark style=background-color:#fce5f1>system </mark><mark style=background-color:#f8f5f6>all </mark><mark style=background-color:#fce5f1>stored </mark><mark style=background-color:#faedf3>on </mark><mark style=background-color:#eba1cb>a </mark><mark style=background-color:#fad4e9>hard </mark><mark style=background-color:#fbe6f1>disk </mark><mark style=background-color:#f1f6e8>the </mark><mark style=background-color:#e9f5d6>centralized </mark><mark style=background-color:#fbe6f1>system </mark><mark style=background-color:#fcdbed>is </mark><mark style=background-color:#fad6ea>connected </mark><mark style=background-color:#f5f7f3>to </mark><mark style=background-color:#f8f5f6>electronic </mark><mark style=background-color:#f9eef4>key </mark><mark style=background-color:#f5f7f3>telephones </mark><mark style=background-color:#fce3f0>associated </mark><mark style=background-color:#f7f7f7>with </mark><mark style=background-color:#e7f5d2>user </mark><mark style=background-color:#d9f0bc>extensions </mark><mark style=background-color:#d8efb9>incoming </mark><mark style=background-color:#e2f3ca>calls </mark><mark style=background-color:#eef6e2>are </mark><mark style=background-color:#e1f3c7>received </mark><mark style=background-color:#e4f4cd>from </mark><mark style=background-color:#f0f6e7>a </mark><mark style=background-color:#f3f7ef>through </mark><mark style=background-color:#f9eff4>and </mark><mark style=background-color:#f3f7ef>the </mark><mark style=background-color:#f8f4f6>calls </mark><mark style=background-color:#e9f5d6>are </mark><mark style=background-color:#dff2c4>received </mark><mark style=background-color:#e6f5d0>by </mark><mark style=background-color:#d9f0bc>the </mark><mark style=background-color:#dbf0bf>system </mark><mark style=background-color:#dbf0bf>using </mark><mark style=background-color:#e4f4cd>a </mark><mark style=background-color:#e9f5d6>caller </mark><mark style=background-color:#f9eef4>modem </mark><mark style=background-color:#fce3f0>that </mark><mark style=background-color:#f5c2e0>is </mark><mark style=background-color:#ea9fca>coupled </mark><mark style=background-color:#f2badc>to </mark><mark style=background-color:#f9d1e8>digital </mark><mark style=background-color:#fbe7f2>crosspoint </mark><mark style=background-color:#f9d3e8>matrix </mark><mark style=background-color:#f9eef4>and </mark><mark style=background-color:#f5f7f3>after </mark><mark style=background-color:#eff6e4>the </mark><mark style=background-color:#ebf6dc>system </mark><mark style=background-color:#d4edb3>receives </mark><mark style=background-color:#d9f0bc>the </mark><mark style=background-color:#f3f6ed>incoming </mark><mark style=background-color:#f9eef4>call </mark><mark style=background-color:#f7f7f6>the </mark><mark style=background-color:#f8f2f5>system </mark><mark style=background-color:#f8f5f6>must </mark><mark style=background-color:#f9f1f5>make </mark><mark style=background-color:#f5f7f3>a </mark><mark style=background-color:#fbd8eb>further </mark><mark style=background-color:#faebf3>connection </mark><mark style=background-color:#f9eff4>the </mark><mark style=background-color:#f1f6ea>system </mark><mark style=background-color:#f9f0f5>can </mark><mark style=background-color:#f3f6ed>process </mark><mark style=background-color:#faeaf2>the </mark><mark style=background-color:#fde2f0>call </mark><mark style=background-color:#fad6ea>and </mark><mark style=background-color:#f5c6e2>connect </mark><mark style=background-color:#efb0d6>it </mark><mark style=background-color:#d861a2>to </mark><mark style=background-color:#e388ba>the </mark><mark style=background-color:#e388ba>appropriate </mark><mark style=background-color:#e795c3>user </mark><mark style=background-color:#fde2f0>if </mark><mark style=background-color:#fce4f0>that </mark><mark style=background-color:#f8f5f6>user </mark><mark style=background-color:#f3f6ed>does </mark><mark style=background-color:#e6f5d0>not </mark><mark style=background-color:#e7f5d3>answer </mark><mark style=background-color:#f9f0f5>the </mark><mark style=background-color:#e7f5d2>system </mark><mark style=background-color:#faebf3>performs </mark><mark style=background-color:#fcdbed>steps </mark><mark style=background-color:#f8cee6>to </mark><mark style=background-color:#faebf3>connect </mark><mark style=background-color:#fbe8f2>the </mark><mark style=background-color:#fbd9ec>incoming </mark><mark style=background-color:#f7f7f7>call </mark><mark style=background-color:#f7f6f7>to </mark><mark style=background-color:#ebf6db>the </mark><mark style=background-color:#dff2c4>specific </mark><mark style=background-color:#f1f6ea>voice </mark><mark style=background-color:#ebf6db>mailbox </mark><mark style=background-color:#f6c7e3>in </mark><mark style=background-color:#f8f5f6>hard </mark><mark style=background-color:#fbd9ec>disk </mark><mark style=background-color:#faeaf2>via </mark><mark style=background-color:#f5f7f2>bus </mark><mark style=background-color:#f7f7f7>which </mark><mark style=background-color:#eef6e2>is </mark><mark style=background-color:#d4edb3>connected </mark><mark style=background-color:#bee490>to </mark><mark style=background-color:#c0e593>a </mark><mark style=background-color:#e2f3ca>microprocessor </mark><mark style=background-color:#c6e79c>that </mark><mark style=background-color:#f1f6ea>controls </mark><mark style=background-color:#e7f5d3>access </mark><mark style=background-color:#f1f6ea>to </mark><mark style=background-color:#f7f7f6>specific </mark><mark style=background-color:#ebf6db><OOV> </mark><mark style=background-color:#f4f7f0>therefore </mark><mark style=background-color:#eaf5d9>the </mark><mark style=background-color:#d0ecad>method </mark><mark style=background-color:#e9f5d8>of </mark><mark style=background-color:#f9f1f5>claim </mark><mark style=background-color:#fbe7f2>requires </mark><mark style=background-color:#fad4e9>both </mark><mark style=background-color:#fde1ef>receiving </mark><mark style=background-color:#f5c6e2>the </mark><mark style=background-color:#f0b2d7>incoming </mark><mark style=background-color:#dc70aa>call </mark><mark style=background-color:#f2b8db>and </mark><mark style=background-color:#f2b8db>then </mark><mark style=background-color:#fad6ea>a </mark><mark style=background-color:#f7f6f7>further </mark><mark style=background-color:#f9eff4>connection </mark><mark style=background-color:#eff6e4>step </mark><mark style=background-color:#f0f6e7>in </mark><mark style=background-color:#ddf1c1>order </mark><mark style=background-color:#b7e085>to </mark><mark style=background-color:#acd977>access </mark><mark style=background-color:#d0ecad>a </mark><mark style=background-color:#eef6e2>particular </mark><mark style=background-color:#e7f5d3>user </mark><mark style=background-color:#d8efb9>voice </mark><mark style=background-color:#eff6e4>mailbox </mark><mark style=background-color:#fbe7f2>in </mark><mark style=background-color:#fce4f0>contrast </mark><mark style=background-color:#e58dbe>both </mark><mark style=background-color:#f5c6e2>and </mark><mark style=background-color:#f3bcdd>disclose </mark><mark style=background-color:#fddeee>single </mark><mark style=background-color:#f7cbe4>phone </mark><mark style=background-color:#f7cce5>units </mark><mark style=background-color:#f8cee6>analogous </mark><mark style=background-color:#fce5f1>to </mark><mark style=background-color:#f5f7f3>the </mark><mark style=background-color:#f3f6ed>of </mark><mark style=background-color:#f5f7f3>the </mark><mark style=background-color:#f8f2f5>patent </mark><mark style=background-color:#faecf3>that </mark><mark style=background-color:#fbe9f2>themselves </mark><mark style=background-color:#f1f6ea>receive </mark><mark style=background-color:#f9eff4>calls </mark><mark style=background-color:#fad6ea>and </mark><mark style=background-color:#fbd8eb>then </mark><mark style=background-color:#f8f4f6>record </mark><mark style=background-color:#f7cbe4>voice </mark><mark style=background-color:#fce5f1>messages </mark><mark style=background-color:#f9eef4>on </mark><mark style=background-color:#f9eef4>that </mark><mark style=background-color:#f8f3f6>same </mark><mark style=background-color:#f3f7ef>phone </mark><mark style=background-color:#e7f5d3>unit </mark><mark style=background-color:#f8f5f6>claim </mark><mark style=background-color:#f9f1f5>versatile </mark><mark style=background-color:#faecf3>telephone </mark><mark style=background-color:#faeaf2>unit </mark><mark style=background-color:#f9f0f5>comprising… </mark><mark style=background-color:#fce3f0>claim </mark><mark style=background-color:#fcdded>telephone </mark><mark style=background-color:#fad6ea>answering </mark><mark style=background-color:#fce4f0>device </mark><mark style=background-color:#f3f7ef>coupled </mark><mark style=background-color:#f8f4f6>to </mark><mark style=background-color:#f7f6f7>a </mark><mark style=background-color:#e9f5d6>telephone </mark><mark style=background-color:#ebf6db>line </mark><mark style=background-color:#d4edb3>for </mark><mark style=background-color:#ddf1c1>automatically </mark><mark style=background-color:#eef6e2>answering </mark><mark style=background-color:#eff6e5>incoming </mark><mark style=background-color:#f9f1f5>telephone </mark><mark style=background-color:#f7f7f7>calls </mark><mark style=background-color:#f8f2f5>and </mark><mark style=background-color:#f7f7f6>storing </mark><mark style=background-color:#f8f4f6>and </mark><mark style=background-color:#fbe9f2>retrieving </mark><mark style=background-color:#d8efb9>information </mark><mark style=background-color:#e7f5d2>from </mark><mark style=background-color:#e7f5d3>the </mark><mark style=background-color:#dff2c4>incoming </mark><mark style=background-color:#ecf6de>telephone </mark><mark style=background-color:#ebf6db>calls </mark><mark style=background-color:#ebf6dc>comprising… </mark><mark style=background-color:#d4edb3>once </mark><mark style=background-color:#d9f0bc>the </mark><mark style=background-color:#f3f6ed>call </mark><mark style=background-color:#edf6df>is </mark><mark style=background-color:#edf6e1>received </mark><mark style=background-color:#e9f5d6>and </mark><mark style=background-color:#e9f5d8>connected </mark><mark style=background-color:#edf6df>to </mark><mark style=background-color:#e7f5d2>the </mark><mark style=background-color:#f8f3f6>phone </mark><mark style=background-color:#eff6e4>units </mark><mark style=background-color:#f9eff4>of </mark><mark style=background-color:#f1f6ea>and </mark><mark style=background-color:#f9f0f5>no </mark><mark style=background-color:#f3f6ed>further </mark><mark style=background-color:#faeaf2>connection </mark><mark style=background-color:#fde2f0>to </mark><mark style=background-color:#fad6ea>a </mark><mark style=background-color:#fbd9ec>voice </mark><mark style=background-color:#f8d0e7>mailbox </mark><mark style=background-color:#f5c6e2>is </mark><mark style=background-color:#f5c6e2>required </mark><mark style=background-color:#faebf3>and </mark><mark style=background-color:#f9f0f5>no </mark><mark style=background-color:#e9f5d8>such </mark><mark style=background-color:#f2f6ec>connection </mark><mark style=background-color:#e9f5d6>is </mark><mark style=background-color:#eef6e2>disclosed </mark><mark style=background-color:#fce5f1>because </mark><mark style=background-color:#f8f5f6>the </mark><mark style=background-color:#f9eef4>phone </mark><mark style=background-color:#fcdbed>itself </mark><mark style=background-color:#f6c9e3>functions </mark><mark style=background-color:#f1b7da>as </mark><mark style=background-color:#fbe9f2>the </mark><mark style=background-color:#fad4e9>voice </mark><mark style=background-color:#fbd8eb>mailbox </mark><mark style=background-color:#fde2f0>the </mark><mark style=background-color:#fce3f0>points </mark><mark style=background-color:#fde1ef>to </mark><mark style=background-color:#faebf3>of </mark><mark style=background-color:#f8f3f6>which </mark><mark style=background-color:#fce5f1>discloses </mark><mark style=background-color:#faedf3>a </mark><mark style=background-color:#f9f0f5>step </mark><mark style=background-color:#eaf5d9>named </mark><mark style=background-color:#f7f6f7>citing </mark><mark style=background-color:#d8efb9>but </mark><mark style=background-color:#eff6e5>step </mark><mark style=background-color:#e9f5d8>of </mark><mark style=background-color:#ecf6de>is </mark><mark style=background-color:#e7f5d3>part </mark><mark style=background-color:#e2f3ca>of </mark><mark style=background-color:#eff6e5>the </mark><mark style=background-color:#f4f7f0>answering </mark><mark style=background-color:#dff2c4>routine </mark><mark style=background-color:#e4f4cd>and </mark><mark style=background-color:#e9f5d6>merely </mark><mark style=background-color:#e7f5d2>describes </mark><mark style=background-color:#e7f5d2>connecting </mark><mark style=background-color:#ebf6db>a </mark><mark style=background-color:#f1f6ea>telephone </mark><mark style=background-color:#edf6df>circuit </mark><mark style=background-color:#f5f7f3>to </mark><mark style=background-color:#f7f6f7>the </mark><mark style=background-color:#f7f7f6>telephone </mark><mark style=background-color:#fce5f1>unit </mark><mark style=background-color:#faedf3>receiving </mark><mark style=background-color:#edf6e1>the </mark><mark style=background-color:#fbe9f2>call </mark><mark style=background-color:#fbe9f2>if </mark><mark style=background-color:#faeaf2>the </mark><mark style=background-color:#fcdbed>user </mark><mark style=background-color:#fde1ef>does </mark><mark style=background-color:#fde2f0>not </mark><mark style=background-color:#fbe7f2>pick </mark><mark style=background-color:#f3bcdd>up </mark><mark style=background-color:#fbe7f2>the </mark><mark style=background-color:#f9eff4>handset </mark><mark style=background-color:#fde2f0>telephone </mark><mark style=background-color:#faedf3>unit </mark><mark style=background-color:#fde0ef>automatically </mark><mark style=background-color:#fce3f0>plays </mark><mark style=background-color:#fcdbed>an </mark><mark style=background-color:#faedf3>outgoing </mark><mark style=background-color:#f9eef4>message </mark><mark style=background-color:#f7f7f6>requesting </mark><mark style=background-color:#f9f0f5>a </mark><mark style=background-color:#f7f7f6>voicemail </mark><mark style=background-color:#f5f7f2>and </mark><mark style=background-color:#d8efb9>stores </mark><mark style=background-color:#edf6e1>that </mark><mark style=background-color:#ebf6db>voicemail </mark><mark style=background-color:#f9f1f5>all </mark><mark style=background-color:#edf6df>of </mark><mark style=background-color:#f9f0f5>these </mark><mark style=background-color:#faebf3>steps </mark><mark style=background-color:#f8f4f6>are </mark><mark style=background-color:#fde1ef>handled </mark><mark style=background-color:#f6f7f5>by </mark><mark style=background-color:#fde0ef>and </mark><mark style=background-color:#faebf3>any </mark><mark style=background-color:#fce4f0>voice </mark><mark style=background-color:#f8f3f6>message </mark><mark style=background-color:#fde1ef>is </mark><mark style=background-color:#fcdded>stored </mark><mark style=background-color:#f7cce5>in </mark><mark style=background-color:#fce5f1>see </mark><mark style=background-color:#fce5f1>also </mark><mark style=background-color:#f8f2f5>the </mark><mark style=background-color:#fcdded>second </mark><mark style=background-color:#faedf3>response </mark><mark style=background-color:#f7f7f7>control </mark><mark style=background-color:#f8f5f6>means </mark><mark style=background-color:#f9eef4>automatically </mark><mark style=background-color:#fbe6f1>connects </mark><mark style=background-color:#fcdbed>the </mark><mark style=background-color:#f3bdde>line </mark><mark style=background-color:#fcdbed>to </mark><mark style=background-color:#fce4f0>the </mark><mark style=background-color:#f3f7ef>remote </mark><mark style=background-color:#f8f4f6>telephone </mark><mark style=background-color:#f7f6f7>automatically </mark><mark style=background-color:#e9f5d6>transmits </mark><mark style=background-color:#ebf6db>a </mark><mark style=background-color:#d4edb3>preset </mark><mark style=background-color:#c0e593>response </mark><mark style=background-color:#e9f5d8>message </mark><mark style=background-color:#f7f7f6>to </mark><mark style=background-color:#f9f1f5>the </mark><mark style=background-color:#eaf5d9>remote </mark><mark style=background-color:#fbe9f2>telephone </mark><mark style=background-color:#f9eff4>automatically </mark><mark style=background-color:#f9eef4>stores </mark><mark style=background-color:#f9eef4>in </mark><mark style=background-color:#f6f7f5>the </mark><mark style=background-color:#f9f0f5>memory </mark><mark style=background-color:#edf6e1>medium </mark><mark style=background-color:#f6f7f5>an </mark><mark style=background-color:#f8f5f6>incoming </mark><mark style=background-color:#fbe9f2>message </mark><mark style=background-color:#d8efb9>from </mark><mark style=background-color:#e7f5d2>a </mark><mark style=background-color:#e7f5d3>caller </mark><mark style=background-color:#dff2c4>after </mark><mark style=background-color:#ecf6de>transmission </mark><mark style=background-color:#ebf6db>of </mark><mark style=background-color:#ebf6dc>the </mark><mark style=background-color:#d4edb3>preset </mark><mark style=background-color:#d9f0bc>response </mark><mark style=background-color:#f3f6ed>message </mark><mark style=background-color:#edf6df>is </mark><mark style=background-color:#edf6e1>completed </mark><mark style=background-color:#e9f5d6>and </mark><mark style=background-color:#e9f5d8>then </mark><mark style=background-color:#edf6df>automatically </mark><mark style=background-color:#e7f5d2>disconnects </mark><mark style=background-color:#f8f3f6>the </mark><mark style=background-color:#eff6e4>line </mark><mark style=background-color:#f9eff4>from </mark><mark style=background-color:#f1f6ea>the </mark><mark style=background-color:#f9f0f5>remote </mark><mark style=background-color:#f3f6ed>telephone </mark><mark style=background-color:#faeaf2>emphasis </mark><mark style=background-color:#fde2f0>added </mark><mark style=background-color:#fad6ea>teaches </mark><mark style=background-color:#faebf3>a </mark><mark style=background-color:#fde0ef>similar </mark><mark style=background-color:#f8d0e7>method </mark><mark style=background-color:#fce5f1>wherein </mark><mark style=background-color:#fce3f0>after </mark><mark style=background-color:#fddeee>an </mark><mark style=background-color:#f6c9e3>incoming </mark><mark style=background-color:#f6c7e3>call </mark><mark style=background-color:#f2b8db>is </mark><mark style=background-color:#f1b5d9>received </mark><mark style=background-color:#f7cbe4>at </mark><mark style=background-color:#f2b8db>the </mark><mark style=background-color:#f7cce5>phone </mark><mark style=background-color:#f5c6e2>no </mark><mark style=background-color:#f8f3f6>further </mark><mark style=background-color:#fbe6f1>connection </mark><mark style=background-color:#fcdbed>is </mark><mark style=background-color:#f7cce5>made </mark><mark style=background-color:#f6c7e3>to </mark><mark style=background-color:#f1b5d9>a </mark><mark style=background-color:#f6c7e3>voice </mark><mark style=background-color:#fbd8eb>mailbox </mark><mark style=background-color:#fcdbed>because </mark><mark style=background-color:#f0f6e7>the </mark><mark style=background-color:#f5f7f3>phone </mark><mark style=background-color:#f7f7f7>itself </mark><mark style=background-color:#f5f7f3>is </mark><mark style=background-color:#e7f5d3>the </mark><mark style=background-color:#cfebaa>voice </mark><mark style=background-color:#edf6df>mailbox </mark><mark style=background-color:#acd977>ii </mark><mark style=background-color:#e9f5d6>automatically </mark><mark style=background-color:#bee490>dialing </mark><mark style=background-color:#bbe28a>the </mark><mark style=background-color:#7bb93e>telephone </mark><mark style=background-color:#a7d672>number </mark><mark style=background-color:#c9e8a2>at </mark><mark style=background-color:#bbe28a>a </mark><mark style=background-color:#d8efb9>request </mark><mark style=background-color:#dff2c4>of </mark><mark style=background-color:#eff6e4>the </mark><mark style=background-color:#f1f6e8>called </mark><mark style=background-color:#f9eff4>party </mark><mark style=background-color:#e7f5d3>while </mark><mark style=background-color:#f9eef4>the </mark><mark style=background-color:#f8f3f6>called </mark><mark style=background-color:#f8f3f6>party </mark><mark style=background-color:#faecf3>is </mark><mark style=background-color:#dff2c4>listening </mark><mark style=background-color:#f0f6e7>to </mark><mark style=background-color:#cdeaa7>the </mark><mark style=background-color:#f3f6ed>voice </mark><mark style=background-color:#eaf5d9>message </mark><mark style=background-color:#dbf0bf>further </mark><mark style=background-color:#ecf6de>recites </mark><mark style=background-color:#fce5f1>automatically </mark><mark style=background-color:#f9d3e8>dialing </mark><mark style=background-color:#f5c4e1>the </mark><mark style=background-color:#e89ac6>telephone </mark><mark style=background-color:#f8cee6>number </mark><mark style=background-color:#e897c4>at </mark><mark style=background-color:#f8d0e7>a </mark><mark style=background-color:#f8cee6>request </mark><mark style=background-color:#f1f6ea>of </mark><mark style=background-color:#edf6e1>the </mark><mark style=background-color:#d2ecb0>called </mark><mark style=background-color:#c0e593>party </mark><mark style=background-color:#e4f4cd>while </mark><mark style=background-color:#cdeaa7>the </mark><mark style=background-color:#c7e89f>called </mark><mark style=background-color:#cbe9a4>party </mark><mark style=background-color:#cfebaa>is </mark><mark style=background-color:#c7e89f>listening </mark><mark style=background-color:#f4f7f0>to </mark><mark style=background-color:#f7f6f7>the </mark><mark style=background-color:#f5f7f2>voice </mark><mark style=background-color:#ebf6db>message </mark><mark style=background-color:#faedf3>neither </mark><mark style=background-color:#fcdbed>nor </mark><mark style=background-color:#f9eef4>taken </mark><mark style=background-color:#fbe6f1>alone </mark><mark style=background-color:#e7f5d2>or </mark><mark style=background-color:#f6f7f5>in </mark><mark style=background-color:#faedf3>combination </mark><mark style=background-color:#fce5f1>teach </mark><mark style=background-color:#f7f7f6>or </mark><mark style=background-color:#f7f7f6>suggest </mark><mark style=background-color:#fce3f0>such </mark><mark style=background-color:#f5f7f2>features </mark><mark style=background-color:#f9eff4>is </mark><mark style=background-color:#f9eef4>directed </mark><mark style=background-color:#f7f7f6>to </mark><mark style=background-color:#e9f5d6>a </mark><mark style=background-color:#e9f5d6>versatile </mark><mark style=background-color:#e8f5d5>telephone </mark><mark style=background-color:#edf6df>unit </mark><mark style=background-color:#faedf3>subjected </mark><mark style=background-color:#fbe7f2>to </mark><mark style=background-color:#f7f6f7>a </mark><mark style=background-color:#f8f5f6>caller </mark><mark style=background-color:#fde2f0>telephone </mark><mark style=background-color:#f9d3e8>number </mark><mark style=background-color:#fbe6f1>reception </mark><mark style=background-color:#faeaf2>service </mark><mark style=background-color:#fbe9f2>emphasis </mark><mark style=background-color:#f9f0f5>added </mark><mark style=background-color:#fad6ea>repeatedly </mark><mark style=background-color:#fbd9ec>points </mark><mark style=background-color:#f8cee6>to </mark><mark style=background-color:#fddeee>a </mark><mark style=background-color:#f7cbe4><OOV> </mark><mark style=background-color:#fce5f1>that </mark><mark style=background-color:#fddeee>handles </mark><mark style=background-color:#fce4f0>the </mark><mark style=background-color:#fbe8f2>various </mark><mark style=background-color:#fce5f1>dialing </mark><mark style=background-color:#fcdbed>tasks </mark><mark style=background-color:#fbe9f2>id </mark><mark style=background-color:#f9f0f5>at </mark><mark style=background-color:#fbe8f2>would </mark><mark style=background-color:#fddeee>understand </mark><mark style=background-color:#f7cbe4>that </mark><mark style=background-color:#fad4e9>the </mark><mark style=background-color:#fce5f1>phone </mark><mark style=background-color:#f1f6e8>of </mark><mark style=background-color:#f7f6f7>is </mark><mark style=background-color:#f8f5f6>to </mark><mark style=background-color:#e9f5d8>be </mark><mark style=background-color:#eff6e5>used </mark><mark style=background-color:#e8f5d5>with </mark><mark style=background-color:#e9f5d6>a </mark><mark style=background-color:#f0f6e7>traditional </mark><mark style=background-color:#f2f6ec><OOV> </mark><mark style=background-color:#f8f5f6>with </mark><mark style=background-color:#f7f7f7><OOV> </mark><mark style=background-color:#fce3f0>that </mark><mark style=background-color:#fbe9f2>handle </mark><mark style=background-color:#fde2f0>dialing </mark><mark style=background-color:#fbe6f1>as </mark><mark style=background-color:#f9eef4>a </mark><mark style=background-color:#fce4f0>in </mark><mark style=background-color:#f7f7f6>would </mark><mark style=background-color:#faeaf2>have </mark><mark style=background-color:#f2f6ec>read </mark><mark style=background-color:#f7f6f7>disclosures </mark><mark style=background-color:#f9f0f5>of </mark><mark style=background-color:#f9eff4>a </mark><mark style=background-color:#faeaf2>reception </mark><mark style=background-color:#fce4f0>service </mark><mark style=background-color:#fcdded>combined </mark><mark style=background-color:#f7cbe4>with </mark><mark style=background-color:#eeadd4>a </mark><mark style=background-color:#f2b8db><OOV> </mark><mark style=background-color:#f2badc>to </mark><mark style=background-color:#eda8d1>be </mark><mark style=background-color:#f3bdde>referring </mark><mark style=background-color:#fce5f1>to </mark><mark style=background-color:#fbd9ec>a </mark><mark style=background-color:#faedf3>manually </mark><mark style=background-color:#f9f0f5>operated </mark><mark style=background-color:#e9f5d6><OOV> </mark><mark style=background-color:#f0f6e7>service </mark><mark style=background-color:#d0ecad>as </mark><mark style=background-color:#ecf6de>operated </mark><mark style=background-color:#ddf1c1>by </mark><mark style=background-color:#d8efb9>a </mark><mark style=background-color:#cdeaa7>traditional </mark><mark style=background-color:#cdeaa7><OOV> </mark><mark style=background-color:#edf6e1>operator </mark><mark style=background-color:#edf6df>defining </mark><mark style=background-color:#f3f6ed><OOV> </mark><mark style=background-color:#faebf3>as </mark><mark style=background-color:#f8f4f6>an </mark><mark style=background-color:#f8f2f5>assembly </mark><mark style=background-color:#f8f5f6>of </mark><mark style=background-color:#fce5f1>switch </mark><mark style=background-color:#fbe8f2>panels </mark><mark style=background-color:#faebf3>that </mark><mark style=background-color:#fbe8f2>is </mark><mark style=background-color:#f8f3f6>manually </mark><mark style=background-color:#faeaf2>operated </mark><mark style=background-color:#f6c7e3>at </mark><mark style=background-color:#f8cee6>a </mark><mark style=background-color:#f8f4f6>telephone </mark><mark style=background-color:#f6f7f5>exchange </mark><mark style=background-color:#f6f7f5>where </mark><mark style=background-color:#f6f7f5>all </mark><mark style=background-color:#f2f6ec>subscriber </mark><mark style=background-color:#e9f5d8>circuits </mark><mark style=background-color:#dff2c4>and </mark><mark style=background-color:#d9f0bc>other </mark><mark style=background-color:#d6eeb6>exchanges </mark><mark style=background-color:#e2f3ca>terminate </mark><mark style=background-color:#e4f4cd>so </mark><mark style=background-color:#e9f5d8>that </mark><mark style=background-color:#e9f5d6>operators </mark><mark style=background-color:#eff6e5>establish </mark><mark style=background-color:#e7f5d2>communication </mark><mark style=background-color:#ddf1c1>links </mark><mark style=background-color:#edf6e1>between </mark><mark style=background-color:#edf6df>two </mark><mark style=background-color:#f8f4f6>subscribers </mark><mark style=background-color:#f3f6ed>onto </mark><mark style=background-color:#eff6e4>the </mark><mark style=background-color:#f0f6e7>same </mark><mark style=background-color:#fbe9f2>or </mark><mark style=background-color:#f0f6e7>different </mark><mark style=background-color:#faeaf2>exchanges </mark><mark style=background-color:#f5f7f2>defining </mark><mark style=background-color:#eaf5d9>an </mark><mark style=background-color:#f7f7f6>operator </mark><mark style=background-color:#f7f7f7>as </mark><mark style=background-color:#f8f3f6>a </mark><mark style=background-color:#f5f7f2>person </mark><mark style=background-color:#eef6e2>who </mark><mark style=background-color:#edf6e1>controls </mark><mark style=background-color:#dff2c4>a </mark><mark style=background-color:#f8f3f6>machine </mark><mark style=background-color:#f8f4f6>or </mark><mark style=background-color:#f6f7f5>system </mark><mark style=background-color:#f8f3f6>such </mark><mark style=background-color:#f9f0f5>as </mark><mark style=background-color:#f3f7ef>a </mark><mark style=background-color:#f7f7f6>computer </mark><mark style=background-color:#fad4e9>or </mark><mark style=background-color:#faedf3>telephone </mark><mark style=background-color:#f7f7f6><OOV> </mark><mark style=background-color:#edf6df>discussing </mark><mark style=background-color:#fbe9f2>the </mark><mark style=background-color:#f1f6e8>historical </mark><mark style=background-color:#f4f7f0>role </mark><mark style=background-color:#f8f3f6>of </mark><mark style=background-color:#f1f6e8>the </mark><mark style=background-color:#f1f6ea>operator </mark><mark style=background-color:#fbe8f2>and </mark><mark style=background-color:#faebf3>the </mark><mark style=background-color:#f7f7f6>petition </mark><mark style=background-color:#f8f3f6>citation </mark><mark style=background-color:#faedf3>to </mark><mark style=background-color:#f9d3e8>for </mark><mark style=background-color:#fce4f0>claim </mark><mark style=background-color:#fad6ea>d </mark><mark style=background-color:#fcdbed>indicates </mark><mark style=background-color:#f9d3e8>that </mark><mark style=background-color:#fcdbed>a </mark><mark style=background-color:#fce5f1>caller </mark><mark style=background-color:#fbe8f2>telephone </mark><mark style=background-color:#fde2f0>number </mark><mark style=background-color:#f9f1f5>is </mark><mark style=background-color:#f5f7f2>not </mark><mark style=background-color:#ddf1c1>automatically </mark><mark style=background-color:#ddf1c1>dialed </mark><mark style=background-color:#f5f7f3>during </mark><mark style=background-color:#f2f6ec>playback </mark><mark style=background-color:#f6f7f5>of </mark><mark style=background-color:#d0ecad>a </mark><mark style=background-color:#d4edb3>voice </mark><mark style=background-color:#e9f5d8>message </mark><mark style=background-color:#d8efb9>in </mark><mark style=background-color:#e8f5d5>the </mark><mark style=background-color:#d4edb3>normal </mark><mark style=background-color:#e1f3c7>meaning </mark><mark style=background-color:#c2e596>of </mark><mark style=background-color:#f8f2f5>automatically </mark><mark style=background-color:#f8f2f5>dialed </mark><mark style=background-color:#f7f7f7>to </mark><mark style=background-color:#fbd9ec>a </mark><mark style=background-color:#fad4e9>citing </mark><mark style=background-color:#fbd8eb>instead </mark><mark style=background-color:#f8f2f5>merely </mark><mark style=background-color:#f9d3e8>describes </mark><mark style=background-color:#f7f7f6>that </mark><mark style=background-color:#f9f1f5>a </mark><mark style=background-color:#f8f3f6>user </mark><mark style=background-color:#ecf6de>is </mark><mark style=background-color:#f6f7f5>able </mark><mark style=background-color:#ecf6de>to </mark><mark style=background-color:#f8f5f6>transmit </mark><mark style=background-color:#f5f7f3>the </mark><mark style=background-color:#f8f5f6>caller </mark><mark style=background-color:#fbe9f2>telephone </mark><mark style=background-color:#f7f6f7>number </mark><mark style=background-color:#fce5f1>corresponding </mark><mark style=background-color:#faebf3>to </mark><mark style=background-color:#f5c4e1>the </mark><mark style=background-color:#fde1ef>incoming </mark><mark style=background-color:#f9eef4>message </mark><mark style=background-color:#fbe9f2>to </mark><mark style=background-color:#faebf3>the </mark><mark style=background-color:#fcdded><OOV> </mark><mark style=background-color:#fbe7f2>to </mark><mark style=background-color:#f9eef4>call </mark><mark style=background-color:#f8f2f5>a </mark><mark style=background-color:#f4f7f0>corresponding </mark><mark style=background-color:#f6f7f5>remote </mark><mark style=background-color:#e7f5d2>telephone </mark><mark style=background-color:#f9eef4>would </mark><mark style=background-color:#eff6e4>understand </mark><mark style=background-color:#e6f5d0>that </mark><mark style=background-color:#e9f5d8>any </mark><mark style=background-color:#e7f5d3>telephone </mark><mark style=background-color:#eaf5d9>number </mark><mark style=background-color:#f2f6ec>received </mark><mark style=background-color:#f9f1f5>at </mark><mark style=background-color:#f4f7f0>the </mark><mark style=background-color:#d9f0bc><OOV> </mark><mark style=background-color:#eff6e4>would </mark><mark style=background-color:#f1f6ea>merely </mark><mark style=background-color:#e2f3ca>cause </mark><mark style=background-color:#e1f3c7>a </mark><mark style=background-color:#ebf6dc><OOV> </mark><mark style=background-color:#e9f5d8>at </mark><mark style=background-color:#e2f3ca>the </mark><mark style=background-color:#f4f7f0><OOV> </mark><mark style=background-color:#f1f6e8>to </mark><mark style=background-color:#f7f6f7>dial </mark><mark style=background-color:#f2f6ec>the </mark><mark style=background-color:#f1f6e8>phone </mark><mark style=background-color:#eff6e4>number </mark><mark style=background-color:#f0f6e7>and </mark><mark style=background-color:#f9eef4>therefore </mark><mark style=background-color:#e6f5d0>would </mark><mark style=background-color:#f7f6f7>not </mark><mark style=background-color:#f7f7f7>be </mark><mark style=background-color:#f2f6ec>automatically </mark><mark style=background-color:#f5f7f3>dialed </mark><mark style=background-color:#ebf6dc>as </mark><mark style=background-color:#ddf1c1>required </mark><mark style=background-color:#d6eeb6>by </mark><mark style=background-color:#e2f3ca>claim </mark><mark style=background-color:#e9f5d8>d </mark><mark style=background-color:#d6eeb6>the </mark><mark style=background-color:#c2e596>citations </mark><mark style=background-color:#f9eef4>to </mark><mark style=background-color:#f4f7f0>other </mark><mark style=background-color:#fce5f1>portions </mark><mark style=background-color:#fbe9f2>of </mark><mark style=background-color:#fcdded>that </mark><mark style=background-color:#fddeee>say </mark><mark style=background-color:#f6f7f5>the </mark><mark style=background-color:#fde2f0>push </mark><mark style=background-color:#fce5f1>of </mark><mark style=background-color:#fce4f0>a </mark><mark style=background-color:#f7f6f7>button </mark><mark style=background-color:#fbe7f2>on </mark><mark style=background-color:#fce3f0>the </mark><mark style=background-color:#f7cce5>phone </mark><mark style=background-color:#fcdbed>dials </mark><mark style=background-color:#fde1ef>a </mark><mark style=background-color:#fce5f1>telephone </mark><mark style=background-color:#f9eef4>number </mark><mark style=background-color:#fce4f0>appears </mark><mark style=background-color:#f9eef4>to </mark><mark style=background-color:#fce5f1>be </mark><mark style=background-color:#faedf3>shorthand </mark><mark style=background-color:#fbe7f2>used </mark><mark style=background-color:#fbe7f2>in </mark><mark style=background-color:#f8f4f6>drafting </mark><mark style=background-color:#fbe6f1>the </mark><mark style=background-color:#f7f7f6>specification </mark><mark style=background-color:#eff6e4>discloses </mark><mark style=background-color:#e7f5d2>only </mark><mark style=background-color:#e9f5d6>one </mark><mark style=background-color:#d9f0bc>method </mark><mark style=background-color:#e4f4cd>of </mark><mark style=background-color:#e1f3c7>making </mark><mark style=background-color:#e1f3c7>telephone </mark><mark style=background-color:#c7e89f>calls </mark><mark style=background-color:#e4f4cd>through </mark><mark style=background-color:#e2f3ca>its </mark><mark style=background-color:#f1f6e8>system </mark><mark style=background-color:#edf6df>and </mark><mark style=background-color:#f0f6e7>that </mark><mark style=background-color:#edf6e1>is </mark><mark style=background-color:#f8f2f5>through </mark><mark style=background-color:#e4f4cd>manual </mark><mark style=background-color:#f7f7f7><OOV> </mark><mark style=background-color:#eff6e4>does </mark><mark style=background-color:#f9eef4>not </mark><mark style=background-color:#f5f7f2>remedy </mark><mark style=background-color:#f8f3f6>the </mark><mark style=background-color:#ebf6dc>deficiencies </mark><mark style=background-color:#edf6e1>of </mark><mark style=background-color:#dff2c4>specifically </mark><mark style=background-color:#d9f0bc>does </mark><mark style=background-color:#cbe9a4>not </mark><mark style=background-color:#cfebaa>disclose </mark><mark style=background-color:#d8efb9>or </mark><mark style=background-color:#b0dc7d>suggest </mark><mark style=background-color:#c4e699>automatically </mark><mark style=background-color:#88c24c>dialing </mark><mark style=background-color:#cbe9a4>the </mark><mark style=background-color:#e6f5d0>telephone </mark><mark style=background-color:#ebf6dc>number </mark><mark style=background-color:#f1f6ea>at </mark><mark style=background-color:#f8f3f6>a </mark><mark style=background-color:#f9d3e8>request </mark><mark style=background-color:#f4c1df>of </mark><mark style=background-color:#eda8d1>the </mark><mark style=background-color:#dc70aa>called </mark><mark style=background-color:#dc70aa>party </mark><mark style=background-color:#dc70aa>while </mark><mark style=background-color:#dc70aa>the </mark><mark style=background-color:#dc70aa>called </mark><mark style=background-color:#dc70aa>party </mark><mark style=background-color:#dc70aa>is </mark><mark style=background-color:#dc70aa>listening </mark><mark style=background-color:#dc70aa>to </mark><mark style=background-color:#dc70aa>the </mark><mark style=background-color:#dc70aa>voice </mark><mark style=background-color:#dc70aa>message </mark><mark style=background-color:#dc70aa>as </mark><mark style=background-color:#dc70aa>required </mark><mark style=background-color:#dc70aa>by </mark><mark style=background-color:#dc70aa>claim </mark><mark style=background-color:#dc70aa>d </mark><mark style=background-color:#dc70aa>merely </mark><mark style=background-color:#dc70aa>discloses </mark><mark style=background-color:#dc70aa>that </mark><mark style=background-color:#dc70aa>a </mark><mark style=background-color:#dc70aa>data </mark><mark style=background-color:#dc70aa>record </mark><mark style=background-color:#dc70aa>matching </mark><mark style=background-color:#dc70aa>the </mark><mark style=background-color:#dc70aa>caller </mark><mark style=background-color:#dc70aa>who </mark><mark style=background-color:#dc70aa>left </mark><mark style=background-color:#dc70aa>the </mark><mark style=background-color:#dc70aa>voice </mark><mark style=background-color:#dc70aa>mail </mark><mark style=background-color:#dc70aa>can </mark><mark style=background-color:#dc70aa>be </mark><mark style=background-color:#dc70aa>displayed </mark><mark style=background-color:#dc70aa>while </mark><mark style=background-color:#dc70aa>the </mark><mark style=background-color:#dc70aa>message </mark><mark style=background-color:#dc70aa>is </mark><mark style=background-color:#dc70aa>being </mark><mark style=background-color:#dc70aa>played </mark><mark style=background-color:#dc70aa>back </mark><mark style=background-color:#dc70aa>then </mark><mark style=background-color:#dc70aa>in </mark><mark style=background-color:#dc70aa>a </mark><mark style=background-color:#dc70aa>next </mark><mark style=background-color:#dc70aa>step </mark><mark style=background-color:#dc70aa>discloses </mark><mark style=background-color:#dc70aa>that </mark><mark style=background-color:#dc70aa>a </mark><mark style=background-color:#dc70aa>user </mark><mark style=background-color:#dc70aa>can </mark><mark style=background-color:#dc70aa>press </mark><mark style=background-color:#dc70aa>something </mark><mark style=background-color:#dc70aa>referred </mark><mark style=background-color:#dc70aa>to </mark><mark style=background-color:#dc70aa>as </mark><mark style=background-color:#dc70aa>to </mark><mark style=background-color:#dc70aa>cause </mark><mark style=background-color:#dc70aa>the </mark><mark style=background-color:#dc70aa>system </mark><mark style=background-color:#dc70aa>to </mark><mark style=background-color:#dc70aa>dial </mark><mark style=background-color:#dc70aa>a </mark><mark style=background-color:#dc70aa>phone </mark><mark style=background-color:#dc70aa>number </mark><mark style=background-color:#dc70aa>of </mark><mark style=background-color:#dc70aa>the </mark><mark style=background-color:#dc70aa>calling </mark><mark style=background-color:#dc70aa>party </mark><mark style=background-color:#dc70aa>therefore </mark><mark style=background-color:#dc70aa>does </mark><mark style=background-color:#dc70aa>not </mark><mark style=background-color:#dc70aa>disclose </mark><mark style=background-color:#dc70aa>that </mark><mark style=background-color:#dc70aa>the </mark><mark style=background-color:#dc70aa>functionality </mark><mark style=background-color:#dc70aa>is </mark><mark style=background-color:#dc70aa>available </mark><mark style=background-color:#dc70aa>while </mark><mark style=background-color:#dc70aa>the </mark><mark style=background-color:#dc70aa>called </mark><mark style=background-color:#dc70aa>party </mark><mark style=background-color:#dc70aa>is </mark><mark style=background-color:#dc70aa>listening </mark><mark style=background-color:#dc70aa>to </mark><mark style=background-color:#dc70aa>the </mark><mark style=background-color:#dc70aa>voice </mark><mark style=background-color:#dc70aa>message </mark><mark style=background-color:#dc70aa>in </mark><mark style=background-color:#dc70aa>fact </mark><mark style=background-color:#dc70aa>a </mark><mark style=background-color:#dc70aa>viewing </mark><mark style=background-color:#dc70aa>would </mark><mark style=background-color:#dc70aa>understand </mark><mark style=background-color:#dc70aa>that </mark><mark style=background-color:#dc70aa>as </mark><mark style=background-color:#dc70aa>shown </mark><mark style=background-color:#dc70aa>in </mark><mark style=background-color:#dc70aa>of </mark><mark style=background-color:#dc70aa>the </mark><mark style=background-color:#dc70aa>voice </mark><mark style=background-color:#dc70aa>message </mark><mark style=background-color:#dc70aa>is </mark><mark style=background-color:#dc70aa>fully </mark><mark style=background-color:#dc70aa>played </mark><mark style=background-color:#dc70aa>back </mark><mark style=background-color:#dc70aa>and </mark><mark style=background-color:#dc70aa>then </mark><mark style=background-color:#dc70aa>after </mark><mark style=background-color:#dc70aa>that </mark><mark style=background-color:#dc70aa>step </mark><mark style=background-color:#dc70aa>is </mark><mark style=background-color:#dc70aa>completed </mark><mark style=background-color:#dc70aa>a </mark><mark style=background-color:#dc70aa>user </mark><mark style=background-color:#dc70aa>can </mark><mark style=background-color:#dc70aa>select </mark><mark style=background-color:#dc70aa>a </mark><mark style=background-color:#dc70aa>number </mark><mark style=background-color:#dc70aa>to </mark><mark style=background-color:#dc70aa>return </mark><mark style=background-color:#dc70aa>the </mark><mark style=background-color:#dc70aa>call </mark><mark style=background-color:#dc70aa>of </mark><mark style=background-color:#dc70aa>the </mark><mark style=background-color:#dc70aa>calling </mark><mark style=background-color:#dc70aa>party </mark><mark style=background-color:#dc70aa>in </mark><mark style=background-color:#dc70aa>addition </mark><mark style=background-color:#dc70aa>a </mark><mark style=background-color:#dc70aa>would </mark><mark style=background-color:#dc70aa>not </mark><mark style=background-color:#dc70aa>have </mark><mark style=background-color:#dc70aa>sought </mark><mark style=background-color:#dc70aa>to </mark><mark style=background-color:#dc70aa>combine </mark><mark style=background-color:#dc70aa>the </mark><mark style=background-color:#dc70aa>manual </mark><mark style=background-color:#dc70aa><OOV> </mark><mark style=background-color:#dc70aa>teachings </mark><mark style=background-color:#dc70aa>of </mark><mark style=background-color:#dc70aa>with </mark><mark style=background-color:#dc70aa>the </mark><mark style=background-color:#dc70aa>automated </mark><mark style=background-color:#dc70aa>system </mark><mark style=background-color:#dc70aa>of </mark><mark style=background-color:#dc70aa>the </mark><mark style=background-color:#dc70aa>provides </mark><mark style=background-color:#dc70aa>no </mark><mark style=background-color:#dc70aa>rationale </mark><mark style=background-color:#dc70aa>for </mark><mark style=background-color:#dc70aa>how </mark><mark style=background-color:#dc70aa>the </mark><mark style=background-color:#dc70aa>alleged </mark><mark style=background-color:#dc70aa>automatic </mark><mark style=background-color:#dc70aa>dialing </mark><mark style=background-color:#dc70aa>feature </mark><mark style=background-color:#dc70aa>of </mark><mark style=background-color:#dc70aa>could </mark><mark style=background-color:#dc70aa>be </mark><mark style=background-color:#dc70aa>implemented </mark><mark style=background-color:#dc70aa>into </mark><mark style=background-color:#dc70aa>the </mark><mark style=background-color:#dc70aa>manual </mark><mark style=background-color:#dc70aa><OOV> </mark><mark style=background-color:#dc70aa>system </mark><mark style=background-color:#dc70aa>of </mark><mark style=background-color:#dc70aa>and </mark><mark style=background-color:#dc70aa>neither </mark><mark style=background-color:#dc70aa>the </mark><mark style=background-color:#dc70aa>nor </mark><mark style=background-color:#dc70aa>appears </mark><mark style=background-color:#dc70aa>to </mark><mark style=background-color:#dc70aa>have </mark><mark style=background-color:#dc70aa>recognized </mark><mark style=background-color:#dc70aa>that </mark><mark style=background-color:#dc70aa>describes </mark><mark style=background-color:#dc70aa>a </mark><mark style=background-color:#dc70aa>phone </mark><mark style=background-color:#dc70aa>for </mark><mark style=background-color:#dc70aa>use </mark><mark style=background-color:#dc70aa>with </mark><mark style=background-color:#dc70aa>a </mark><mark style=background-color:#dc70aa>manual </mark><mark style=background-color:#dc70aa><OOV> </mark><mark style=background-color:#dc70aa>reception </mark><mark style=background-color:#dc70aa>service </mark><mark style=background-color:#dc70aa>would </mark><mark style=background-color:#dc70aa>not </mark><mark style=background-color:#dc70aa>have </mark><mark style=background-color:#dc70aa>been </mark><mark style=background-color:#dc70aa>motivated </mark><mark style=background-color:#dc70aa>to </mark><mark style=background-color:#dc70aa>make </mark><mark style=background-color:#dc70aa>such </mark><mark style=background-color:#dc70aa>a </mark><mark style=background-color:#dc70aa>modification </mark><mark style=background-color:#dc70aa>and </mark><mark style=background-color:#dc70aa>would </mark><mark style=background-color:#dc70aa>not </mark><mark style=background-color:#dc70aa>have </mark><mark style=background-color:#dc70aa>a </mark>"
            ],
            "text/plain": [
              "<IPython.core.display.HTML object>"
            ]
          },
          "metadata": {},
          "execution_count": 58
        }
      ],
      "source": [
        "N = 8\n",
        "n = 7   # document index\n",
        "print(pred                                                                                                                                                                                                                               [n])\n",
        "xlen = np.where(X_test[n]==0)[0][0]\n",
        "attvec = att[N][n][:xlen]\n",
        "xvec = tok2int.reverse([X_test[n][:xlen]])[0]\n",
        "strlen = len(attvec)\n",
        "THRESH = np.median(attvec)\n",
        "colors = colorize(attvec - THRESH)\n",
        "\n",
        "HTML(\"\".join(list(map(hlstr, xvec.split(), colors))))"
      ]
    },
    {
      "cell_type": "markdown",
      "source": [
        "Highest attention words in sample"
      ],
      "metadata": {
        "id": "HSMCjnRAOSm1"
      }
    },
    {
      "cell_type": "code",
      "source": [
        "uniquetokens = np.unique(xtest[n][:xlen])\n",
        "print(len(uniquetokens))\n",
        "tokpos = [np.where(xtest[n][:xlen] == tok)[0] for tok in uniquetokens]\n",
        "meanatt = np.array([np.mean(att[2][n][np.array(tpos)]) for tpos in tokpos])\n",
        "tokens_sorted_by_meanatt = uniquetokens[np.argsort(-meanatt)]"
      ],
      "metadata": {
        "colab": {
          "base_uri": "https://localhost:8080/"
        },
        "id": "m8U2xDZ_L7Nu",
        "outputId": "9aef17aa-cddb-467d-f8c6-e43786812cc0"
      },
      "execution_count": null,
      "outputs": [
        {
          "output_type": "stream",
          "name": "stdout",
          "text": [
            "605\n"
          ]
        }
      ]
    },
    {
      "cell_type": "code",
      "source": [
        "pd.DataFrame.from_dict({'Attention':[tok2int.index_word[t] for t in tokens_sorted_by_meanatt[:20]]})"
      ],
      "metadata": {
        "colab": {
          "base_uri": "https://localhost:8080/",
          "height": 677
        },
        "id": "UJQzk6d8n7ZL",
        "outputId": "76ef312a-d2bc-4991-81b2-c6fa8cf0597d"
      },
      "execution_count": null,
      "outputs": [
        {
          "output_type": "execute_result",
          "data": {
            "text/html": [
              "\n",
              "  <div id=\"df-6034ea00-cfbe-4f43-93d6-cce5e624849e\">\n",
              "    <div class=\"colab-df-container\">\n",
              "      <div>\n",
              "<style scoped>\n",
              "    .dataframe tbody tr th:only-of-type {\n",
              "        vertical-align: middle;\n",
              "    }\n",
              "\n",
              "    .dataframe tbody tr th {\n",
              "        vertical-align: top;\n",
              "    }\n",
              "\n",
              "    .dataframe thead th {\n",
              "        text-align: right;\n",
              "    }\n",
              "</style>\n",
              "<table border=\"1\" class=\"dataframe\">\n",
              "  <thead>\n",
              "    <tr style=\"text-align: right;\">\n",
              "      <th></th>\n",
              "      <th>Attention</th>\n",
              "    </tr>\n",
              "  </thead>\n",
              "  <tbody>\n",
              "    <tr>\n",
              "      <th>0</th>\n",
              "      <td>processor</td>\n",
              "    </tr>\n",
              "    <tr>\n",
              "      <th>1</th>\n",
              "      <td>entirety</td>\n",
              "    </tr>\n",
              "    <tr>\n",
              "      <th>2</th>\n",
              "      <td>patents</td>\n",
              "    </tr>\n",
              "    <tr>\n",
              "      <th>3</th>\n",
              "      <td>foregoing</td>\n",
              "    </tr>\n",
              "    <tr>\n",
              "      <th>4</th>\n",
              "      <td>cryptographic</td>\n",
              "    </tr>\n",
              "    <tr>\n",
              "      <th>5</th>\n",
              "      <td>cure</td>\n",
              "    </tr>\n",
              "    <tr>\n",
              "      <th>6</th>\n",
              "      <td>makes</td>\n",
              "    </tr>\n",
              "    <tr>\n",
              "      <th>7</th>\n",
              "      <td>amounts</td>\n",
              "    </tr>\n",
              "    <tr>\n",
              "      <th>8</th>\n",
              "      <td>keys</td>\n",
              "    </tr>\n",
              "    <tr>\n",
              "      <th>9</th>\n",
              "      <td>briefs</td>\n",
              "    </tr>\n",
              "    <tr>\n",
              "      <th>10</th>\n",
              "      <td>certificate</td>\n",
              "    </tr>\n",
              "    <tr>\n",
              "      <th>11</th>\n",
              "      <td>another</td>\n",
              "    </tr>\n",
              "    <tr>\n",
              "      <th>12</th>\n",
              "      <td>requires</td>\n",
              "    </tr>\n",
              "    <tr>\n",
              "      <th>13</th>\n",
              "      <td>unsupported</td>\n",
              "    </tr>\n",
              "    <tr>\n",
              "      <th>14</th>\n",
              "      <td>except</td>\n",
              "    </tr>\n",
              "    <tr>\n",
              "      <th>15</th>\n",
              "      <td>situated</td>\n",
              "    </tr>\n",
              "    <tr>\n",
              "      <th>16</th>\n",
              "      <td>mentioned</td>\n",
              "    </tr>\n",
              "    <tr>\n",
              "      <th>17</th>\n",
              "      <td>fully</td>\n",
              "    </tr>\n",
              "    <tr>\n",
              "      <th>18</th>\n",
              "      <td>unpatentable</td>\n",
              "    </tr>\n",
              "    <tr>\n",
              "      <th>19</th>\n",
              "      <td>device</td>\n",
              "    </tr>\n",
              "  </tbody>\n",
              "</table>\n",
              "</div>\n",
              "      <button class=\"colab-df-convert\" onclick=\"convertToInteractive('df-6034ea00-cfbe-4f43-93d6-cce5e624849e')\"\n",
              "              title=\"Convert this dataframe to an interactive table.\"\n",
              "              style=\"display:none;\">\n",
              "        \n",
              "  <svg xmlns=\"http://www.w3.org/2000/svg\" height=\"24px\"viewBox=\"0 0 24 24\"\n",
              "       width=\"24px\">\n",
              "    <path d=\"M0 0h24v24H0V0z\" fill=\"none\"/>\n",
              "    <path d=\"M18.56 5.44l.94 2.06.94-2.06 2.06-.94-2.06-.94-.94-2.06-.94 2.06-2.06.94zm-11 1L8.5 8.5l.94-2.06 2.06-.94-2.06-.94L8.5 2.5l-.94 2.06-2.06.94zm10 10l.94 2.06.94-2.06 2.06-.94-2.06-.94-.94-2.06-.94 2.06-2.06.94z\"/><path d=\"M17.41 7.96l-1.37-1.37c-.4-.4-.92-.59-1.43-.59-.52 0-1.04.2-1.43.59L10.3 9.45l-7.72 7.72c-.78.78-.78 2.05 0 2.83L4 21.41c.39.39.9.59 1.41.59.51 0 1.02-.2 1.41-.59l7.78-7.78 2.81-2.81c.8-.78.8-2.07 0-2.86zM5.41 20L4 18.59l7.72-7.72 1.47 1.35L5.41 20z\"/>\n",
              "  </svg>\n",
              "      </button>\n",
              "      \n",
              "  <style>\n",
              "    .colab-df-container {\n",
              "      display:flex;\n",
              "      flex-wrap:wrap;\n",
              "      gap: 12px;\n",
              "    }\n",
              "\n",
              "    .colab-df-convert {\n",
              "      background-color: #E8F0FE;\n",
              "      border: none;\n",
              "      border-radius: 50%;\n",
              "      cursor: pointer;\n",
              "      display: none;\n",
              "      fill: #1967D2;\n",
              "      height: 32px;\n",
              "      padding: 0 0 0 0;\n",
              "      width: 32px;\n",
              "    }\n",
              "\n",
              "    .colab-df-convert:hover {\n",
              "      background-color: #E2EBFA;\n",
              "      box-shadow: 0px 1px 2px rgba(60, 64, 67, 0.3), 0px 1px 3px 1px rgba(60, 64, 67, 0.15);\n",
              "      fill: #174EA6;\n",
              "    }\n",
              "\n",
              "    [theme=dark] .colab-df-convert {\n",
              "      background-color: #3B4455;\n",
              "      fill: #D2E3FC;\n",
              "    }\n",
              "\n",
              "    [theme=dark] .colab-df-convert:hover {\n",
              "      background-color: #434B5C;\n",
              "      box-shadow: 0px 1px 3px 1px rgba(0, 0, 0, 0.15);\n",
              "      filter: drop-shadow(0px 1px 2px rgba(0, 0, 0, 0.3));\n",
              "      fill: #FFFFFF;\n",
              "    }\n",
              "  </style>\n",
              "\n",
              "      <script>\n",
              "        const buttonEl =\n",
              "          document.querySelector('#df-6034ea00-cfbe-4f43-93d6-cce5e624849e button.colab-df-convert');\n",
              "        buttonEl.style.display =\n",
              "          google.colab.kernel.accessAllowed ? 'block' : 'none';\n",
              "\n",
              "        async function convertToInteractive(key) {\n",
              "          const element = document.querySelector('#df-6034ea00-cfbe-4f43-93d6-cce5e624849e');\n",
              "          const dataTable =\n",
              "            await google.colab.kernel.invokeFunction('convertToInteractive',\n",
              "                                                     [key], {});\n",
              "          if (!dataTable) return;\n",
              "\n",
              "          const docLinkHtml = 'Like what you see? Visit the ' +\n",
              "            '<a target=\"_blank\" href=https://colab.research.google.com/notebooks/data_table.ipynb>data table notebook</a>'\n",
              "            + ' to learn more about interactive tables.';\n",
              "          element.innerHTML = '';\n",
              "          dataTable['output_type'] = 'display_data';\n",
              "          await google.colab.output.renderOutput(dataTable, element);\n",
              "          const docLink = document.createElement('div');\n",
              "          docLink.innerHTML = docLinkHtml;\n",
              "          element.appendChild(docLink);\n",
              "        }\n",
              "      </script>\n",
              "    </div>\n",
              "  </div>\n",
              "  "
            ],
            "text/plain": [
              "        Attention\n",
              "0       processor\n",
              "1        entirety\n",
              "2         patents\n",
              "3       foregoing\n",
              "4   cryptographic\n",
              "5            cure\n",
              "6           makes\n",
              "7         amounts\n",
              "8            keys\n",
              "9          briefs\n",
              "10    certificate\n",
              "11        another\n",
              "12       requires\n",
              "13    unsupported\n",
              "14         except\n",
              "15       situated\n",
              "16      mentioned\n",
              "17          fully\n",
              "18   unpatentable\n",
              "19         device"
            ]
          },
          "metadata": {},
          "execution_count": 37
        }
      ]
    },
    {
      "cell_type": "markdown",
      "source": [
        "##LIME Analysis"
      ],
      "metadata": {
        "id": "PLCP7ucjOGGx"
      }
    },
    {
      "cell_type": "code",
      "execution_count": null,
      "metadata": {
        "id": "44AaMHd3wGA5"
      },
      "outputs": [],
      "source": [
        "def lean_wrapper(texts):\n",
        "    x = pad_sequences(DTP.texts_to_sequences(texts),\n",
        "                      maxlen = Params['text_length'],\n",
        "                      padding='post',\n",
        "                      truncating='post')\n",
        "    return np.hstack((1-model.predict(x), model.predict(x)))"
      ]
    },
    {
      "cell_type": "code",
      "execution_count": null,
      "metadata": {
        "id": "sEeA4AEzzRBZ"
      },
      "outputs": [],
      "source": [
        "n = 2774\n",
        "xvec = DTP.sequences_to_texts([X_data[n]])[0]\n",
        "\n",
        "exp = LimeTextExplainer(class_names={0:'Denied',1:'Granted'})\n",
        "exp_doc = exp.explain_instance(xvec, lean_wrapper, num_features=50)\n",
        "# explist = exp_doc.as_list()\n",
        "exp_doc.show_in_notebook()"
      ]
    },
    {
      "cell_type": "code",
      "execution_count": null,
      "metadata": {
        "id": "8mKglEF9buWx"
      },
      "outputs": [],
      "source": [
        ""
      ]
    }
  ],
  "metadata": {
    "accelerator": "TPU",
    "colab": {
      "collapsed_sections": [],
      "name": "PTAB_Model_Responses_github.ipynb",
      "provenance": [],
      "toc_visible": true,
      "mount_file_id": "1X-M2SntuvoGIIjwFAtPNNIHXyKqSTUsK",
      "authorship_tag": "ABX9TyOFmMroyymx7756xgTlcntK",
      "include_colab_link": true
    },
    "kernelspec": {
      "display_name": "Python 3",
      "name": "python3"
    },
    "language_info": {
      "name": "python"
    },
    "widgets": {
      "application/vnd.jupyter.widget-state+json": {
        "1b33de2a3a4a470aa6f07253885fe1bc": {
          "model_module": "@jupyter-widgets/controls",
          "model_name": "HBoxModel",
          "model_module_version": "1.5.0",
          "state": {
            "_view_name": "HBoxView",
            "_dom_classes": [],
            "_model_name": "HBoxModel",
            "_view_module": "@jupyter-widgets/controls",
            "_model_module_version": "1.5.0",
            "_view_count": null,
            "_view_module_version": "1.5.0",
            "box_style": "",
            "layout": "IPY_MODEL_f63479552d154f019a083d60b5f7262e",
            "_model_module": "@jupyter-widgets/controls",
            "children": [
              "IPY_MODEL_64723b9f5a9742df9ba5425820b8674d",
              "IPY_MODEL_a30de5d77e1b46bd83cf8ecbeed63171",
              "IPY_MODEL_237488437a3a452493d875733ed29275"
            ]
          }
        },
        "f63479552d154f019a083d60b5f7262e": {
          "model_module": "@jupyter-widgets/base",
          "model_name": "LayoutModel",
          "model_module_version": "1.2.0",
          "state": {
            "_view_name": "LayoutView",
            "grid_template_rows": null,
            "right": null,
            "justify_content": null,
            "_view_module": "@jupyter-widgets/base",
            "overflow": null,
            "_model_module_version": "1.2.0",
            "_view_count": null,
            "flex_flow": null,
            "width": null,
            "min_width": null,
            "border": null,
            "align_items": null,
            "bottom": null,
            "_model_module": "@jupyter-widgets/base",
            "top": null,
            "grid_column": null,
            "overflow_y": null,
            "overflow_x": null,
            "grid_auto_flow": null,
            "grid_area": null,
            "grid_template_columns": null,
            "flex": null,
            "_model_name": "LayoutModel",
            "justify_items": null,
            "grid_row": null,
            "max_height": null,
            "align_content": null,
            "visibility": null,
            "align_self": null,
            "height": null,
            "min_height": null,
            "padding": null,
            "grid_auto_rows": null,
            "grid_gap": null,
            "max_width": null,
            "order": null,
            "_view_module_version": "1.2.0",
            "grid_template_areas": null,
            "object_position": null,
            "object_fit": null,
            "grid_auto_columns": null,
            "margin": null,
            "display": null,
            "left": null
          }
        },
        "64723b9f5a9742df9ba5425820b8674d": {
          "model_module": "@jupyter-widgets/controls",
          "model_name": "HTMLModel",
          "model_module_version": "1.5.0",
          "state": {
            "_view_name": "HTMLView",
            "style": "IPY_MODEL_7c0035c0c2f842448c19f92eb1ac54d9",
            "_dom_classes": [],
            "description": "",
            "_model_name": "HTMLModel",
            "placeholder": "​",
            "_view_module": "@jupyter-widgets/controls",
            "_model_module_version": "1.5.0",
            "value": "100%",
            "_view_count": null,
            "_view_module_version": "1.5.0",
            "description_tooltip": null,
            "_model_module": "@jupyter-widgets/controls",
            "layout": "IPY_MODEL_acfb2bfc634642cd86aad9009938c455"
          }
        },
        "a30de5d77e1b46bd83cf8ecbeed63171": {
          "model_module": "@jupyter-widgets/controls",
          "model_name": "FloatProgressModel",
          "model_module_version": "1.5.0",
          "state": {
            "_view_name": "ProgressView",
            "style": "IPY_MODEL_4ef7df9baa4444f5979dabf24975ffeb",
            "_dom_classes": [],
            "description": "",
            "_model_name": "FloatProgressModel",
            "bar_style": "success",
            "max": 2631,
            "_view_module": "@jupyter-widgets/controls",
            "_model_module_version": "1.5.0",
            "value": 2631,
            "_view_count": null,
            "_view_module_version": "1.5.0",
            "orientation": "horizontal",
            "min": 0,
            "description_tooltip": null,
            "_model_module": "@jupyter-widgets/controls",
            "layout": "IPY_MODEL_46c770d287cb402a91ccbf7feece5753"
          }
        },
        "237488437a3a452493d875733ed29275": {
          "model_module": "@jupyter-widgets/controls",
          "model_name": "HTMLModel",
          "model_module_version": "1.5.0",
          "state": {
            "_view_name": "HTMLView",
            "style": "IPY_MODEL_84be481bd1844259a25de6207ce09998",
            "_dom_classes": [],
            "description": "",
            "_model_name": "HTMLModel",
            "placeholder": "​",
            "_view_module": "@jupyter-widgets/controls",
            "_model_module_version": "1.5.0",
            "value": " 2631/2631 [00:05&lt;00:00, 477.85it/s]",
            "_view_count": null,
            "_view_module_version": "1.5.0",
            "description_tooltip": null,
            "_model_module": "@jupyter-widgets/controls",
            "layout": "IPY_MODEL_3dbc67b9c8c646bd934013cb45df9907"
          }
        },
        "7c0035c0c2f842448c19f92eb1ac54d9": {
          "model_module": "@jupyter-widgets/controls",
          "model_name": "DescriptionStyleModel",
          "model_module_version": "1.5.0",
          "state": {
            "_view_name": "StyleView",
            "_model_name": "DescriptionStyleModel",
            "description_width": "",
            "_view_module": "@jupyter-widgets/base",
            "_model_module_version": "1.5.0",
            "_view_count": null,
            "_view_module_version": "1.2.0",
            "_model_module": "@jupyter-widgets/controls"
          }
        },
        "acfb2bfc634642cd86aad9009938c455": {
          "model_module": "@jupyter-widgets/base",
          "model_name": "LayoutModel",
          "model_module_version": "1.2.0",
          "state": {
            "_view_name": "LayoutView",
            "grid_template_rows": null,
            "right": null,
            "justify_content": null,
            "_view_module": "@jupyter-widgets/base",
            "overflow": null,
            "_model_module_version": "1.2.0",
            "_view_count": null,
            "flex_flow": null,
            "width": null,
            "min_width": null,
            "border": null,
            "align_items": null,
            "bottom": null,
            "_model_module": "@jupyter-widgets/base",
            "top": null,
            "grid_column": null,
            "overflow_y": null,
            "overflow_x": null,
            "grid_auto_flow": null,
            "grid_area": null,
            "grid_template_columns": null,
            "flex": null,
            "_model_name": "LayoutModel",
            "justify_items": null,
            "grid_row": null,
            "max_height": null,
            "align_content": null,
            "visibility": null,
            "align_self": null,
            "height": null,
            "min_height": null,
            "padding": null,
            "grid_auto_rows": null,
            "grid_gap": null,
            "max_width": null,
            "order": null,
            "_view_module_version": "1.2.0",
            "grid_template_areas": null,
            "object_position": null,
            "object_fit": null,
            "grid_auto_columns": null,
            "margin": null,
            "display": null,
            "left": null
          }
        },
        "4ef7df9baa4444f5979dabf24975ffeb": {
          "model_module": "@jupyter-widgets/controls",
          "model_name": "ProgressStyleModel",
          "model_module_version": "1.5.0",
          "state": {
            "_view_name": "StyleView",
            "_model_name": "ProgressStyleModel",
            "description_width": "",
            "_view_module": "@jupyter-widgets/base",
            "_model_module_version": "1.5.0",
            "_view_count": null,
            "_view_module_version": "1.2.0",
            "bar_color": null,
            "_model_module": "@jupyter-widgets/controls"
          }
        },
        "46c770d287cb402a91ccbf7feece5753": {
          "model_module": "@jupyter-widgets/base",
          "model_name": "LayoutModel",
          "model_module_version": "1.2.0",
          "state": {
            "_view_name": "LayoutView",
            "grid_template_rows": null,
            "right": null,
            "justify_content": null,
            "_view_module": "@jupyter-widgets/base",
            "overflow": null,
            "_model_module_version": "1.2.0",
            "_view_count": null,
            "flex_flow": null,
            "width": null,
            "min_width": null,
            "border": null,
            "align_items": null,
            "bottom": null,
            "_model_module": "@jupyter-widgets/base",
            "top": null,
            "grid_column": null,
            "overflow_y": null,
            "overflow_x": null,
            "grid_auto_flow": null,
            "grid_area": null,
            "grid_template_columns": null,
            "flex": null,
            "_model_name": "LayoutModel",
            "justify_items": null,
            "grid_row": null,
            "max_height": null,
            "align_content": null,
            "visibility": null,
            "align_self": null,
            "height": null,
            "min_height": null,
            "padding": null,
            "grid_auto_rows": null,
            "grid_gap": null,
            "max_width": null,
            "order": null,
            "_view_module_version": "1.2.0",
            "grid_template_areas": null,
            "object_position": null,
            "object_fit": null,
            "grid_auto_columns": null,
            "margin": null,
            "display": null,
            "left": null
          }
        },
        "84be481bd1844259a25de6207ce09998": {
          "model_module": "@jupyter-widgets/controls",
          "model_name": "DescriptionStyleModel",
          "model_module_version": "1.5.0",
          "state": {
            "_view_name": "StyleView",
            "_model_name": "DescriptionStyleModel",
            "description_width": "",
            "_view_module": "@jupyter-widgets/base",
            "_model_module_version": "1.5.0",
            "_view_count": null,
            "_view_module_version": "1.2.0",
            "_model_module": "@jupyter-widgets/controls"
          }
        },
        "3dbc67b9c8c646bd934013cb45df9907": {
          "model_module": "@jupyter-widgets/base",
          "model_name": "LayoutModel",
          "model_module_version": "1.2.0",
          "state": {
            "_view_name": "LayoutView",
            "grid_template_rows": null,
            "right": null,
            "justify_content": null,
            "_view_module": "@jupyter-widgets/base",
            "overflow": null,
            "_model_module_version": "1.2.0",
            "_view_count": null,
            "flex_flow": null,
            "width": null,
            "min_width": null,
            "border": null,
            "align_items": null,
            "bottom": null,
            "_model_module": "@jupyter-widgets/base",
            "top": null,
            "grid_column": null,
            "overflow_y": null,
            "overflow_x": null,
            "grid_auto_flow": null,
            "grid_area": null,
            "grid_template_columns": null,
            "flex": null,
            "_model_name": "LayoutModel",
            "justify_items": null,
            "grid_row": null,
            "max_height": null,
            "align_content": null,
            "visibility": null,
            "align_self": null,
            "height": null,
            "min_height": null,
            "padding": null,
            "grid_auto_rows": null,
            "grid_gap": null,
            "max_width": null,
            "order": null,
            "_view_module_version": "1.2.0",
            "grid_template_areas": null,
            "object_position": null,
            "object_fit": null,
            "grid_auto_columns": null,
            "margin": null,
            "display": null,
            "left": null
          }
        }
      }
    }
  },
  "nbformat": 4,
  "nbformat_minor": 0
}